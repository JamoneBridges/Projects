{
 "cells": [
  {
   "cell_type": "markdown",
   "id": "af81bc38",
   "metadata": {
    "id": "af81bc38",
    "tags": []
   },
   "source": [
    "<div id=\"container\" style=\"position:relative;\">\n",
    "<div style=\"float:left\"><h1> Introduction to Spark </h1></div>\n",
    "<div style=\"position:relative; float:right\"><img style=\"height:65px\" src=\"data:image/png;base64,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\" />\n",
    "</div>\n",
    "</div>"
   ]
  },
  {
   "cell_type": "markdown",
   "id": "ab3a6c4c",
   "metadata": {
    "id": "ab3a6c4c"
   },
   "source": [
    "### What is Spark?"
   ]
  },
  {
   "cell_type": "markdown",
   "id": "258f8917",
   "metadata": {
    "id": "258f8917"
   },
   "source": [
    "Apache Spark is an in-memory distributed computing system with high-level APIs in Java, Scala, Python and R, and a graph-based optimization engine. It also supports a rich set of higher-level tools including \n",
    "- _Spark SQL_ for SQL and structured data processing,\n",
    "- _MLlib_ for supervised and unsupervised machine learning,\n",
    "- _GraphX_ for graph processing, and \n",
    "- _Spark Streaming_ for working with live data streams.\n",
    "\n",
    "Unlike Hadoop, Spark does not write to disk but keeps data in memory and so is typically much faster for performing data engineering, analysis, and modeling tasks within Big Data environments and with large data sets."
   ]
  },
  {
   "cell_type": "markdown",
   "id": "b958c44c",
   "metadata": {
    "id": "b958c44c"
   },
   "source": [
    "### Spark Basics and Environment Setup"
   ]
  },
  {
   "cell_type": "markdown",
   "id": "cc22b1f2",
   "metadata": {
    "id": "cc22b1f2"
   },
   "source": [
    "First we will initialize the [SparkContext and SparkSession](https://spark.apache.org/docs/2.2.0/rdd-programming-guide.html#initializing-spark) - make sure you have the `PySpark` environment selected, otherwise the Spark session need to be initialized manually.\n",
    "\n",
    "Once the session is initialized, we can view running jobs and other related information in the [Spark Web UI](https://spark.apache.org/docs/latest/monitoring.html#web-interfaces). \n",
    "\n",
    "By default, the UI is accessed through port 4040, and can be accessed by either navigating the Web UI URL on that port (default: http://localhost:4040) or by accessing through the SparkSession object details. (Note: On EMR, viewing the Spark UI and Driver log links below requires SSH tunneling with port-forwarding)."
   ]
  },
  {
   "cell_type": "code",
   "execution_count": 1,
   "id": "3d953356",
   "metadata": {
    "colab": {
     "referenced_widgets": [
      "5b653e8b9caf4c38bdeef8a32c693851",
      ""
     ]
    },
    "execution": {
     "iopub.execute_input": "2023-05-29T19:31:15.040044Z",
     "iopub.status.busy": "2023-05-29T19:31:15.039682Z",
     "iopub.status.idle": "2023-05-29T19:31:45.781115Z",
     "shell.execute_reply": "2023-05-29T19:31:45.780361Z",
     "shell.execute_reply.started": "2023-05-29T19:31:15.040008Z"
    },
    "id": "3d953356",
    "outputId": "c42cf025-38cd-48b3-a831-ae6681dad8e4",
    "tags": []
   },
   "outputs": [
    {
     "data": {
      "application/vnd.jupyter.widget-view+json": {
       "model_id": "2ff54dafe04f40d4a155f533290f28aa",
       "version_major": 2,
       "version_minor": 0
      },
      "text/plain": [
       "VBox()"
      ]
     },
     "metadata": {},
     "output_type": "display_data"
    },
    {
     "name": "stdout",
     "output_type": "stream",
     "text": [
      "Starting Spark application\n"
     ]
    },
    {
     "data": {
      "text/html": [
       "<table>\n",
       "<tbody><tr><th>ID</th><th>YARN Application ID</th><th>Kind</th><th>State</th><th>Spark UI</th><th>Driver log</th><th>User</th><th>Current session?</th></tr><tr><td>1</td><td>application_1685387058025_0002</td><td>pyspark</td><td>idle</td><td><a target=\"_blank\" href=\"http://ip-172-31-2-124.ec2.internal:20888/proxy/application_1685387058025_0002/\" class=\"emr-proxy-link j-13DJNPS7D9XU3 application_1685387058025_0002\" emr-resource=\"j-13DJNPS7D9XU3\n",
       "\" application-id=\"application_1685387058025_0002\">Link</a></td><td><a target=\"_blank\" href=\"http://ip-172-31-5-1.ec2.internal:8042/node/containerlogs/container_1685387058025_0002_01_000001/livy\">Link</a></td><td>None</td><td>✔</td></tr></tbody></table>"
      ],
      "text/plain": [
       "<IPython.core.display.HTML object>"
      ]
     },
     "metadata": {},
     "output_type": "display_data"
    },
    {
     "data": {
      "application/vnd.jupyter.widget-view+json": {
       "model_id": "",
       "version_major": 2,
       "version_minor": 0
      },
      "text/plain": [
       "FloatProgress(value=0.0, bar_style='info', description='Progress:', layout=Layout(height='25px', width='50%'),…"
      ]
     },
     "metadata": {},
     "output_type": "display_data"
    },
    {
     "name": "stdout",
     "output_type": "stream",
     "text": [
      "SparkSession available as 'spark'.\n"
     ]
    },
    {
     "data": {
      "application/vnd.jupyter.widget-view+json": {
       "model_id": "",
       "version_major": 2,
       "version_minor": 0
      },
      "text/plain": [
       "FloatProgress(value=0.0, bar_style='info', description='Progress:', layout=Layout(height='25px', width='50%'),…"
      ]
     },
     "metadata": {},
     "output_type": "display_data"
    },
    {
     "name": "stdout",
     "output_type": "stream",
     "text": [
      "<pyspark.sql.session.SparkSession object at 0x7fc08e7ad510>"
     ]
    }
   ],
   "source": [
    "spark"
   ]
  },
  {
   "cell_type": "markdown",
   "id": "95847acd",
   "metadata": {
    "id": "95847acd"
   },
   "source": [
    "We can then check the available python packages and potentially add new ones - we will make sure that `pandas` and `matplotlib` are both available for us. "
   ]
  },
  {
   "cell_type": "code",
   "execution_count": 2,
   "id": "908ab3b0",
   "metadata": {
    "colab": {
     "referenced_widgets": [
      "153f95dd622f48b3ab4b66790cf3bbac",
      ""
     ]
    },
    "execution": {
     "iopub.execute_input": "2023-05-29T19:31:45.782430Z",
     "iopub.status.busy": "2023-05-29T19:31:45.782165Z",
     "iopub.status.idle": "2023-05-29T19:31:46.544546Z",
     "shell.execute_reply": "2023-05-29T19:31:46.543718Z",
     "shell.execute_reply.started": "2023-05-29T19:31:45.782406Z"
    },
    "id": "908ab3b0",
    "outputId": "040336b4-06b0-4849-f72c-dacb39aa758b",
    "scrolled": true,
    "tags": []
   },
   "outputs": [
    {
     "data": {
      "application/vnd.jupyter.widget-view+json": {
       "model_id": "00a967cdb62a43dfa7b0dec18926464a",
       "version_major": 2,
       "version_minor": 0
      },
      "text/plain": [
       "VBox()"
      ]
     },
     "metadata": {},
     "output_type": "display_data"
    },
    {
     "data": {
      "application/vnd.jupyter.widget-view+json": {
       "model_id": "",
       "version_major": 2,
       "version_minor": 0
      },
      "text/plain": [
       "FloatProgress(value=0.0, bar_style='info', description='Progress:', layout=Layout(height='25px', width='50%'),…"
      ]
     },
     "metadata": {},
     "output_type": "display_data"
    },
    {
     "name": "stdout",
     "output_type": "stream",
     "text": [
      "Package                    Version\n",
      "-------------------------- ----------\n",
      "aws-cfn-bootstrap          2.0\n",
      "beautifulsoup4             4.9.3\n",
      "boto                       2.49.0\n",
      "click                      8.1.3\n",
      "docutils                   0.14\n",
      "jmespath                   1.0.1\n",
      "joblib                     1.2.0\n",
      "lockfile                   0.11.0\n",
      "lxml                       4.9.2\n",
      "mysqlclient                1.4.2\n",
      "nltk                       3.8\n",
      "nose                       1.3.4\n",
      "numpy                      1.20.0\n",
      "pip                        20.2.2\n",
      "py-dateutil                2.2\n",
      "pystache                   0.5.4\n",
      "python-daemon              2.2.3\n",
      "python37-sagemaker-pyspark 1.4.2\n",
      "pytz                       2022.7\n",
      "PyYAML                     5.4.1\n",
      "regex                      2021.11.10\n",
      "setuptools                 28.8.0\n",
      "simplejson                 3.2.0\n",
      "six                        1.13.0\n",
      "tqdm                       4.64.1\n",
      "wheel                      0.29.0\n",
      "windmill                   1.6\n",
      "\n",
      "WARNING: The directory '/home/.cache/pip' or its parent directory is not owned or is not writable by the current user. The cache has been disabled. Check the permissions and owner of that directory. If executing pip with sudo, you may want sudo's -H flag."
     ]
    }
   ],
   "source": [
    "sc.list_packages()"
   ]
  },
  {
   "cell_type": "markdown",
   "id": "a796d023-41f3-43fe-bc0a-f6896e3fe973",
   "metadata": {
    "id": "a796d023-41f3-43fe-bc0a-f6896e3fe973"
   },
   "source": [
    "**Troubleshooting**: if you get an error, that could be due to the Spark configuration set differently. Try running the following piece of code in a new cell at the very beginning of the notebook first:\n",
    "\n",
    "```python\n",
    "%%configure -f\n",
    "{\n",
    "    \"conf\": {\n",
    "        \"spark.pyspark.python\": \"python3\",\n",
    "        \"spark.pyspark.virtualenv.enabled\": \"true\",\n",
    "        \"spark.pyspark.virtualenv.type\":\"native\",\n",
    "        \"spark.pyspark.virtualenv.bin.path\":\"/usr/bin/virtualenv\"\n",
    "    }\n",
    "}\n",
    "```\n",
    "\n",
    "You can double-check these settings by running the following cell:"
   ]
  },
  {
   "cell_type": "code",
   "execution_count": 3,
   "id": "99cd1732-841d-4682-8ef6-e181123e9adc",
   "metadata": {
    "execution": {
     "iopub.execute_input": "2023-05-29T19:31:46.546186Z",
     "iopub.status.busy": "2023-05-29T19:31:46.545832Z",
     "iopub.status.idle": "2023-05-29T19:31:46.575579Z",
     "shell.execute_reply": "2023-05-29T19:31:46.574794Z",
     "shell.execute_reply.started": "2023-05-29T19:31:46.546148Z"
    },
    "id": "99cd1732-841d-4682-8ef6-e181123e9adc",
    "outputId": "a9989650-caf2-4615-fdb7-c39b7104a15d",
    "tags": []
   },
   "outputs": [
    {
     "data": {
      "text/html": [
       "Current session configs: <tt>{'proxyUser': 'user_dsoukup', 'conf': {'spark.pyspark.python': 'python3', 'spark.pyspark.virtualenv.enabled': 'true', 'spark.pyspark.virtualenv.type': 'native', 'spark.pyspark.virtualenv.bin.path': '/usr/bin/virtualenv'}, 'kind': 'pyspark'}</tt><br>"
      ],
      "text/plain": [
       "<IPython.core.display.HTML object>"
      ]
     },
     "metadata": {},
     "output_type": "display_data"
    },
    {
     "data": {
      "text/html": [
       "<table>\n",
       "<tbody><tr><th>ID</th><th>YARN Application ID</th><th>Kind</th><th>State</th><th>Spark UI</th><th>Driver log</th><th>User</th><th>Current session?</th></tr><tr><td>1</td><td>application_1685387058025_0002</td><td>pyspark</td><td>idle</td><td><a target=\"_blank\" href=\"http://ip-172-31-2-124.ec2.internal:20888/proxy/application_1685387058025_0002/\" class=\"emr-proxy-link j-13DJNPS7D9XU3 application_1685387058025_0002\" emr-resource=\"j-13DJNPS7D9XU3\n",
       "\" application-id=\"application_1685387058025_0002\">Link</a></td><td><a target=\"_blank\" href=\"http://ip-172-31-5-1.ec2.internal:8042/node/containerlogs/container_1685387058025_0002_01_000001/livy\">Link</a></td><td>None</td><td>✔</td></tr></tbody></table>"
      ],
      "text/plain": [
       "<IPython.core.display.HTML object>"
      ]
     },
     "metadata": {},
     "output_type": "display_data"
    }
   ],
   "source": [
    "%%info"
   ]
  },
  {
   "cell_type": "code",
   "execution_count": 4,
   "id": "ba3e81c2-d4ba-47af-bedb-d22f295e9d88",
   "metadata": {
    "colab": {
     "referenced_widgets": [
      "20ff0ed89faf42b08840d8e5d7de4af3",
      ""
     ]
    },
    "execution": {
     "iopub.execute_input": "2023-05-29T19:31:46.577280Z",
     "iopub.status.busy": "2023-05-29T19:31:46.576941Z",
     "iopub.status.idle": "2023-05-29T19:32:05.913299Z",
     "shell.execute_reply": "2023-05-29T19:32:05.912384Z",
     "shell.execute_reply.started": "2023-05-29T19:31:46.577244Z"
    },
    "id": "ba3e81c2-d4ba-47af-bedb-d22f295e9d88",
    "outputId": "1260cf70-90eb-4738-dac3-4d8f3114d51a",
    "tags": []
   },
   "outputs": [
    {
     "data": {
      "application/vnd.jupyter.widget-view+json": {
       "model_id": "7e7710226b1a4ce99cff28ed486fcef6",
       "version_major": 2,
       "version_minor": 0
      },
      "text/plain": [
       "VBox()"
      ]
     },
     "metadata": {},
     "output_type": "display_data"
    },
    {
     "data": {
      "application/vnd.jupyter.widget-view+json": {
       "model_id": "",
       "version_major": 2,
       "version_minor": 0
      },
      "text/plain": [
       "FloatProgress(value=0.0, bar_style='info', description='Progress:', layout=Layout(height='25px', width='50%'),…"
      ]
     },
     "metadata": {},
     "output_type": "display_data"
    },
    {
     "name": "stdout",
     "output_type": "stream",
     "text": [
      "Collecting pandas==1.0.5\n",
      "  Downloading pandas-1.0.5-cp37-cp37m-manylinux1_x86_64.whl (10.1 MB)\n",
      "Collecting python-dateutil>=2.6.1\n",
      "  Downloading python_dateutil-2.8.2-py2.py3-none-any.whl (247 kB)\n",
      "Requirement already satisfied: pytz>=2017.2 in /usr/local/lib/python3.7/site-packages (from pandas==1.0.5) (2022.7)\n",
      "Requirement already satisfied: numpy>=1.13.3 in /usr/local/lib64/python3.7/site-packages (from pandas==1.0.5) (1.20.0)\n",
      "Requirement already satisfied: six>=1.5 in /usr/local/lib/python3.7/site-packages (from python-dateutil>=2.6.1->pandas==1.0.5) (1.13.0)\n",
      "Installing collected packages: python-dateutil, pandas\n",
      "Successfully installed pandas-1.0.5 python-dateutil-2.8.2\n",
      "\n",
      "Collecting matplotlib==3.1.1\n",
      "  Downloading matplotlib-3.1.1-cp37-cp37m-manylinux1_x86_64.whl (13.1 MB)\n",
      "Collecting cycler>=0.10\n",
      "  Downloading cycler-0.11.0-py3-none-any.whl (6.4 kB)\n",
      "Collecting pyparsing!=2.0.4,!=2.1.2,!=2.1.6,>=2.0.1\n",
      "  Downloading pyparsing-3.0.9-py3-none-any.whl (98 kB)\n",
      "Requirement already satisfied: numpy>=1.11 in /usr/local/lib64/python3.7/site-packages (from matplotlib==3.1.1) (1.20.0)\n",
      "Requirement already satisfied: python-dateutil>=2.1 in ./tmp/1685388702505-0/lib/python3.7/site-packages (from matplotlib==3.1.1) (2.8.2)\n",
      "Collecting kiwisolver>=1.0.1\n",
      "  Downloading kiwisolver-1.4.4-cp37-cp37m-manylinux_2_5_x86_64.manylinux1_x86_64.whl (1.1 MB)\n",
      "Requirement already satisfied: six>=1.5 in /usr/local/lib/python3.7/site-packages (from python-dateutil>=2.1->matplotlib==3.1.1) (1.13.0)\n",
      "Collecting typing-extensions; python_version < \"3.8\"\n",
      "  Downloading typing_extensions-4.6.2-py3-none-any.whl (31 kB)\n",
      "Installing collected packages: cycler, pyparsing, typing-extensions, kiwisolver, matplotlib\n",
      "Successfully installed cycler-0.11.0 kiwisolver-1.4.4 matplotlib-3.1.1 pyparsing-3.0.9 typing-extensions-4.6.2\n",
      "\n",
      "WARNING: The directory '/home/.cache/pip' or its parent directory is not owned or is not writable by the current user. The cache has been disabled. Check the permissions and owner of that directory. If executing pip with sudo, you may want sudo's -H flag.\n",
      "\n",
      "WARNING: The directory '/home/.cache/pip' or its parent directory is not owned or is not writable by the current user. The cache has been disabled. Check the permissions and owner of that directory. If executing pip with sudo, you may want sudo's -H flag."
     ]
    }
   ],
   "source": [
    "# install data science & plotting packages\n",
    "\n",
    "sc.install_pypi_package(\"pandas==1.0.5\") \n",
    "sc.install_pypi_package(\"matplotlib==3.1.1\")"
   ]
  },
  {
   "cell_type": "markdown",
   "id": "ca04459f-2ddd-45c0-abce-20ce2c35af9c",
   "metadata": {
    "id": "ca04459f-2ddd-45c0-abce-20ce2c35af9c"
   },
   "source": [
    "We can now check that the packages can be imported:"
   ]
  },
  {
   "cell_type": "code",
   "execution_count": 5,
   "id": "e166ba2b-5ede-4243-9fb2-ba7b00e65310",
   "metadata": {
    "colab": {
     "referenced_widgets": [
      "0bc61b02899b43cd818c58fadda2e48e",
      ""
     ]
    },
    "execution": {
     "iopub.execute_input": "2023-05-29T19:32:05.914744Z",
     "iopub.status.busy": "2023-05-29T19:32:05.914435Z",
     "iopub.status.idle": "2023-05-29T19:32:07.187424Z",
     "shell.execute_reply": "2023-05-29T19:32:07.186565Z",
     "shell.execute_reply.started": "2023-05-29T19:32:05.914676Z"
    },
    "id": "e166ba2b-5ede-4243-9fb2-ba7b00e65310",
    "outputId": "82dcec56-0cb5-466b-847a-a0343758b33f",
    "tags": []
   },
   "outputs": [
    {
     "data": {
      "application/vnd.jupyter.widget-view+json": {
       "model_id": "ad505f43665c4318972db9db6c5d977d",
       "version_major": 2,
       "version_minor": 0
      },
      "text/plain": [
       "VBox()"
      ]
     },
     "metadata": {},
     "output_type": "display_data"
    },
    {
     "data": {
      "application/vnd.jupyter.widget-view+json": {
       "model_id": "",
       "version_major": 2,
       "version_minor": 0
      },
      "text/plain": [
       "FloatProgress(value=0.0, bar_style='info', description='Progress:', layout=Layout(height='25px', width='50%'),…"
      ]
     },
     "metadata": {},
     "output_type": "display_data"
    }
   ],
   "source": [
    "import pandas as pd\n",
    "import matplotlib.pyplot as plt"
   ]
  },
  {
   "cell_type": "markdown",
   "id": "fa227a24-60a5-44b7-9807-72326f50c5e7",
   "metadata": {
    "id": "fa227a24-60a5-44b7-9807-72326f50c5e7"
   },
   "source": [
    "You can find more information on working with Python libraries on EMR Notebooks in [this post](https://aws.amazon.com/blogs/big-data/install-python-libraries-on-a-running-cluster-with-emr-notebooks/) by AWS."
   ]
  },
  {
   "cell_type": "markdown",
   "id": "71a34927",
   "metadata": {
    "id": "71a34927"
   },
   "source": [
    "When we are finished with all our work, a Spark session can be halted with `stop()`."
   ]
  },
  {
   "cell_type": "code",
   "execution_count": 6,
   "id": "e5f2537e",
   "metadata": {
    "colab": {
     "referenced_widgets": [
      "9d592e775f5c4475abe37d49ed59473a",
      ""
     ]
    },
    "execution": {
     "iopub.execute_input": "2023-05-29T19:32:07.188684Z",
     "iopub.status.busy": "2023-05-29T19:32:07.188441Z",
     "iopub.status.idle": "2023-05-29T19:32:07.235627Z",
     "shell.execute_reply": "2023-05-29T19:32:07.234923Z",
     "shell.execute_reply.started": "2023-05-29T19:32:07.188660Z"
    },
    "id": "e5f2537e",
    "outputId": "d670a6c3-0913-4cc5-ec91-7af53440566a",
    "tags": []
   },
   "outputs": [
    {
     "data": {
      "application/vnd.jupyter.widget-view+json": {
       "model_id": "3b7fd478211c438aaa01cc18069022bc",
       "version_major": 2,
       "version_minor": 0
      },
      "text/plain": [
       "VBox()"
      ]
     },
     "metadata": {},
     "output_type": "display_data"
    },
    {
     "data": {
      "application/vnd.jupyter.widget-view+json": {
       "model_id": "",
       "version_major": 2,
       "version_minor": 0
      },
      "text/plain": [
       "FloatProgress(value=0.0, bar_style='info', description='Progress:', layout=Layout(height='25px', width='50%'),…"
      ]
     },
     "metadata": {},
     "output_type": "display_data"
    }
   ],
   "source": [
    "# Do not run! (we're going to keep working)\n",
    "# spark.stop()"
   ]
  },
  {
   "cell_type": "markdown",
   "id": "9ce689dc",
   "metadata": {
    "id": "9ce689dc",
    "tags": []
   },
   "source": [
    "### Working with Spark RDDs"
   ]
  },
  {
   "cell_type": "markdown",
   "id": "0adde04d",
   "metadata": {
    "id": "0adde04d"
   },
   "source": [
    "The main abstraction Spark uses are objects called *resilient distributed datasets* (in short, RDDs), which partitions and distributes data across the nodes of the cluster such that it can be operated on in parallel.\n",
    "\n",
    "There are two ways to create an RDD: either by parallelizing existing data in memory, or by reading in / referencing a data set.\n",
    "\n",
    "For the former, if we have regular data in python, _e.g._ in a list, we can distribute it across the memory of the nodes by using `sc.parallelize()`. This will return an object of class RDD:"
   ]
  },
  {
   "cell_type": "code",
   "execution_count": 7,
   "id": "3877f68a",
   "metadata": {
    "colab": {
     "referenced_widgets": [
      "13293a134df94f238b8a44cd411da1e9",
      ""
     ]
    },
    "execution": {
     "iopub.execute_input": "2023-05-29T19:32:07.236832Z",
     "iopub.status.busy": "2023-05-29T19:32:07.236581Z",
     "iopub.status.idle": "2023-05-29T19:32:10.517345Z",
     "shell.execute_reply": "2023-05-29T19:32:10.516570Z",
     "shell.execute_reply.started": "2023-05-29T19:32:07.236809Z"
    },
    "id": "3877f68a",
    "outputId": "0bef1ed0-2e47-4725-eacb-033037eab75e",
    "tags": []
   },
   "outputs": [
    {
     "data": {
      "application/vnd.jupyter.widget-view+json": {
       "model_id": "0f9787506a5f4f05a541fdbdf348483d",
       "version_major": 2,
       "version_minor": 0
      },
      "text/plain": [
       "VBox()"
      ]
     },
     "metadata": {},
     "output_type": "display_data"
    },
    {
     "data": {
      "application/vnd.jupyter.widget-view+json": {
       "model_id": "",
       "version_major": 2,
       "version_minor": 0
      },
      "text/plain": [
       "FloatProgress(value=0.0, bar_style='info', description='Progress:', layout=Layout(height='25px', width='50%'),…"
      ]
     },
     "metadata": {},
     "output_type": "display_data"
    },
    {
     "name": "stdout",
     "output_type": "stream",
     "text": [
      "<class 'pyspark.rdd.RDD'>"
     ]
    }
   ],
   "source": [
    "import numpy as np\n",
    "\n",
    "data = np.random.rand(10**6, 5)\n",
    "\n",
    "distdata = sc.parallelize(data)\n",
    "\n",
    "print(distdata.__class__)"
   ]
  },
  {
   "cell_type": "markdown",
   "id": "94b16d6c-8088-4756-ba45-f7f77d447cbf",
   "metadata": {
    "id": "94b16d6c-8088-4756-ba45-f7f77d447cbf"
   },
   "source": [
    "We can also read data into an RDD directly from a datasource. Here we will work with the [Open Air Quality dataset](https://registry.opendata.aws/openaq/) from OpenAQ, which is publicly readable from an S3 bucket:"
   ]
  },
  {
   "cell_type": "code",
   "execution_count": 8,
   "id": "63b1e884-68fa-4ffa-80b3-07d7e67c2a57",
   "metadata": {
    "colab": {
     "referenced_widgets": [
      "7e610745d17d4c58a2881d039523e27d",
      ""
     ]
    },
    "execution": {
     "iopub.execute_input": "2023-05-29T19:32:10.518631Z",
     "iopub.status.busy": "2023-05-29T19:32:10.518369Z",
     "iopub.status.idle": "2023-05-29T19:32:10.790855Z",
     "shell.execute_reply": "2023-05-29T19:32:10.789907Z",
     "shell.execute_reply.started": "2023-05-29T19:32:10.518605Z"
    },
    "id": "63b1e884-68fa-4ffa-80b3-07d7e67c2a57",
    "outputId": "8e910c7c-242c-4788-8462-56d124af633a",
    "tags": []
   },
   "outputs": [
    {
     "data": {
      "application/vnd.jupyter.widget-view+json": {
       "model_id": "96f707ed5e6949568a62d1fadaa32326",
       "version_major": 2,
       "version_minor": 0
      },
      "text/plain": [
       "VBox()"
      ]
     },
     "metadata": {},
     "output_type": "display_data"
    },
    {
     "data": {
      "application/vnd.jupyter.widget-view+json": {
       "model_id": "",
       "version_major": 2,
       "version_minor": 0
      },
      "text/plain": [
       "FloatProgress(value=0.0, bar_style='info', description='Progress:', layout=Layout(height='25px', width='50%'),…"
      ]
     },
     "metadata": {},
     "output_type": "display_data"
    }
   ],
   "source": [
    "data = sc.textFile('s3://brainstation-dsft/sparklab/openaq-2017-09-05.csv')"
   ]
  },
  {
   "cell_type": "code",
   "execution_count": 9,
   "id": "c440cbbb",
   "metadata": {
    "execution": {
     "iopub.execute_input": "2023-05-29T19:32:10.793981Z",
     "iopub.status.busy": "2023-05-29T19:32:10.793731Z",
     "iopub.status.idle": "2023-05-29T19:32:10.852802Z",
     "shell.execute_reply": "2023-05-29T19:32:10.851877Z",
     "shell.execute_reply.started": "2023-05-29T19:32:10.793957Z"
    }
   },
   "outputs": [
    {
     "data": {
      "application/vnd.jupyter.widget-view+json": {
       "model_id": "6913093c17c1495888ecb1e3b69f5563",
       "version_major": 2,
       "version_minor": 0
      },
      "text/plain": [
       "VBox()"
      ]
     },
     "metadata": {},
     "output_type": "display_data"
    },
    {
     "data": {
      "application/vnd.jupyter.widget-view+json": {
       "model_id": "",
       "version_major": 2,
       "version_minor": 0
      },
      "text/plain": [
       "FloatProgress(value=0.0, bar_style='info', description='Progress:', layout=Layout(height='25px', width='50%'),…"
      ]
     },
     "metadata": {},
     "output_type": "display_data"
    },
    {
     "name": "stdout",
     "output_type": "stream",
     "text": [
      "s3://brainstation-dsft/sparklab/openaq-2017-09-05.csv MapPartitionsRDD[6] at textFile at NativeMethodAccessorImpl.java:0"
     ]
    }
   ],
   "source": [
    "data"
   ]
  },
  {
   "cell_type": "markdown",
   "id": "500165c9",
   "metadata": {
    "id": "500165c9",
    "tags": []
   },
   "source": [
    "#### Inspecting Data"
   ]
  },
  {
   "cell_type": "markdown",
   "id": "cf8d8d18",
   "metadata": {
    "id": "cf8d8d18"
   },
   "source": [
    "To examine the first few rows of an RDD, we can call the `take` function:"
   ]
  },
  {
   "cell_type": "code",
   "execution_count": 10,
   "id": "dddbfe1d",
   "metadata": {
    "colab": {
     "referenced_widgets": [
      "5e4810e2101d42f88cb395b31b444ad5",
      ""
     ]
    },
    "execution": {
     "iopub.execute_input": "2023-05-29T19:32:10.854995Z",
     "iopub.status.busy": "2023-05-29T19:32:10.854690Z",
     "iopub.status.idle": "2023-05-29T19:32:18.144750Z",
     "shell.execute_reply": "2023-05-29T19:32:18.143729Z",
     "shell.execute_reply.started": "2023-05-29T19:32:10.854963Z"
    },
    "id": "dddbfe1d",
    "outputId": "8f831d0c-1d8d-4c3f-80c9-e7ded7fb5354",
    "tags": []
   },
   "outputs": [
    {
     "data": {
      "application/vnd.jupyter.widget-view+json": {
       "model_id": "7210af75d23441938b5676b54aebb201",
       "version_major": 2,
       "version_minor": 0
      },
      "text/plain": [
       "VBox()"
      ]
     },
     "metadata": {},
     "output_type": "display_data"
    },
    {
     "data": {
      "application/vnd.jupyter.widget-view+json": {
       "model_id": "",
       "version_major": 2,
       "version_minor": 0
      },
      "text/plain": [
       "FloatProgress(value=0.0, bar_style='info', description='Progress:', layout=Layout(height='25px', width='50%'),…"
      ]
     },
     "metadata": {},
     "output_type": "display_data"
    },
    {
     "name": "stdout",
     "output_type": "stream",
     "text": [
      "['\"Wynyard\",\"1\",\"µg/m³\",\"pm25\",\"AU\",\"Tasmania Region\",\"Australia - Tasmania\",\"2017-09-04T23:54:19.000Z\",\"2017-09-05T09:54:19+10:00\",\"government\",\"false\",\"-40.9918\",\"145.719\",\"0.25\",\"hours\"', '\"Wynyard\",\"2\",\"µg/m³\",\"pm10\",\"AU\",\"Tasmania Region\",\"Australia - Tasmania\",\"2017-09-04T23:54:19.000Z\",\"2017-09-05T09:54:19+10:00\",\"government\",\"false\",\"-40.9918\",\"145.719\",\"0.25\",\"hours\"', '\"Emu River\",\"0\",\"µg/m³\",\"pm25\",\"AU\",\"Tasmania Region\",\"Australia - Tasmania\",\"2017-09-04T23:54:17.000Z\",\"2017-09-05T09:54:17+10:00\",\"government\",\"false\",\"-41.1081\",\"145.883\",\"0.25\",\"hours\"', '\"Emu River\",\"1\",\"µg/m³\",\"pm10\",\"AU\",\"Tasmania Region\",\"Australia - Tasmania\",\"2017-09-04T23:54:17.000Z\",\"2017-09-05T09:54:17+10:00\",\"government\",\"false\",\"-41.1081\",\"145.883\",\"0.25\",\"hours\"', '\"West Ulverstone\",\"0\",\"µg/m³\",\"pm25\",\"AU\",\"Tasmania Region\",\"Australia - Tasmania\",\"2017-09-04T23:54:22.000Z\",\"2017-09-05T09:54:22+10:00\",\"government\",\"false\",\"-41.1586\",\"146.146\",\"0.25\",\"hours\"']"
     ]
    }
   ],
   "source": [
    "data.take(5)"
   ]
  },
  {
   "cell_type": "markdown",
   "id": "25414f5c",
   "metadata": {
    "id": "25414f5c"
   },
   "source": [
    "You can see the data is returned as a list of arrays. We can also count the number of rows in the RDD to see how much data we're working with:"
   ]
  },
  {
   "cell_type": "code",
   "execution_count": 11,
   "id": "28d852f7",
   "metadata": {
    "colab": {
     "referenced_widgets": [
      "a82333c6b4ed4d3c801aa984147ad355",
      ""
     ]
    },
    "execution": {
     "iopub.execute_input": "2023-05-29T19:32:18.146161Z",
     "iopub.status.busy": "2023-05-29T19:32:18.145901Z",
     "iopub.status.idle": "2023-05-29T19:32:20.423227Z",
     "shell.execute_reply": "2023-05-29T19:32:20.420589Z",
     "shell.execute_reply.started": "2023-05-29T19:32:18.146136Z"
    },
    "id": "28d852f7",
    "outputId": "f6712bbc-7d72-49bb-b8b3-c09625cbf099",
    "tags": []
   },
   "outputs": [
    {
     "data": {
      "application/vnd.jupyter.widget-view+json": {
       "model_id": "8b13d582db4c4704b5e23e282924a616",
       "version_major": 2,
       "version_minor": 0
      },
      "text/plain": [
       "VBox()"
      ]
     },
     "metadata": {},
     "output_type": "display_data"
    },
    {
     "data": {
      "application/vnd.jupyter.widget-view+json": {
       "model_id": "",
       "version_major": 2,
       "version_minor": 0
      },
      "text/plain": [
       "FloatProgress(value=0.0, bar_style='info', description='Progress:', layout=Layout(height='25px', width='50%'),…"
      ]
     },
     "metadata": {},
     "output_type": "display_data"
    },
    {
     "name": "stdout",
     "output_type": "stream",
     "text": [
      "553383"
     ]
    }
   ],
   "source": [
    "data.count()"
   ]
  },
  {
   "cell_type": "markdown",
   "id": "c82caeed",
   "metadata": {
    "id": "c82caeed"
   },
   "source": [
    "We can get information about how the data is partitioned:"
   ]
  },
  {
   "cell_type": "code",
   "execution_count": 12,
   "id": "b2463312",
   "metadata": {
    "colab": {
     "referenced_widgets": [
      "d9c56741ce504990bc57734d441c299a",
      ""
     ]
    },
    "execution": {
     "iopub.execute_input": "2023-05-29T19:32:20.431852Z",
     "iopub.status.busy": "2023-05-29T19:32:20.431447Z",
     "iopub.status.idle": "2023-05-29T19:32:20.566949Z",
     "shell.execute_reply": "2023-05-29T19:32:20.566008Z",
     "shell.execute_reply.started": "2023-05-29T19:32:20.431811Z"
    },
    "id": "b2463312",
    "outputId": "4372db51-f295-4b71-9d2d-b32b085b71a7",
    "tags": []
   },
   "outputs": [
    {
     "data": {
      "application/vnd.jupyter.widget-view+json": {
       "model_id": "7c66d535203c4b079cfac88b18c15885",
       "version_major": 2,
       "version_minor": 0
      },
      "text/plain": [
       "VBox()"
      ]
     },
     "metadata": {},
     "output_type": "display_data"
    },
    {
     "data": {
      "application/vnd.jupyter.widget-view+json": {
       "model_id": "",
       "version_major": 2,
       "version_minor": 0
      },
      "text/plain": [
       "FloatProgress(value=0.0, bar_style='info', description='Progress:', layout=Layout(height='25px', width='50%'),…"
      ]
     },
     "metadata": {},
     "output_type": "display_data"
    },
    {
     "name": "stdout",
     "output_type": "stream",
     "text": [
      "2"
     ]
    }
   ],
   "source": [
    "data.getNumPartitions()"
   ]
  },
  {
   "cell_type": "markdown",
   "id": "bf1df0c9",
   "metadata": {
    "id": "bf1df0c9"
   },
   "source": [
    "By modifying the number of partitions, we can optimize how the data is parallelized:"
   ]
  },
  {
   "cell_type": "code",
   "execution_count": 13,
   "id": "9d482fbc",
   "metadata": {
    "colab": {
     "referenced_widgets": [
      "0c87085543c44bcca8ecb661c16a6769",
      ""
     ]
    },
    "execution": {
     "iopub.execute_input": "2023-05-29T19:32:20.568604Z",
     "iopub.status.busy": "2023-05-29T19:32:20.568253Z",
     "iopub.status.idle": "2023-05-29T19:32:20.823977Z",
     "shell.execute_reply": "2023-05-29T19:32:20.823097Z",
     "shell.execute_reply.started": "2023-05-29T19:32:20.568564Z"
    },
    "id": "9d482fbc",
    "outputId": "bfaf3949-4427-4922-9fb4-a40ffc0764fc",
    "tags": []
   },
   "outputs": [
    {
     "data": {
      "application/vnd.jupyter.widget-view+json": {
       "model_id": "64695aaf99d54fde92050e2a3fbd1e7d",
       "version_major": 2,
       "version_minor": 0
      },
      "text/plain": [
       "VBox()"
      ]
     },
     "metadata": {},
     "output_type": "display_data"
    },
    {
     "data": {
      "application/vnd.jupyter.widget-view+json": {
       "model_id": "",
       "version_major": 2,
       "version_minor": 0
      },
      "text/plain": [
       "FloatProgress(value=0.0, bar_style='info', description='Progress:', layout=Layout(height='25px', width='50%'),…"
      ]
     },
     "metadata": {},
     "output_type": "display_data"
    }
   ],
   "source": [
    "data = data.repartition(10)"
   ]
  },
  {
   "cell_type": "code",
   "execution_count": 14,
   "id": "7f434c8c",
   "metadata": {
    "colab": {
     "referenced_widgets": [
      "b60e6be5af9643e0a7b4b1f66f6eccee",
      ""
     ]
    },
    "execution": {
     "iopub.execute_input": "2023-05-29T19:32:20.825275Z",
     "iopub.status.busy": "2023-05-29T19:32:20.825023Z",
     "iopub.status.idle": "2023-05-29T19:32:21.077237Z",
     "shell.execute_reply": "2023-05-29T19:32:21.076377Z",
     "shell.execute_reply.started": "2023-05-29T19:32:20.825250Z"
    },
    "id": "7f434c8c",
    "outputId": "85855927-4900-4107-b566-9eff506bc127",
    "tags": []
   },
   "outputs": [
    {
     "data": {
      "application/vnd.jupyter.widget-view+json": {
       "model_id": "b7f29de793a844f59cb99daf591d2f9e",
       "version_major": 2,
       "version_minor": 0
      },
      "text/plain": [
       "VBox()"
      ]
     },
     "metadata": {},
     "output_type": "display_data"
    },
    {
     "data": {
      "application/vnd.jupyter.widget-view+json": {
       "model_id": "",
       "version_major": 2,
       "version_minor": 0
      },
      "text/plain": [
       "FloatProgress(value=0.0, bar_style='info', description='Progress:', layout=Layout(height='25px', width='50%'),…"
      ]
     },
     "metadata": {},
     "output_type": "display_data"
    },
    {
     "name": "stdout",
     "output_type": "stream",
     "text": [
      "10"
     ]
    }
   ],
   "source": [
    "data.getNumPartitions()"
   ]
  },
  {
   "cell_type": "markdown",
   "id": "c95e1cf1",
   "metadata": {
    "id": "c95e1cf1"
   },
   "source": [
    "As a general rule of thumb, aim for 3-4 times the number of CPU cores in your cluster. When setting these numbers, we keep in mind the following trade-off:\n",
    "- a small number of partitions will mean that we are not utilizing all available compute;\n",
    "- too many partitions will break the compute jobs into very small tasks creating unnecessary workload on management and communication between the nodes."
   ]
  },
  {
   "cell_type": "markdown",
   "id": "8ec3e843-8f6c-4f7c-a42a-fb9169d094f1",
   "metadata": {
    "id": "8ec3e843-8f6c-4f7c-a42a-fb9169d094f1",
    "tags": []
   },
   "source": [
    "#### Manipulating RDDs"
   ]
  },
  {
   "cell_type": "markdown",
   "id": "a08f7ef6-ff98-4dcf-ae67-bb68e2d968a9",
   "metadata": {
    "id": "a08f7ef6-ff98-4dcf-ae67-bb68e2d968a9"
   },
   "source": [
    "Spark RDD functions relies heavily on functional programming concepts and the use of lambda functions to apply operations across all elements in an RDD. The `map` function will apply the lambda function to each row of an RDD and return a new RDD of the transformed data as a result. Since each row of the data is stored as a string, we can use the `split()` method to extract a column as an RDD."
   ]
  },
  {
   "cell_type": "code",
   "execution_count": 15,
   "id": "80d08085-ad7e-4923-b310-1e5116e82977",
   "metadata": {
    "colab": {
     "referenced_widgets": [
      "73c5c056b97c471194295241ae7a3880",
      ""
     ]
    },
    "execution": {
     "iopub.execute_input": "2023-05-29T19:32:21.079178Z",
     "iopub.status.busy": "2023-05-29T19:32:21.078702Z",
     "iopub.status.idle": "2023-05-29T19:32:24.358925Z",
     "shell.execute_reply": "2023-05-29T19:32:24.357992Z",
     "shell.execute_reply.started": "2023-05-29T19:32:21.079137Z"
    },
    "id": "80d08085-ad7e-4923-b310-1e5116e82977",
    "outputId": "01e23457-904f-4819-e666-68788a555eda",
    "tags": []
   },
   "outputs": [
    {
     "data": {
      "application/vnd.jupyter.widget-view+json": {
       "model_id": "096cdcecbc624ff487069f52062f26d2",
       "version_major": 2,
       "version_minor": 0
      },
      "text/plain": [
       "VBox()"
      ]
     },
     "metadata": {},
     "output_type": "display_data"
    },
    {
     "data": {
      "application/vnd.jupyter.widget-view+json": {
       "model_id": "",
       "version_major": 2,
       "version_minor": 0
      },
      "text/plain": [
       "FloatProgress(value=0.0, bar_style='info', description='Progress:', layout=Layout(height='25px', width='50%'),…"
      ]
     },
     "metadata": {},
     "output_type": "display_data"
    },
    {
     "name": "stdout",
     "output_type": "stream",
     "text": [
      "['\"Bosnia\"', '\"Bosnia\"', '\"Sao Paulo\"', '\"Sao Paulo\"', '\"Sao Paulo\"', '\"Sao Paulo\"', '\"Sao Paulo\"', '\"Sao Paulo\"', '\"Sao Paulo\"', '\"Sao Paulo\"']"
     ]
    }
   ],
   "source": [
    "# slice out the 6th column\n",
    "data.map(lambda x: x.split(\",\")[6]).take(10)"
   ]
  },
  {
   "cell_type": "markdown",
   "id": "79ecd8d0-9f7c-475c-9754-e02aeac73266",
   "metadata": {
    "id": "79ecd8d0-9f7c-475c-9754-e02aeac73266"
   },
   "source": [
    "In the same spirit, we can filter our data based on a condition (such as the location is Turkey) and count the number of results:"
   ]
  },
  {
   "cell_type": "code",
   "execution_count": 16,
   "id": "f08443bf-36fb-4bec-a697-f68070083f49",
   "metadata": {
    "colab": {
     "referenced_widgets": [
      "dd5ec5abcb6b4b91b8dbbc21b63dca44",
      ""
     ]
    },
    "execution": {
     "iopub.execute_input": "2023-05-29T19:32:24.360700Z",
     "iopub.status.busy": "2023-05-29T19:32:24.360331Z",
     "iopub.status.idle": "2023-05-29T19:32:25.624716Z",
     "shell.execute_reply": "2023-05-29T19:32:25.623997Z",
     "shell.execute_reply.started": "2023-05-29T19:32:24.360661Z"
    },
    "id": "f08443bf-36fb-4bec-a697-f68070083f49",
    "outputId": "93809932-e0af-4f40-ec81-8cd027217127",
    "tags": []
   },
   "outputs": [
    {
     "data": {
      "application/vnd.jupyter.widget-view+json": {
       "model_id": "871eb9c4d22a4e55921031a48b66b781",
       "version_major": 2,
       "version_minor": 0
      },
      "text/plain": [
       "VBox()"
      ]
     },
     "metadata": {},
     "output_type": "display_data"
    },
    {
     "data": {
      "application/vnd.jupyter.widget-view+json": {
       "model_id": "",
       "version_major": 2,
       "version_minor": 0
      },
      "text/plain": [
       "FloatProgress(value=0.0, bar_style='info', description='Progress:', layout=Layout(height='25px', width='50%'),…"
      ]
     },
     "metadata": {},
     "output_type": "display_data"
    },
    {
     "name": "stdout",
     "output_type": "stream",
     "text": [
      "9980"
     ]
    }
   ],
   "source": [
    "# Filter only rows where the country name is equal to Turkey\n",
    "data.filter(lambda x: x.split(\",\")[6] == '\"Turkey\"').count()"
   ]
  },
  {
   "cell_type": "markdown",
   "id": "14e80f4a-5605-4a59-bd97-16045cdaf69a",
   "metadata": {
    "id": "14e80f4a-5605-4a59-bd97-16045cdaf69a"
   },
   "source": [
    "We can then apply the usual analytical functions and data operations that we did earlier with SQL and Pandas. For example, the `groupBy()` can be applied to group and then aggregate the RDD. Since the resulting data is small, we can save it in a Pandas dataframe."
   ]
  },
  {
   "cell_type": "code",
   "execution_count": 17,
   "id": "8a7d2a79-1647-443f-8beb-f596b81b0a8a",
   "metadata": {
    "colab": {
     "referenced_widgets": [
      "5e202ea56ee94841bb30cef5c81e0470",
      ""
     ]
    },
    "execution": {
     "iopub.execute_input": "2023-05-29T19:32:25.626151Z",
     "iopub.status.busy": "2023-05-29T19:32:25.625895Z",
     "iopub.status.idle": "2023-05-29T19:32:30.925679Z",
     "shell.execute_reply": "2023-05-29T19:32:30.924789Z",
     "shell.execute_reply.started": "2023-05-29T19:32:25.626127Z"
    },
    "id": "8a7d2a79-1647-443f-8beb-f596b81b0a8a",
    "outputId": "a2853ca1-b938-47d3-c42c-06d1021040f6",
    "tags": []
   },
   "outputs": [
    {
     "data": {
      "application/vnd.jupyter.widget-view+json": {
       "model_id": "7997e3bbffa34de5aa8146f89abc1dff",
       "version_major": 2,
       "version_minor": 0
      },
      "text/plain": [
       "VBox()"
      ]
     },
     "metadata": {},
     "output_type": "display_data"
    },
    {
     "data": {
      "application/vnd.jupyter.widget-view+json": {
       "model_id": "",
       "version_major": 2,
       "version_minor": 0
      },
      "text/plain": [
       "FloatProgress(value=0.0, bar_style='info', description='Progress:', layout=Layout(height='25px', width='50%'),…"
      ]
     },
     "metadata": {},
     "output_type": "display_data"
    }
   ],
   "source": [
    "# GroupBy\n",
    "grouped = data.groupBy(lambda x: x.split(\",\")[6])\n",
    "results = []\n",
    "\n",
    "for (k, v) in grouped.collect():\n",
    "    results.append((k, len(v)))"
   ]
  },
  {
   "cell_type": "markdown",
   "id": "3ce7d5ea-64cd-4a6a-b3df-9324d1c88f9b",
   "metadata": {
    "id": "3ce7d5ea-64cd-4a6a-b3df-9324d1c88f9b"
   },
   "source": [
    "We see that there were 109 unique locations in the data:"
   ]
  },
  {
   "cell_type": "code",
   "execution_count": 18,
   "id": "f7406c0b-8a54-49d9-9251-efaf6d2f1ffe",
   "metadata": {
    "colab": {
     "referenced_widgets": [
      "e2936b25105947be9f45d4739e58d459",
      ""
     ]
    },
    "execution": {
     "iopub.execute_input": "2023-05-29T19:32:30.926975Z",
     "iopub.status.busy": "2023-05-29T19:32:30.926595Z",
     "iopub.status.idle": "2023-05-29T19:32:30.975340Z",
     "shell.execute_reply": "2023-05-29T19:32:30.974313Z",
     "shell.execute_reply.started": "2023-05-29T19:32:30.926946Z"
    },
    "id": "f7406c0b-8a54-49d9-9251-efaf6d2f1ffe",
    "outputId": "a32628b2-2a3e-4645-a397-794f1567d91b",
    "tags": []
   },
   "outputs": [
    {
     "data": {
      "application/vnd.jupyter.widget-view+json": {
       "model_id": "d10d0735580a44bcb66add85f9f4263f",
       "version_major": 2,
       "version_minor": 0
      },
      "text/plain": [
       "VBox()"
      ]
     },
     "metadata": {},
     "output_type": "display_data"
    },
    {
     "data": {
      "application/vnd.jupyter.widget-view+json": {
       "model_id": "",
       "version_major": 2,
       "version_minor": 0
      },
      "text/plain": [
       "FloatProgress(value=0.0, bar_style='info', description='Progress:', layout=Layout(height='25px', width='50%'),…"
      ]
     },
     "metadata": {},
     "output_type": "display_data"
    },
    {
     "name": "stdout",
     "output_type": "stream",
     "text": [
      "109"
     ]
    }
   ],
   "source": [
    "len(results)"
   ]
  },
  {
   "cell_type": "code",
   "execution_count": 19,
   "id": "4ab3da14",
   "metadata": {
    "colab": {
     "referenced_widgets": [
      "fdf620d52f344770abcb56980112a7b4",
      ""
     ]
    },
    "execution": {
     "iopub.execute_input": "2023-05-29T19:32:30.977108Z",
     "iopub.status.busy": "2023-05-29T19:32:30.976782Z",
     "iopub.status.idle": "2023-05-29T19:32:31.042139Z",
     "shell.execute_reply": "2023-05-29T19:32:31.041264Z",
     "shell.execute_reply.started": "2023-05-29T19:32:30.977074Z"
    },
    "id": "4ab3da14",
    "outputId": "b77198cb-1ddc-4c9c-b3b4-544d76fc79f9"
   },
   "outputs": [
    {
     "data": {
      "application/vnd.jupyter.widget-view+json": {
       "model_id": "0ad30ca8369542968d122717561686fe",
       "version_major": 2,
       "version_minor": 0
      },
      "text/plain": [
       "VBox()"
      ]
     },
     "metadata": {},
     "output_type": "display_data"
    },
    {
     "data": {
      "application/vnd.jupyter.widget-view+json": {
       "model_id": "",
       "version_major": 2,
       "version_minor": 0
      },
      "text/plain": [
       "FloatProgress(value=0.0, bar_style='info', description='Progress:', layout=Layout(height='25px', width='50%'),…"
      ]
     },
     "metadata": {},
     "output_type": "display_data"
    },
    {
     "name": "stdout",
     "output_type": "stream",
     "text": [
      "[('\"Agaar.mn\"', 547), ('\"Gjøvik\"', 72), ('\"Shanghai\"', 23), ('\"Kanchanaburi\"', 95), ('\"Thailand\"', 40), ('\"Kolkata\"', 183), ('\"Lampang\"', 383), ('\"Australia - New South Wales\"', 2595), ('\"Australia - Queensland\"', 1760), ('\"Thane\"', 135), ('\"Amritsar\"', 396), ('\"Guangzhou\"', 23), ('\"Nagpur\"', 67), ('\"Phrae\"', 91), ('\"Chiang Mai\"', 181), ('\"Mae Hong Son\"', 21), ('\"StateAir_KuwaitCity\"', 19), ('\"MUSCATINE\"', 38), ('\"Omaha-Council Bluffs\"', 16), ('\"Bangkok\"', 663), ('\"Bosnia_Tuzlanski\"', 569), ('\"Norway\"', 2682), ('\"Davenport-Moline-Rock Island\"', 96), ('\"Satun\"', 110), ('\"Yala\"', 85), ('\"StateAir_Bogota\"', 22), ('\"StateAir_Hanoi\"', 23), ('\"Oslo\"', 72), ('\"Samut Sakhon\"', 131), ('\"Aurangabad\"', 209), ('\"Durgapur\"', 104), ('\"Samut Prakan\"', 113), ('\"Richards Bay\"', 1146), ('\"Iowa City\"', 20), ('\"Sao Paulo\"', 4356), ('\"CPCB\"', 9840), ('\"StateAir_Lima\"', 24), ('\"Hyderabad\"', 1123), ('\"Chillán\"', 44), ('\"PALO ALTO\"', 29), ('\"StateAir_Dhaka\"', 22), ('\"Nan\"', 215), ('\"EEA Denmark\"', 574), ('\"RIO BLANCO\"', 36), ('\"Lamphun\"', 103), ('\"Bergen\"', 72), ('\"St. Louis\"', 19), ('\"StateAir_Hyderabad\"', 24), ('\"Phuket\"', 110), ('\"Nakhon Sawan\"', 110), ('\"Rayong\"', 338), ('\"Narathiwat\"', 77), ('\"Phayao\"', 111), ('\"Providence-New Bedford-Fall River\"', 40), ('\"Mandi Gobindgarh\"', 105), ('\"Thiruvananthapuram\"', 270), ('\"Surat Thani\"', 115), ('\"Turkey\"', 9980), ('\"Nashik\"', 199), ('\"Chiang Rai\"', 2), ('\"Ludhiana\"', 438), ('\"Chengdu\"', 23), ('\"Waterloo-Cedar Falls\"', 40), ('\"Sweden\"', 494), ('\"Chandrapur\"', 192), ('\"StateAir_Mumbai\"', 24), ('\"Vijayawara\"', 234), ('\"Ratchaburi\"', 111), ('\"Chon Buri\"', 146), ('\"Ayutthaya\"', 40), ('\"Netherlands\"', 6118), ('\"AirNow\"', 55489), ('\"StateAir_JakartaCentral\"', 21), ('\"Clinton\"', 60), ('\"StateAir_Kampala\"', 20), ('\"StateAir_Addis_Ababa_Central\"', 22), ('\"Hamar\"', 24), ('\"StateAir_Kathmandu\"', 48), ('\"Australia - Tasmania\"', 8352), ('\"Songkhla\"', 6), ('\"Muscatine\"', 40), ('\"Lucknow\"', 328), ('\"StateAir_Manama\"', 44), ('\"Buenos Aires\"', 216), ('\"StateAir_Addis_Ababa_School\"', 22), ('\"Kahului-Wailuku\"', 20), ('\"Beijing US Embassy\"', 23), ('\"StateAir_Ulaanbaatar\"', 21), ('\"Rohtak\"', 10), ('\"Bosnia\"', 685), ('\"Chile - SINCA\"', 4548), ('\"DEFRA\"', 6639), ('\"Mosecom\"', 2173), ('\"StateAir_Pristina\"', 22), ('\"Shenyang\"', 23), ('\"StateAir_JakartaSouth\"', 22), ('\"Saraburi\"', 176), ('\"Andalucia\"', 20952), ('\"ARPALAZIO\"', 2631), ('\"Slovenian Environment Agency\"', 141), ('\"StateAir_Kolkata\"', 24), ('\"Chachoengsao\"', 4), ('\"Israel\"', 401836), ('\"StateAir_PhoraDurbar\"', 49), ('\"StateAir_NewDelhi\"', 22), ('\"Prachin Buri\"', 84), ('\"Ho Chi Minh City\"', 23), ('\"Nonthaburi\"', 12), ('\"StateAir_Chennai\"', 23)]"
     ]
    }
   ],
   "source": [
    "results"
   ]
  },
  {
   "cell_type": "markdown",
   "id": "194e08a3",
   "metadata": {
    "id": "194e08a3"
   },
   "source": [
    "We can take this list to create a pandas dataframe and then visualize the results. To ensure that your matplotlib visuals show up in the EMR notebook, the plotting cell must end with the `%matplot plt` line as you see below. "
   ]
  },
  {
   "cell_type": "code",
   "execution_count": 20,
   "id": "2ba478e0-f7b4-45ca-b15e-a10128673138",
   "metadata": {
    "colab": {
     "referenced_widgets": [
      "bbcfaadf4ba84d328faf3d960a21d10e",
      ""
     ]
    },
    "execution": {
     "iopub.execute_input": "2023-05-29T19:32:31.043973Z",
     "iopub.status.busy": "2023-05-29T19:32:31.043631Z",
     "iopub.status.idle": "2023-05-29T19:32:31.298504Z",
     "shell.execute_reply": "2023-05-29T19:32:31.297689Z",
     "shell.execute_reply.started": "2023-05-29T19:32:31.043935Z"
    },
    "id": "2ba478e0-f7b4-45ca-b15e-a10128673138",
    "outputId": "2510b4f5-23ae-49df-903a-e9fb8c9aeb23",
    "tags": []
   },
   "outputs": [
    {
     "data": {
      "application/vnd.jupyter.widget-view+json": {
       "model_id": "6fde2919cace480ab97035686986d7aa",
       "version_major": 2,
       "version_minor": 0
      },
      "text/plain": [
       "VBox()"
      ]
     },
     "metadata": {},
     "output_type": "display_data"
    },
    {
     "data": {
      "application/vnd.jupyter.widget-view+json": {
       "model_id": "",
       "version_major": 2,
       "version_minor": 0
      },
      "text/plain": [
       "FloatProgress(value=0.0, bar_style='info', description='Progress:', layout=Layout(height='25px', width='50%'),…"
      ]
     },
     "metadata": {},
     "output_type": "display_data"
    },
    {
     "data": {
      "image/png": "[encoded data removed]",
      "text/plain": [
       "<IPython.core.display.Image object>"
      ]
     },
     "metadata": {},
     "output_type": "display_data"
    }
   ],
   "source": [
    "plt.figure()\n",
    "\n",
    "pd.DataFrame(results, columns = [\"city\", \"count\"])\\\n",
    "    .set_index(\"city\")\\\n",
    "    .sort_values(\"count\")\\\n",
    "    .head(10)\\\n",
    "    .plot(kind=\"barh\", figsize=(14, 5), title=\"Count of measurements per location\")\n",
    "\n",
    "plt.show()\n",
    "\n",
    "# make sure to keep this line\n",
    "%matplot plt"
   ]
  },
  {
   "cell_type": "markdown",
   "id": "82821c32",
   "metadata": {
    "id": "82821c32",
    "tags": []
   },
   "source": [
    "### Working with Spark DataFrames"
   ]
  },
  {
   "cell_type": "markdown",
   "id": "c8fee5db",
   "metadata": {
    "id": "c8fee5db"
   },
   "source": [
    "In practice, working with RDDs is cumbersome and as a data scientist (or even data engineer) it is usually easier to use [Spark SQL and DataFrames](https://spark.apache.org/docs/latest/sql-programming-guide.html) which are higher level APIs built on top of RDDs. The DataFrames API closely mirrors functionality and syntax from pandas, making it easy for a data scientist or developer to transition from working with smaller datasets in a centralized environment (_i.e._ your laptop) to working with large datasets in a distributed Big Data environment.\n",
    "\n",
    "Spark can read data locally from files, databases, large datasets from HDFS, or even from S3 buckets! There is a full list of compatible data sources [here](https://spark.apache.org/docs/latest/sql-data-sources.html)."
   ]
  },
  {
   "cell_type": "code",
   "execution_count": 21,
   "id": "8396486c",
   "metadata": {
    "execution": {
     "iopub.execute_input": "2023-05-29T19:32:31.300099Z",
     "iopub.status.busy": "2023-05-29T19:32:31.299774Z",
     "iopub.status.idle": "2023-05-29T19:32:36.586384Z",
     "shell.execute_reply": "2023-05-29T19:32:36.585395Z",
     "shell.execute_reply.started": "2023-05-29T19:32:31.300063Z"
    },
    "id": "8396486c",
    "outputId": "6dfc868c-bd6c-4112-a3c3-3ff3ad89777a",
    "tags": []
   },
   "outputs": [
    {
     "data": {
      "application/vnd.jupyter.widget-view+json": {
       "model_id": "c1bac224536a46fc9efd2234ca722782",
       "version_major": 2,
       "version_minor": 0
      },
      "text/plain": [
       "VBox()"
      ]
     },
     "metadata": {},
     "output_type": "display_data"
    },
    {
     "data": {
      "application/vnd.jupyter.widget-view+json": {
       "model_id": "",
       "version_major": 2,
       "version_minor": 0
      },
      "text/plain": [
       "FloatProgress(value=0.0, bar_style='info', description='Progress:', layout=Layout(height='25px', width='50%'),…"
      ]
     },
     "metadata": {},
     "output_type": "display_data"
    }
   ],
   "source": [
    "# read from S3 directly\n",
    "df = spark.read.csv('s3://brainstation-dsft/sparklab/yellow_tripdata_2018-10.csv', header=True)"
   ]
  },
  {
   "cell_type": "markdown",
   "id": "341cde85",
   "metadata": {
    "id": "341cde85"
   },
   "source": [
    "There is also an `inferSchema` parameter that if set to True tells Spark to infer the data types in each column, which requires another pass through the data which can be expensive when working with large datasets. If set to `None` or `False` (default) then all columns are read in as strings.\n",
    "\n",
    "We can print out the schema and data types in human-readable format using `printSchema()`:"
   ]
  },
  {
   "cell_type": "code",
   "execution_count": 22,
   "id": "2f32a122",
   "metadata": {
    "execution": {
     "iopub.execute_input": "2023-05-29T19:32:36.587948Z",
     "iopub.status.busy": "2023-05-29T19:32:36.587600Z",
     "iopub.status.idle": "2023-05-29T19:32:36.847242Z",
     "shell.execute_reply": "2023-05-29T19:32:36.846345Z",
     "shell.execute_reply.started": "2023-05-29T19:32:36.587912Z"
    },
    "id": "2f32a122",
    "outputId": "042b0a76-d8a7-4951-e9c4-a678516968e9",
    "tags": []
   },
   "outputs": [
    {
     "data": {
      "application/vnd.jupyter.widget-view+json": {
       "model_id": "880c07a2e200475a87a58d7e514ac632",
       "version_major": 2,
       "version_minor": 0
      },
      "text/plain": [
       "VBox()"
      ]
     },
     "metadata": {},
     "output_type": "display_data"
    },
    {
     "data": {
      "application/vnd.jupyter.widget-view+json": {
       "model_id": "",
       "version_major": 2,
       "version_minor": 0
      },
      "text/plain": [
       "FloatProgress(value=0.0, bar_style='info', description='Progress:', layout=Layout(height='25px', width='50%'),…"
      ]
     },
     "metadata": {},
     "output_type": "display_data"
    },
    {
     "name": "stdout",
     "output_type": "stream",
     "text": [
      "root\n",
      " |-- VendorID: string (nullable = true)\n",
      " |-- tpep_pickup_datetime: string (nullable = true)\n",
      " |-- tpep_dropoff_datetime: string (nullable = true)\n",
      " |-- passenger_count: string (nullable = true)\n",
      " |-- trip_distance: string (nullable = true)\n",
      " |-- RatecodeID: string (nullable = true)\n",
      " |-- store_and_fwd_flag: string (nullable = true)\n",
      " |-- PULocationID: string (nullable = true)\n",
      " |-- DOLocationID: string (nullable = true)\n",
      " |-- payment_type: string (nullable = true)\n",
      " |-- fare_amount: string (nullable = true)\n",
      " |-- extra: string (nullable = true)\n",
      " |-- mta_tax: string (nullable = true)\n",
      " |-- tip_amount: string (nullable = true)\n",
      " |-- tolls_amount: string (nullable = true)\n",
      " |-- improvement_surcharge: string (nullable = true)\n",
      " |-- total_amount: string (nullable = true)\n",
      " |-- congestion_surcharge: string (nullable = true)\n",
      " |-- airport_fee: string (nullable = true)"
     ]
    }
   ],
   "source": [
    "df.printSchema()"
   ]
  },
  {
   "cell_type": "markdown",
   "id": "133f8514",
   "metadata": {
    "id": "133f8514"
   },
   "source": [
    "You can also get a list of the columns using `.columns`:"
   ]
  },
  {
   "cell_type": "code",
   "execution_count": 23,
   "id": "192b2db8",
   "metadata": {
    "execution": {
     "iopub.execute_input": "2023-05-29T19:32:36.848645Z",
     "iopub.status.busy": "2023-05-29T19:32:36.848348Z",
     "iopub.status.idle": "2023-05-29T19:32:36.894967Z",
     "shell.execute_reply": "2023-05-29T19:32:36.894239Z",
     "shell.execute_reply.started": "2023-05-29T19:32:36.848619Z"
    },
    "id": "192b2db8",
    "outputId": "b79e5507-222e-47ea-b48a-1003d712f7f2",
    "tags": []
   },
   "outputs": [
    {
     "data": {
      "application/vnd.jupyter.widget-view+json": {
       "model_id": "1f37b5f3965846cb8d333d93e5cdc9d4",
       "version_major": 2,
       "version_minor": 0
      },
      "text/plain": [
       "VBox()"
      ]
     },
     "metadata": {},
     "output_type": "display_data"
    },
    {
     "data": {
      "application/vnd.jupyter.widget-view+json": {
       "model_id": "",
       "version_major": 2,
       "version_minor": 0
      },
      "text/plain": [
       "FloatProgress(value=0.0, bar_style='info', description='Progress:', layout=Layout(height='25px', width='50%'),…"
      ]
     },
     "metadata": {},
     "output_type": "display_data"
    },
    {
     "name": "stdout",
     "output_type": "stream",
     "text": [
      "['VendorID', 'tpep_pickup_datetime', 'tpep_dropoff_datetime', 'passenger_count', 'trip_distance', 'RatecodeID', 'store_and_fwd_flag', 'PULocationID', 'DOLocationID', 'payment_type', 'fare_amount', 'extra', 'mta_tax', 'tip_amount', 'tolls_amount', 'improvement_surcharge', 'total_amount', 'congestion_surcharge', 'airport_fee']"
     ]
    }
   ],
   "source": [
    "df.columns"
   ]
  },
  {
   "cell_type": "markdown",
   "id": "9d47d11d",
   "metadata": {
    "id": "9d47d11d"
   },
   "source": [
    "Let's take a look at our data. There is a `head` command for Spark DataFrames just like for those in pandas."
   ]
  },
  {
   "cell_type": "code",
   "execution_count": 24,
   "id": "35c83c50",
   "metadata": {
    "execution": {
     "iopub.execute_input": "2023-05-29T19:32:36.896110Z",
     "iopub.status.busy": "2023-05-29T19:32:36.895889Z",
     "iopub.status.idle": "2023-05-29T19:32:37.650532Z",
     "shell.execute_reply": "2023-05-29T19:32:37.649786Z",
     "shell.execute_reply.started": "2023-05-29T19:32:36.896088Z"
    },
    "id": "35c83c50",
    "outputId": "4af38df6-00ac-4e41-8dd1-72be29c45c54",
    "tags": []
   },
   "outputs": [
    {
     "data": {
      "application/vnd.jupyter.widget-view+json": {
       "model_id": "fc7c606956224888b3fb6b2447487b23",
       "version_major": 2,
       "version_minor": 0
      },
      "text/plain": [
       "VBox()"
      ]
     },
     "metadata": {},
     "output_type": "display_data"
    },
    {
     "data": {
      "application/vnd.jupyter.widget-view+json": {
       "model_id": "",
       "version_major": 2,
       "version_minor": 0
      },
      "text/plain": [
       "FloatProgress(value=0.0, bar_style='info', description='Progress:', layout=Layout(height='25px', width='50%'),…"
      ]
     },
     "metadata": {},
     "output_type": "display_data"
    },
    {
     "name": "stdout",
     "output_type": "stream",
     "text": [
      "[Row(VendorID='1', tpep_pickup_datetime='2018-10-01 00:23:34', tpep_dropoff_datetime='2018-10-01 00:44:50', passenger_count='1.0', trip_distance='6.2', RatecodeID='1.0', store_and_fwd_flag='N', PULocationID='68', DOLocationID='7', payment_type='2', fare_amount='20.5', extra='0.5', mta_tax='0.5', tip_amount='0.0', tolls_amount='0.0', improvement_surcharge='0.3', total_amount='21.8', congestion_surcharge=None, airport_fee=None), Row(VendorID='1', tpep_pickup_datetime='2018-10-01 00:40:05', tpep_dropoff_datetime='2018-10-01 01:01:56', passenger_count='1.0', trip_distance='12.6', RatecodeID='1.0', store_and_fwd_flag='N', PULocationID='132', DOLocationID='9', payment_type='2', fare_amount='35.0', extra='0.5', mta_tax='0.5', tip_amount='0.0', tolls_amount='0.0', improvement_surcharge='0.3', total_amount='36.3', congestion_surcharge=None, airport_fee=None), Row(VendorID='1', tpep_pickup_datetime='2018-10-01 00:05:35', tpep_dropoff_datetime='2018-10-01 00:19:38', passenger_count='1.0', trip_distance='6.1', RatecodeID='1.0', store_and_fwd_flag='N', PULocationID='50', DOLocationID='244', payment_type='1', fare_amount='19.0', extra='0.5', mta_tax='0.5', tip_amount='5.05', tolls_amount='0.0', improvement_surcharge='0.3', total_amount='25.35', congestion_surcharge=None, airport_fee=None), Row(VendorID='1', tpep_pickup_datetime='2018-10-01 00:42:56', tpep_dropoff_datetime='2018-10-01 00:49:00', passenger_count='1.0', trip_distance='1.3', RatecodeID='1.0', store_and_fwd_flag='N', PULocationID='151', DOLocationID='239', payment_type='2', fare_amount='7.0', extra='0.5', mta_tax='0.5', tip_amount='0.0', tolls_amount='0.0', improvement_surcharge='0.3', total_amount='8.3', congestion_surcharge=None, airport_fee=None), Row(VendorID='1', tpep_pickup_datetime='2018-10-01 00:19:14', tpep_dropoff_datetime='2018-10-01 00:31:54', passenger_count='1.0', trip_distance='2.6', RatecodeID='1.0', store_and_fwd_flag='N', PULocationID='233', DOLocationID='143', payment_type='1', fare_amount='11.0', extra='0.5', mta_tax='0.5', tip_amount='2.45', tolls_amount='0.0', improvement_surcharge='0.3', total_amount='14.75', congestion_surcharge=None, airport_fee=None)]"
     ]
    }
   ],
   "source": [
    "# Just like for RDDs, we can show the first few lines using take (or equivalently, df.head(n_rows))\n",
    "df.head(5)"
   ]
  },
  {
   "cell_type": "markdown",
   "id": "5d577b46",
   "metadata": {
    "id": "5d577b46"
   },
   "source": [
    "If we use `take` or `head`, we get back lists of Row objects that are not very easy to read. Instead we can call `show` to get nicely formatted tabular data:"
   ]
  },
  {
   "cell_type": "code",
   "execution_count": 25,
   "id": "0137120c",
   "metadata": {
    "execution": {
     "iopub.execute_input": "2023-05-29T19:32:37.651800Z",
     "iopub.status.busy": "2023-05-29T19:32:37.651551Z",
     "iopub.status.idle": "2023-05-29T19:32:38.414282Z",
     "shell.execute_reply": "2023-05-29T19:32:38.413255Z",
     "shell.execute_reply.started": "2023-05-29T19:32:37.651776Z"
    },
    "id": "0137120c",
    "outputId": "c0a4e158-cae7-4d7e-9f5a-38512155f502",
    "tags": []
   },
   "outputs": [
    {
     "data": {
      "application/vnd.jupyter.widget-view+json": {
       "model_id": "d96c71238fc949d0bb613f0e08d0f31e",
       "version_major": 2,
       "version_minor": 0
      },
      "text/plain": [
       "VBox()"
      ]
     },
     "metadata": {},
     "output_type": "display_data"
    },
    {
     "data": {
      "application/vnd.jupyter.widget-view+json": {
       "model_id": "",
       "version_major": 2,
       "version_minor": 0
      },
      "text/plain": [
       "FloatProgress(value=0.0, bar_style='info', description='Progress:', layout=Layout(height='25px', width='50%'),…"
      ]
     },
     "metadata": {},
     "output_type": "display_data"
    },
    {
     "name": "stdout",
     "output_type": "stream",
     "text": [
      "+--------+--------------------+---------------------+---------------+-------------+----------+------------------+------------+------------+------------+-----------+-----+-------+----------+------------+---------------------+------------+--------------------+-----------+\n",
      "|VendorID|tpep_pickup_datetime|tpep_dropoff_datetime|passenger_count|trip_distance|RatecodeID|store_and_fwd_flag|PULocationID|DOLocationID|payment_type|fare_amount|extra|mta_tax|tip_amount|tolls_amount|improvement_surcharge|total_amount|congestion_surcharge|airport_fee|\n",
      "+--------+--------------------+---------------------+---------------+-------------+----------+------------------+------------+------------+------------+-----------+-----+-------+----------+------------+---------------------+------------+--------------------+-----------+\n",
      "|       1| 2018-10-01 00:23:34|  2018-10-01 00:44:50|            1.0|          6.2|       1.0|                 N|          68|           7|           2|       20.5|  0.5|    0.5|       0.0|         0.0|                  0.3|        21.8|                null|       null|\n",
      "|       1| 2018-10-01 00:40:05|  2018-10-01 01:01:56|            1.0|         12.6|       1.0|                 N|         132|           9|           2|       35.0|  0.5|    0.5|       0.0|         0.0|                  0.3|        36.3|                null|       null|\n",
      "|       1| 2018-10-01 00:05:35|  2018-10-01 00:19:38|            1.0|          6.1|       1.0|                 N|          50|         244|           1|       19.0|  0.5|    0.5|      5.05|         0.0|                  0.3|       25.35|                null|       null|\n",
      "|       1| 2018-10-01 00:42:56|  2018-10-01 00:49:00|            1.0|          1.3|       1.0|                 N|         151|         239|           2|        7.0|  0.5|    0.5|       0.0|         0.0|                  0.3|         8.3|                null|       null|\n",
      "|       1| 2018-10-01 00:19:14|  2018-10-01 00:31:54|            1.0|          2.6|       1.0|                 N|         233|         143|           1|       11.0|  0.5|    0.5|      2.45|         0.0|                  0.3|       14.75|                null|       null|\n",
      "|       1| 2018-10-01 00:36:27|  2018-10-01 01:39:20|            1.0|         19.7|       1.0|                 N|         132|           7|           3|       54.0|  0.5|    0.5|       0.0|         0.0|                  0.3|        55.3|                null|       null|\n",
      "|       1| 2018-10-01 00:26:25|  2018-10-01 00:34:58|            1.0|          2.3|       1.0|                 N|         260|         145|           2|        9.0|  0.5|    0.5|       0.0|         0.0|                  0.3|        10.3|                null|       null|\n",
      "|       2| 2018-10-01 00:11:13|  2018-10-01 00:40:02|            1.0|        19.14|       2.0|                 N|         132|         249|           1|       52.0|  0.0|    0.5|     11.71|        5.76|                  0.3|       70.27|                null|       null|\n",
      "|       2| 2018-10-01 00:42:46|  2018-10-01 00:57:59|            1.0|         4.31|       1.0|                 N|         249|         143|           1|       15.5|  0.5|    0.5|      3.36|         0.0|                  0.3|       20.16|                null|       null|\n",
      "|       2| 2018-10-01 00:33:49|  2018-10-01 00:37:31|            2.0|         0.64|       1.0|                 N|         236|         262|           2|        4.5|  0.5|    0.5|       0.0|         0.0|                  0.3|         5.8|                null|       null|\n",
      "+--------+--------------------+---------------------+---------------+-------------+----------+------------------+------------+------------+------------+-----------+-----+-------+----------+------------+---------------------+------------+--------------------+-----------+\n",
      "only showing top 10 rows"
     ]
    }
   ],
   "source": [
    "df.show(10)"
   ]
  },
  {
   "cell_type": "markdown",
   "id": "3f9ff539",
   "metadata": {
    "id": "3f9ff539"
   },
   "source": [
    "The number of columns makes it hard to read this presentation, so we can transpose the dataframe with the `vertical=True` option:"
   ]
  },
  {
   "cell_type": "code",
   "execution_count": 26,
   "id": "d13c7d5f",
   "metadata": {
    "execution": {
     "iopub.execute_input": "2023-05-29T19:32:38.416032Z",
     "iopub.status.busy": "2023-05-29T19:32:38.415685Z",
     "iopub.status.idle": "2023-05-29T19:32:39.226743Z",
     "shell.execute_reply": "2023-05-29T19:32:39.225776Z",
     "shell.execute_reply.started": "2023-05-29T19:32:38.415991Z"
    },
    "id": "d13c7d5f",
    "outputId": "c0a4e158-cae7-4d7e-9f5a-38512155f502",
    "tags": []
   },
   "outputs": [
    {
     "data": {
      "application/vnd.jupyter.widget-view+json": {
       "model_id": "c2cf04e9d4fa4dd89d1c3a3cb5122d69",
       "version_major": 2,
       "version_minor": 0
      },
      "text/plain": [
       "VBox()"
      ]
     },
     "metadata": {},
     "output_type": "display_data"
    },
    {
     "data": {
      "application/vnd.jupyter.widget-view+json": {
       "model_id": "",
       "version_major": 2,
       "version_minor": 0
      },
      "text/plain": [
       "FloatProgress(value=0.0, bar_style='info', description='Progress:', layout=Layout(height='25px', width='50%'),…"
      ]
     },
     "metadata": {},
     "output_type": "display_data"
    },
    {
     "name": "stdout",
     "output_type": "stream",
     "text": [
      "-RECORD 0------------------------------------\n",
      " VendorID              | 1                   \n",
      " tpep_pickup_datetime  | 2018-10-01 00:23:34 \n",
      " tpep_dropoff_datetime | 2018-10-01 00:44:50 \n",
      " passenger_count       | 1.0                 \n",
      " trip_distance         | 6.2                 \n",
      " RatecodeID            | 1.0                 \n",
      " store_and_fwd_flag    | N                   \n",
      " PULocationID          | 68                  \n",
      " DOLocationID          | 7                   \n",
      " payment_type          | 2                   \n",
      " fare_amount           | 20.5                \n",
      " extra                 | 0.5                 \n",
      " mta_tax               | 0.5                 \n",
      " tip_amount            | 0.0                 \n",
      " tolls_amount          | 0.0                 \n",
      " improvement_surcharge | 0.3                 \n",
      " total_amount          | 21.8                \n",
      " congestion_surcharge  | null                \n",
      " airport_fee           | null                \n",
      "-RECORD 1------------------------------------\n",
      " VendorID              | 1                   \n",
      " tpep_pickup_datetime  | 2018-10-01 00:40:05 \n",
      " tpep_dropoff_datetime | 2018-10-01 01:01:56 \n",
      " passenger_count       | 1.0                 \n",
      " trip_distance         | 12.6                \n",
      " RatecodeID            | 1.0                 \n",
      " store_and_fwd_flag    | N                   \n",
      " PULocationID          | 132                 \n",
      " DOLocationID          | 9                   \n",
      " payment_type          | 2                   \n",
      " fare_amount           | 35.0                \n",
      " extra                 | 0.5                 \n",
      " mta_tax               | 0.5                 \n",
      " tip_amount            | 0.0                 \n",
      " tolls_amount          | 0.0                 \n",
      " improvement_surcharge | 0.3                 \n",
      " total_amount          | 36.3                \n",
      " congestion_surcharge  | null                \n",
      " airport_fee           | null                \n",
      "-RECORD 2------------------------------------\n",
      " VendorID              | 1                   \n",
      " tpep_pickup_datetime  | 2018-10-01 00:05:35 \n",
      " tpep_dropoff_datetime | 2018-10-01 00:19:38 \n",
      " passenger_count       | 1.0                 \n",
      " trip_distance         | 6.1                 \n",
      " RatecodeID            | 1.0                 \n",
      " store_and_fwd_flag    | N                   \n",
      " PULocationID          | 50                  \n",
      " DOLocationID          | 244                 \n",
      " payment_type          | 1                   \n",
      " fare_amount           | 19.0                \n",
      " extra                 | 0.5                 \n",
      " mta_tax               | 0.5                 \n",
      " tip_amount            | 5.05                \n",
      " tolls_amount          | 0.0                 \n",
      " improvement_surcharge | 0.3                 \n",
      " total_amount          | 25.35               \n",
      " congestion_surcharge  | null                \n",
      " airport_fee           | null                \n",
      "-RECORD 3------------------------------------\n",
      " VendorID              | 1                   \n",
      " tpep_pickup_datetime  | 2018-10-01 00:42:56 \n",
      " tpep_dropoff_datetime | 2018-10-01 00:49:00 \n",
      " passenger_count       | 1.0                 \n",
      " trip_distance         | 1.3                 \n",
      " RatecodeID            | 1.0                 \n",
      " store_and_fwd_flag    | N                   \n",
      " PULocationID          | 151                 \n",
      " DOLocationID          | 239                 \n",
      " payment_type          | 2                   \n",
      " fare_amount           | 7.0                 \n",
      " extra                 | 0.5                 \n",
      " mta_tax               | 0.5                 \n",
      " tip_amount            | 0.0                 \n",
      " tolls_amount          | 0.0                 \n",
      " improvement_surcharge | 0.3                 \n",
      " total_amount          | 8.3                 \n",
      " congestion_surcharge  | null                \n",
      " airport_fee           | null                \n",
      "-RECORD 4------------------------------------\n",
      " VendorID              | 1                   \n",
      " tpep_pickup_datetime  | 2018-10-01 00:19:14 \n",
      " tpep_dropoff_datetime | 2018-10-01 00:31:54 \n",
      " passenger_count       | 1.0                 \n",
      " trip_distance         | 2.6                 \n",
      " RatecodeID            | 1.0                 \n",
      " store_and_fwd_flag    | N                   \n",
      " PULocationID          | 233                 \n",
      " DOLocationID          | 143                 \n",
      " payment_type          | 1                   \n",
      " fare_amount           | 11.0                \n",
      " extra                 | 0.5                 \n",
      " mta_tax               | 0.5                 \n",
      " tip_amount            | 2.45                \n",
      " tolls_amount          | 0.0                 \n",
      " improvement_surcharge | 0.3                 \n",
      " total_amount          | 14.75               \n",
      " congestion_surcharge  | null                \n",
      " airport_fee           | null                \n",
      "-RECORD 5------------------------------------\n",
      " VendorID              | 1                   \n",
      " tpep_pickup_datetime  | 2018-10-01 00:36:27 \n",
      " tpep_dropoff_datetime | 2018-10-01 01:39:20 \n",
      " passenger_count       | 1.0                 \n",
      " trip_distance         | 19.7                \n",
      " RatecodeID            | 1.0                 \n",
      " store_and_fwd_flag    | N                   \n",
      " PULocationID          | 132                 \n",
      " DOLocationID          | 7                   \n",
      " payment_type          | 3                   \n",
      " fare_amount           | 54.0                \n",
      " extra                 | 0.5                 \n",
      " mta_tax               | 0.5                 \n",
      " tip_amount            | 0.0                 \n",
      " tolls_amount          | 0.0                 \n",
      " improvement_surcharge | 0.3                 \n",
      " total_amount          | 55.3                \n",
      " congestion_surcharge  | null                \n",
      " airport_fee           | null                \n",
      "-RECORD 6------------------------------------\n",
      " VendorID              | 1                   \n",
      " tpep_pickup_datetime  | 2018-10-01 00:26:25 \n",
      " tpep_dropoff_datetime | 2018-10-01 00:34:58 \n",
      " passenger_count       | 1.0                 \n",
      " trip_distance         | 2.3                 \n",
      " RatecodeID            | 1.0                 \n",
      " store_and_fwd_flag    | N                   \n",
      " PULocationID          | 260                 \n",
      " DOLocationID          | 145                 \n",
      " payment_type          | 2                   \n",
      " fare_amount           | 9.0                 \n",
      " extra                 | 0.5                 \n",
      " mta_tax               | 0.5                 \n",
      " tip_amount            | 0.0                 \n",
      " tolls_amount          | 0.0                 \n",
      " improvement_surcharge | 0.3                 \n",
      " total_amount          | 10.3                \n",
      " congestion_surcharge  | null                \n",
      " airport_fee           | null                \n",
      "-RECORD 7------------------------------------\n",
      " VendorID              | 2                   \n",
      " tpep_pickup_datetime  | 2018-10-01 00:11:13 \n",
      " tpep_dropoff_datetime | 2018-10-01 00:40:02 \n",
      " passenger_count       | 1.0                 \n",
      " trip_distance         | 19.14               \n",
      " RatecodeID            | 2.0                 \n",
      " store_and_fwd_flag    | N                   \n",
      " PULocationID          | 132                 \n",
      " DOLocationID          | 249                 \n",
      " payment_type          | 1                   \n",
      " fare_amount           | 52.0                \n",
      " extra                 | 0.0                 \n",
      " mta_tax               | 0.5                 \n",
      " tip_amount            | 11.71               \n",
      " tolls_amount          | 5.76                \n",
      " improvement_surcharge | 0.3                 \n",
      " total_amount          | 70.27               \n",
      " congestion_surcharge  | null                \n",
      " airport_fee           | null                \n",
      "-RECORD 8------------------------------------\n",
      " VendorID              | 2                   \n",
      " tpep_pickup_datetime  | 2018-10-01 00:42:46 \n",
      " tpep_dropoff_datetime | 2018-10-01 00:57:59 \n",
      " passenger_count       | 1.0                 \n",
      " trip_distance         | 4.31                \n",
      " RatecodeID            | 1.0                 \n",
      " store_and_fwd_flag    | N                   \n",
      " PULocationID          | 249                 \n",
      " DOLocationID          | 143                 \n",
      " payment_type          | 1                   \n",
      " fare_amount           | 15.5                \n",
      " extra                 | 0.5                 \n",
      " mta_tax               | 0.5                 \n",
      " tip_amount            | 3.36                \n",
      " tolls_amount          | 0.0                 \n",
      " improvement_surcharge | 0.3                 \n",
      " total_amount          | 20.16               \n",
      " congestion_surcharge  | null                \n",
      " airport_fee           | null                \n",
      "-RECORD 9------------------------------------\n",
      " VendorID              | 2                   \n",
      " tpep_pickup_datetime  | 2018-10-01 00:33:49 \n",
      " tpep_dropoff_datetime | 2018-10-01 00:37:31 \n",
      " passenger_count       | 2.0                 \n",
      " trip_distance         | 0.64                \n",
      " RatecodeID            | 1.0                 \n",
      " store_and_fwd_flag    | N                   \n",
      " PULocationID          | 236                 \n",
      " DOLocationID          | 262                 \n",
      " payment_type          | 2                   \n",
      " fare_amount           | 4.5                 \n",
      " extra                 | 0.5                 \n",
      " mta_tax               | 0.5                 \n",
      " tip_amount            | 0.0                 \n",
      " tolls_amount          | 0.0                 \n",
      " improvement_surcharge | 0.3                 \n",
      " total_amount          | 5.8                 \n",
      " congestion_surcharge  | null                \n",
      " airport_fee           | null                \n",
      "only showing top 10 rows"
     ]
    }
   ],
   "source": [
    "df.show(10, vertical=True)"
   ]
  },
  {
   "cell_type": "markdown",
   "id": "bf3c4398",
   "metadata": {
    "id": "bf3c4398"
   },
   "source": [
    "We can slice out just a few columns with the `.select()` method:"
   ]
  },
  {
   "cell_type": "code",
   "execution_count": 27,
   "id": "cd7950e6",
   "metadata": {
    "execution": {
     "iopub.execute_input": "2023-05-29T19:32:39.246500Z",
     "iopub.status.busy": "2023-05-29T19:32:39.228020Z",
     "iopub.status.idle": "2023-05-29T19:32:40.075485Z",
     "shell.execute_reply": "2023-05-29T19:32:40.074441Z",
     "shell.execute_reply.started": "2023-05-29T19:32:39.246440Z"
    },
    "id": "cd7950e6",
    "outputId": "a09a34f8-155a-4b25-fe0a-235cf61570fa",
    "tags": []
   },
   "outputs": [
    {
     "data": {
      "application/vnd.jupyter.widget-view+json": {
       "model_id": "882f7e672fca43fb89d0584268040e6f",
       "version_major": 2,
       "version_minor": 0
      },
      "text/plain": [
       "VBox()"
      ]
     },
     "metadata": {},
     "output_type": "display_data"
    },
    {
     "data": {
      "application/vnd.jupyter.widget-view+json": {
       "model_id": "",
       "version_major": 2,
       "version_minor": 0
      },
      "text/plain": [
       "FloatProgress(value=0.0, bar_style='info', description='Progress:', layout=Layout(height='25px', width='50%'),…"
      ]
     },
     "metadata": {},
     "output_type": "display_data"
    },
    {
     "name": "stdout",
     "output_type": "stream",
     "text": [
      "+--------------------+-------------+-----------+\n",
      "|tpep_pickup_datetime|trip_distance|fare_amount|\n",
      "+--------------------+-------------+-----------+\n",
      "| 2018-10-01 00:23:34|          6.2|       20.5|\n",
      "| 2018-10-01 00:40:05|         12.6|       35.0|\n",
      "| 2018-10-01 00:05:35|          6.1|       19.0|\n",
      "| 2018-10-01 00:42:56|          1.3|        7.0|\n",
      "| 2018-10-01 00:19:14|          2.6|       11.0|\n",
      "| 2018-10-01 00:36:27|         19.7|       54.0|\n",
      "| 2018-10-01 00:26:25|          2.3|        9.0|\n",
      "| 2018-10-01 00:11:13|        19.14|       52.0|\n",
      "| 2018-10-01 00:42:46|         4.31|       15.5|\n",
      "| 2018-10-01 00:33:49|         0.64|        4.5|\n",
      "+--------------------+-------------+-----------+\n",
      "only showing top 10 rows"
     ]
    }
   ],
   "source": [
    "df.select('tpep_pickup_datetime', 'trip_distance', 'fare_amount').show(10)"
   ]
  },
  {
   "cell_type": "markdown",
   "id": "b2dd8b94",
   "metadata": {
    "id": "b2dd8b94"
   },
   "source": [
    "We can sort the outputs as well:"
   ]
  },
  {
   "cell_type": "code",
   "execution_count": 28,
   "id": "2d9f1e6e",
   "metadata": {
    "execution": {
     "iopub.execute_input": "2023-05-29T19:32:40.077405Z",
     "iopub.status.busy": "2023-05-29T19:32:40.077075Z",
     "iopub.status.idle": "2023-05-29T19:32:51.385323Z",
     "shell.execute_reply": "2023-05-29T19:32:51.384643Z",
     "shell.execute_reply.started": "2023-05-29T19:32:40.077370Z"
    },
    "id": "2d9f1e6e",
    "outputId": "10861512-7c6b-4506-e1c9-efdb2ad0aaa8"
   },
   "outputs": [
    {
     "data": {
      "application/vnd.jupyter.widget-view+json": {
       "model_id": "e5e69ebedcf24b54a1af1fc2356fd47b",
       "version_major": 2,
       "version_minor": 0
      },
      "text/plain": [
       "VBox()"
      ]
     },
     "metadata": {},
     "output_type": "display_data"
    },
    {
     "data": {
      "application/vnd.jupyter.widget-view+json": {
       "model_id": "",
       "version_major": 2,
       "version_minor": 0
      },
      "text/plain": [
       "FloatProgress(value=0.0, bar_style='info', description='Progress:', layout=Layout(height='25px', width='50%'),…"
      ]
     },
     "metadata": {},
     "output_type": "display_data"
    },
    {
     "name": "stdout",
     "output_type": "stream",
     "text": [
      "+--------------------+-------------+-----------+\n",
      "|tpep_pickup_datetime|trip_distance|fare_amount|\n",
      "+--------------------+-------------+-----------+\n",
      "| 2018-10-18 14:16:24|        258.0|    9984.22|\n",
      "| 2018-10-06 15:52:05|        14.57|      99.99|\n",
      "| 2018-10-03 04:21:49|          0.0|      99.97|\n",
      "| 2018-10-22 09:07:00|        33.86|      99.93|\n",
      "| 2018-10-29 16:21:56|         5.54|       99.8|\n",
      "| 2018-10-26 20:11:23|          0.0|       99.8|\n",
      "| 2018-10-26 20:59:51|          0.0|       99.8|\n",
      "| 2018-10-24 08:18:32|          0.0|       99.8|\n",
      "| 2018-10-12 02:40:40|         21.7|      99.75|\n",
      "| 2018-10-17 04:30:25|         28.1|      99.75|\n",
      "+--------------------+-------------+-----------+\n",
      "only showing top 10 rows"
     ]
    }
   ],
   "source": [
    "df.select('tpep_pickup_datetime', 'trip_distance', 'fare_amount').sort('fare_amount', ascending=False).show(10)"
   ]
  },
  {
   "cell_type": "markdown",
   "id": "dc02a6e0",
   "metadata": {
    "id": "dc02a6e0"
   },
   "source": [
    "The total count of rows for the whole dataframe is returned using the `.count()`, just like for an RDD:"
   ]
  },
  {
   "cell_type": "code",
   "execution_count": 29,
   "id": "a843bff8",
   "metadata": {
    "execution": {
     "iopub.execute_input": "2023-05-29T19:32:51.386520Z",
     "iopub.status.busy": "2023-05-29T19:32:51.386289Z",
     "iopub.status.idle": "2023-05-29T19:32:56.667291Z",
     "shell.execute_reply": "2023-05-29T19:32:56.666449Z",
     "shell.execute_reply.started": "2023-05-29T19:32:51.386497Z"
    },
    "id": "a843bff8",
    "outputId": "d82562bd-1175-4bec-e345-90986ade0349",
    "tags": []
   },
   "outputs": [
    {
     "data": {
      "application/vnd.jupyter.widget-view+json": {
       "model_id": "2e710935d204435981cffda010210d0c",
       "version_major": 2,
       "version_minor": 0
      },
      "text/plain": [
       "VBox()"
      ]
     },
     "metadata": {},
     "output_type": "display_data"
    },
    {
     "data": {
      "application/vnd.jupyter.widget-view+json": {
       "model_id": "",
       "version_major": 2,
       "version_minor": 0
      },
      "text/plain": [
       "FloatProgress(value=0.0, bar_style='info', description='Progress:', layout=Layout(height='25px', width='50%'),…"
      ]
     },
     "metadata": {},
     "output_type": "display_data"
    },
    {
     "name": "stdout",
     "output_type": "stream",
     "text": [
      "8834520"
     ]
    }
   ],
   "source": [
    "df.count()"
   ]
  },
  {
   "cell_type": "markdown",
   "id": "21fb9633",
   "metadata": {
    "id": "21fb9633"
   },
   "source": [
    "For large datasets, even counting the number of rows can be an expensive operation! We can see that there are almost 9 million rides in the dataset! How many pick-up location do we have in the data set?"
   ]
  },
  {
   "cell_type": "code",
   "execution_count": 30,
   "id": "4d1f2acb",
   "metadata": {
    "execution": {
     "iopub.execute_input": "2023-05-29T19:32:56.668474Z",
     "iopub.status.busy": "2023-05-29T19:32:56.668253Z",
     "iopub.status.idle": "2023-05-29T19:33:07.972435Z",
     "shell.execute_reply": "2023-05-29T19:33:07.971387Z",
     "shell.execute_reply.started": "2023-05-29T19:32:56.668452Z"
    },
    "id": "4d1f2acb",
    "outputId": "c7b72ead-de98-4acf-e258-04946fc7b41b",
    "tags": []
   },
   "outputs": [
    {
     "data": {
      "application/vnd.jupyter.widget-view+json": {
       "model_id": "4a43842af1774c25b4a65480436f471b",
       "version_major": 2,
       "version_minor": 0
      },
      "text/plain": [
       "VBox()"
      ]
     },
     "metadata": {},
     "output_type": "display_data"
    },
    {
     "data": {
      "application/vnd.jupyter.widget-view+json": {
       "model_id": "",
       "version_major": 2,
       "version_minor": 0
      },
      "text/plain": [
       "FloatProgress(value=0.0, bar_style='info', description='Progress:', layout=Layout(height='25px', width='50%'),…"
      ]
     },
     "metadata": {},
     "output_type": "display_data"
    },
    {
     "name": "stdout",
     "output_type": "stream",
     "text": [
      "262"
     ]
    }
   ],
   "source": [
    "df.select('PULocationID').distinct().count()"
   ]
  },
  {
   "cell_type": "markdown",
   "id": "240df167",
   "metadata": {
    "id": "240df167"
   },
   "source": [
    "Dataframes in Spark are _immutable_, which means that data in individual columns cannot be updated / modified as it would be in other cases (like pandas or R). However, new columns can be created from old columns (and also overwrite/replace entire existing columns) with the `withColumn` method (see the [documentation](https://spark.apache.org/docs/latest/api/python/reference/pyspark.sql/api/pyspark.sql.DataFrame.withColumn.html) for more info), and unneeded columns dropped using `drop`.\n",
    "\n",
    "While the `drop` function just takes a comma-separated list of column names, the `withColumn` function, like many functions in Spark, takes a DataFrame column as an argument. We will correct the datatype of the `trip_distance`, `passenger_count` and `tpep_pickup_datetime` columns first: "
   ]
  },
  {
   "cell_type": "code",
   "execution_count": 31,
   "id": "cb9b30ab",
   "metadata": {
    "execution": {
     "iopub.execute_input": "2023-05-29T19:33:07.979460Z",
     "iopub.status.busy": "2023-05-29T19:33:07.979167Z",
     "iopub.status.idle": "2023-05-29T19:33:08.246495Z",
     "shell.execute_reply": "2023-05-29T19:33:08.245593Z",
     "shell.execute_reply.started": "2023-05-29T19:33:07.979422Z"
    },
    "id": "cb9b30ab",
    "outputId": "90735e09-9f6d-465d-b162-55b23611bf23",
    "tags": []
   },
   "outputs": [
    {
     "data": {
      "application/vnd.jupyter.widget-view+json": {
       "model_id": "10202c2423df4ea394b00ce015b80a9e",
       "version_major": 2,
       "version_minor": 0
      },
      "text/plain": [
       "VBox()"
      ]
     },
     "metadata": {},
     "output_type": "display_data"
    },
    {
     "data": {
      "application/vnd.jupyter.widget-view+json": {
       "model_id": "",
       "version_major": 2,
       "version_minor": 0
      },
      "text/plain": [
       "FloatProgress(value=0.0, bar_style='info', description='Progress:', layout=Layout(height='25px', width='50%'),…"
      ]
     },
     "metadata": {},
     "output_type": "display_data"
    }
   ],
   "source": [
    "df = df.withColumn(\"trip_distance\", df[\"trip_distance\"].cast('float'))\n",
    "\n",
    "df = df.withColumn(\"passenger_count\", df[\"passenger_count\"].cast('int'))\n",
    "\n",
    "df = df.withColumn(\"tpep_pickup_datetime\", df[\"tpep_pickup_datetime\"].cast('timestamp'))"
   ]
  },
  {
   "cell_type": "code",
   "execution_count": 32,
   "id": "03fb15c9",
   "metadata": {
    "execution": {
     "iopub.execute_input": "2023-05-29T19:33:08.249515Z",
     "iopub.status.busy": "2023-05-29T19:33:08.249167Z",
     "iopub.status.idle": "2023-05-29T19:33:08.309420Z",
     "shell.execute_reply": "2023-05-29T19:33:08.308256Z",
     "shell.execute_reply.started": "2023-05-29T19:33:08.249479Z"
    },
    "id": "03fb15c9",
    "outputId": "90735e09-9f6d-465d-b162-55b23611bf23",
    "tags": []
   },
   "outputs": [
    {
     "data": {
      "application/vnd.jupyter.widget-view+json": {
       "model_id": "c28fe2f285d84818baa213d97925849b",
       "version_major": 2,
       "version_minor": 0
      },
      "text/plain": [
       "VBox()"
      ]
     },
     "metadata": {},
     "output_type": "display_data"
    },
    {
     "data": {
      "application/vnd.jupyter.widget-view+json": {
       "model_id": "",
       "version_major": 2,
       "version_minor": 0
      },
      "text/plain": [
       "FloatProgress(value=0.0, bar_style='info', description='Progress:', layout=Layout(height='25px', width='50%'),…"
      ]
     },
     "metadata": {},
     "output_type": "display_data"
    },
    {
     "name": "stdout",
     "output_type": "stream",
     "text": [
      "root\n",
      " |-- VendorID: string (nullable = true)\n",
      " |-- tpep_pickup_datetime: timestamp (nullable = true)\n",
      " |-- tpep_dropoff_datetime: string (nullable = true)\n",
      " |-- passenger_count: integer (nullable = true)\n",
      " |-- trip_distance: float (nullable = true)\n",
      " |-- RatecodeID: string (nullable = true)\n",
      " |-- store_and_fwd_flag: string (nullable = true)\n",
      " |-- PULocationID: string (nullable = true)\n",
      " |-- DOLocationID: string (nullable = true)\n",
      " |-- payment_type: string (nullable = true)\n",
      " |-- fare_amount: string (nullable = true)\n",
      " |-- extra: string (nullable = true)\n",
      " |-- mta_tax: string (nullable = true)\n",
      " |-- tip_amount: string (nullable = true)\n",
      " |-- tolls_amount: string (nullable = true)\n",
      " |-- improvement_surcharge: string (nullable = true)\n",
      " |-- total_amount: string (nullable = true)\n",
      " |-- congestion_surcharge: string (nullable = true)\n",
      " |-- airport_fee: string (nullable = true)"
     ]
    }
   ],
   "source": [
    "# Check\n",
    "df.printSchema()"
   ]
  },
  {
   "cell_type": "markdown",
   "id": "fc891e53",
   "metadata": {
    "id": "fc891e53"
   },
   "source": [
    "We can see that the data representation actually changed:"
   ]
  },
  {
   "cell_type": "code",
   "execution_count": 33,
   "id": "e52498b1",
   "metadata": {
    "execution": {
     "iopub.execute_input": "2023-05-29T19:33:08.311279Z",
     "iopub.status.busy": "2023-05-29T19:33:08.310929Z",
     "iopub.status.idle": "2023-05-29T19:33:09.074774Z",
     "shell.execute_reply": "2023-05-29T19:33:09.073633Z",
     "shell.execute_reply.started": "2023-05-29T19:33:08.311240Z"
    },
    "id": "e52498b1",
    "outputId": "a3c74fb3-dc6e-4445-9b76-58d06c897585",
    "scrolled": true,
    "tags": []
   },
   "outputs": [
    {
     "data": {
      "application/vnd.jupyter.widget-view+json": {
       "model_id": "4db0e3499e9c4a2294720626448ab6b7",
       "version_major": 2,
       "version_minor": 0
      },
      "text/plain": [
       "VBox()"
      ]
     },
     "metadata": {},
     "output_type": "display_data"
    },
    {
     "data": {
      "application/vnd.jupyter.widget-view+json": {
       "model_id": "",
       "version_major": 2,
       "version_minor": 0
      },
      "text/plain": [
       "FloatProgress(value=0.0, bar_style='info', description='Progress:', layout=Layout(height='25px', width='50%'),…"
      ]
     },
     "metadata": {},
     "output_type": "display_data"
    },
    {
     "name": "stdout",
     "output_type": "stream",
     "text": [
      "[Row(VendorID='1', tpep_pickup_datetime=datetime.datetime(2018, 10, 1, 0, 23, 34), tpep_dropoff_datetime='2018-10-01 00:44:50', passenger_count=1, trip_distance=6.199999809265137, RatecodeID='1.0', store_and_fwd_flag='N', PULocationID='68', DOLocationID='7', payment_type='2', fare_amount='20.5', extra='0.5', mta_tax='0.5', tip_amount='0.0', tolls_amount='0.0', improvement_surcharge='0.3', total_amount='21.8', congestion_surcharge=None, airport_fee=None)]"
     ]
    }
   ],
   "source": [
    "df.take(1)"
   ]
  },
  {
   "cell_type": "markdown",
   "id": "4833029d",
   "metadata": {
    "id": "4833029d"
   },
   "source": [
    "Now, we can dig deeper into the data and use the `.agg()` method to aggregate specific columns. For example, let's calculate the mean trip_distance again:"
   ]
  },
  {
   "cell_type": "code",
   "execution_count": 34,
   "id": "d08010d4",
   "metadata": {
    "execution": {
     "iopub.execute_input": "2023-05-29T19:33:09.076690Z",
     "iopub.status.busy": "2023-05-29T19:33:09.076150Z",
     "iopub.status.idle": "2023-05-29T19:33:18.406961Z",
     "shell.execute_reply": "2023-05-29T19:33:18.406163Z",
     "shell.execute_reply.started": "2023-05-29T19:33:09.076650Z"
    },
    "id": "d08010d4",
    "outputId": "95af59ce-6f01-454a-8be1-c2695d47ef6c",
    "tags": []
   },
   "outputs": [
    {
     "data": {
      "application/vnd.jupyter.widget-view+json": {
       "model_id": "43f5a66edd0248dbb5bee891449a8388",
       "version_major": 2,
       "version_minor": 0
      },
      "text/plain": [
       "VBox()"
      ]
     },
     "metadata": {},
     "output_type": "display_data"
    },
    {
     "data": {
      "application/vnd.jupyter.widget-view+json": {
       "model_id": "",
       "version_major": 2,
       "version_minor": 0
      },
      "text/plain": [
       "FloatProgress(value=0.0, bar_style='info', description='Progress:', layout=Layout(height='25px', width='50%'),…"
      ]
     },
     "metadata": {},
     "output_type": "display_data"
    },
    {
     "name": "stdout",
     "output_type": "stream",
     "text": [
      "+------------------+\n",
      "|avg(trip_distance)|\n",
      "+------------------+\n",
      "| 2.996145569781007|\n",
      "+------------------+"
     ]
    }
   ],
   "source": [
    "df.agg({\"trip_distance\": \"mean\"}).show()"
   ]
  },
  {
   "cell_type": "markdown",
   "id": "a569e3d5",
   "metadata": {
    "id": "a569e3d5"
   },
   "source": [
    "#### Exercise 1\n",
    "\n",
    "Let's clean and understand our data further.\n",
    "\n",
    "1. Using `withColumn` and `cast`, convert the **fare_amount** and **tip_amount** columns to `float` data type.\n",
    "2. Calculate a new column, `tip_pct`, which is the ratio of the tip amount and the base fare, and show the top 10 records of this new column.\n",
    "3. Calculate the average tip percentage across all rides."
   ]
  },
  {
   "cell_type": "code",
   "execution_count": null,
   "id": "d58acaf9",
   "metadata": {},
   "outputs": [],
   "source": []
  },
  {
   "cell_type": "markdown",
   "id": "fc9f251e",
   "metadata": {
    "id": "fc9f251e",
    "tags": []
   },
   "source": [
    "### Transformations and Actions\n",
    "\n",
    "In Spark, there are two main types of operations:\n",
    "- _transformations_ are used to create new data sets from existing data, and\n",
    "- _actions_ return a value after doing a computation.\n",
    "\n",
    "The very important distinction between the two is while transformations add computations to the plan without executing it immediately, it is only when an action is called that all the computations will be done. This is known as _lazy evaluation_: no computation is done until absolutely necessary.\n",
    "\n",
    "<center>\n",
    "<img src=\"data:image/png;base64,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\"/>\n",
    "<caption>Transformations create a plan, actions execute\n",
    "</caption>\n",
    "<br>\n",
    "<br>\n",
    "</center>\n",
    "\n",
    "Operations like `map()`, `distinct()`, `groupby()`, or `avg()` are transformations, a computational strategy for creating a new dataframe from the current ones (note that dataframes are immutable in Spark so we always create new ones). \n",
    "\n",
    "Unlike transformations, actions execute the computation and actually \"do work\" on the cluster. Adding many different transformations creates a chain which will be executed in sequence, and Spark translates into the appropriate steps in computation and data movement (the \"plan\").\n",
    "\n",
    "One of the most common actions is `collect()`. It does the computations on the cluster and then draws the result into memory on the head node. Care should be taken when calling this, as if the size of the data is larger then what is available on the head node than it will fail or overload the head node. Further actions are `count()`, `take()` or `show()`."
   ]
  },
  {
   "cell_type": "markdown",
   "id": "b23851d2",
   "metadata": {
    "id": "b23851d2"
   },
   "source": [
    "### Spark Built-in Functions"
   ]
  },
  {
   "cell_type": "markdown",
   "id": "1a41e99e",
   "metadata": {
    "id": "1a41e99e"
   },
   "source": [
    "In order to extract the information from trip duration, we can use string or date-time methods. A large number of useful utility functions can be loaded from the `pyspark.sql.functions` submodule - these functions are always more effective than writing our own transformations or applying `.map()`."
   ]
  },
  {
   "cell_type": "code",
   "execution_count": 35,
   "id": "24226ee9",
   "metadata": {
    "execution": {
     "iopub.execute_input": "2023-05-29T19:33:18.408236Z",
     "iopub.status.busy": "2023-05-29T19:33:18.407984Z",
     "iopub.status.idle": "2023-05-29T19:33:19.169092Z",
     "shell.execute_reply": "2023-05-29T19:33:19.168104Z",
     "shell.execute_reply.started": "2023-05-29T19:33:18.408213Z"
    },
    "id": "24226ee9",
    "outputId": "b01b2f3a-c07d-47fe-bc39-0ea9ad2c60f8"
   },
   "outputs": [
    {
     "data": {
      "application/vnd.jupyter.widget-view+json": {
       "model_id": "a42039e1ce024053b67bd269dd2c9f2b",
       "version_major": 2,
       "version_minor": 0
      },
      "text/plain": [
       "VBox()"
      ]
     },
     "metadata": {},
     "output_type": "display_data"
    },
    {
     "data": {
      "application/vnd.jupyter.widget-view+json": {
       "model_id": "",
       "version_major": 2,
       "version_minor": 0
      },
      "text/plain": [
       "FloatProgress(value=0.0, bar_style='info', description='Progress:', layout=Layout(height='25px', width='50%'),…"
      ]
     },
     "metadata": {},
     "output_type": "display_data"
    },
    {
     "name": "stdout",
     "output_type": "stream",
     "text": [
      "+--------------------+-----------+-----------+\n",
      "|tpep_pickup_datetime|pickup_date|pickup_hour|\n",
      "+--------------------+-----------+-----------+\n",
      "| 2018-10-01 00:23:34| 2018-10-01|          0|\n",
      "| 2018-10-01 00:40:05| 2018-10-01|          0|\n",
      "| 2018-10-01 00:05:35| 2018-10-01|          0|\n",
      "| 2018-10-01 00:42:56| 2018-10-01|          0|\n",
      "| 2018-10-01 00:19:14| 2018-10-01|          0|\n",
      "+--------------------+-----------+-----------+\n",
      "only showing top 5 rows"
     ]
    }
   ],
   "source": [
    "from pyspark.sql.functions import to_date, hour\n",
    "\n",
    "df = df.withColumn('pickup_date', to_date(df['tpep_pickup_datetime'])) \n",
    "df = df.withColumn('pickup_hour', hour(df['tpep_pickup_datetime'])) \n",
    "\n",
    "df.select('tpep_pickup_datetime', 'pickup_date', 'pickup_hour').show(5)"
   ]
  },
  {
   "cell_type": "markdown",
   "id": "4be477c3",
   "metadata": {
    "id": "4be477c3"
   },
   "source": [
    "This allows us to understand how time of day affects taxi usage:"
   ]
  },
  {
   "cell_type": "code",
   "execution_count": 36,
   "id": "a32f15f7",
   "metadata": {
    "execution": {
     "iopub.execute_input": "2023-05-29T19:33:19.170485Z",
     "iopub.status.busy": "2023-05-29T19:33:19.170198Z",
     "iopub.status.idle": "2023-05-29T19:33:30.478214Z",
     "shell.execute_reply": "2023-05-29T19:33:30.477340Z",
     "shell.execute_reply.started": "2023-05-29T19:33:19.170459Z"
    },
    "id": "a32f15f7",
    "outputId": "42fa27c7-b473-486b-d80e-f286994c436f"
   },
   "outputs": [
    {
     "data": {
      "application/vnd.jupyter.widget-view+json": {
       "model_id": "e5305c6f8f114b21a3373e08e010ecaa",
       "version_major": 2,
       "version_minor": 0
      },
      "text/plain": [
       "VBox()"
      ]
     },
     "metadata": {},
     "output_type": "display_data"
    },
    {
     "data": {
      "application/vnd.jupyter.widget-view+json": {
       "model_id": "",
       "version_major": 2,
       "version_minor": 0
      },
      "text/plain": [
       "FloatProgress(value=0.0, bar_style='info', description='Progress:', layout=Layout(height='25px', width='50%'),…"
      ]
     },
     "metadata": {},
     "output_type": "display_data"
    },
    {
     "name": "stdout",
     "output_type": "stream",
     "text": [
      "+-----------+------------------+\n",
      "|pickup_hour|avg(trip_distance)|\n",
      "+-----------+------------------+\n",
      "|          0|   3.3790431446791|\n",
      "|          1| 3.155846546286721|\n",
      "|          2| 3.032917337766958|\n",
      "|          3|  3.23658327474544|\n",
      "|          4|4.0948981877690676|\n",
      "|          5|  4.54383114836558|\n",
      "|          6|3.4773395799917584|\n",
      "|          7|2.9194732312593112|\n",
      "|          8|  2.67456556472397|\n",
      "|          9|2.6655875992575395|\n",
      "|         10| 2.712151235288979|\n",
      "|         11|2.7127172039358642|\n",
      "|         12|2.8276014200598776|\n",
      "|         13| 2.975941792291651|\n",
      "|         14|3.1045253696352297|\n",
      "|         15| 2.970253423787858|\n",
      "|         16|3.1301303135197003|\n",
      "|         17|2.8959199292452666|\n",
      "|         18| 2.742157417756311|\n",
      "|         19| 2.747300828057295|\n",
      "+-----------+------------------+\n",
      "only showing top 20 rows"
     ]
    }
   ],
   "source": [
    "avg_dist_df = df.groupby('pickup_hour').avg('trip_distance')\n",
    "\n",
    "avg_dist_df.sort('pickup_hour').show()"
   ]
  },
  {
   "cell_type": "markdown",
   "id": "3b6e5e3d",
   "metadata": {
    "id": "3b6e5e3d"
   },
   "source": [
    "The Spark functions can be effectively used in combination with the `.filter()` method as well without creating a new column to look at subsets of the data:"
   ]
  },
  {
   "cell_type": "code",
   "execution_count": 37,
   "id": "c6e8eca7",
   "metadata": {
    "execution": {
     "iopub.execute_input": "2023-05-29T19:33:30.480009Z",
     "iopub.status.busy": "2023-05-29T19:33:30.479650Z",
     "iopub.status.idle": "2023-05-29T19:33:31.235581Z",
     "shell.execute_reply": "2023-05-29T19:33:31.234561Z",
     "shell.execute_reply.started": "2023-05-29T19:33:30.479971Z"
    },
    "id": "c6e8eca7",
    "outputId": "85042fc6-625a-4809-f0d7-0868908c69dd"
   },
   "outputs": [
    {
     "data": {
      "application/vnd.jupyter.widget-view+json": {
       "model_id": "87b4664740314d3fa7cb2ee7ba059c8b",
       "version_major": 2,
       "version_minor": 0
      },
      "text/plain": [
       "VBox()"
      ]
     },
     "metadata": {},
     "output_type": "display_data"
    },
    {
     "data": {
      "application/vnd.jupyter.widget-view+json": {
       "model_id": "",
       "version_major": 2,
       "version_minor": 0
      },
      "text/plain": [
       "FloatProgress(value=0.0, bar_style='info', description='Progress:', layout=Layout(height='25px', width='50%'),…"
      ]
     },
     "metadata": {},
     "output_type": "display_data"
    },
    {
     "name": "stdout",
     "output_type": "stream",
     "text": [
      "-RECORD 0------------------------------------\n",
      " VendorID              | 2                   \n",
      " tpep_pickup_datetime  | 2018-10-01 10:00:54 \n",
      " tpep_dropoff_datetime | 2018-10-01 10:11:40 \n",
      " passenger_count       | 1                   \n",
      " trip_distance         | 1.13                \n",
      " RatecodeID            | 1.0                 \n",
      " store_and_fwd_flag    | N                   \n",
      " PULocationID          | 237                 \n",
      " DOLocationID          | 43                  \n",
      " payment_type          | 2                   \n",
      " fare_amount           | 8.5                 \n",
      " extra                 | 0.0                 \n",
      " mta_tax               | 0.5                 \n",
      " tip_amount            | 0.0                 \n",
      " tolls_amount          | 0.0                 \n",
      " improvement_surcharge | 0.3                 \n",
      " total_amount          | 9.3                 \n",
      " congestion_surcharge  | null                \n",
      " airport_fee           | null                \n",
      " pickup_date           | 2018-10-01          \n",
      " pickup_hour           | 10                  \n",
      "only showing top 1 row"
     ]
    }
   ],
   "source": [
    "df.filter(hour(df[\"tpep_pickup_datetime\"]) == 10).show(1, vertical=True)"
   ]
  },
  {
   "cell_type": "markdown",
   "id": "81a58960",
   "metadata": {
    "id": "81a58960",
    "tags": []
   },
   "source": [
    "### Exporting from Spark to a local Pandas dataframe\n",
    "\n",
    "In a working Big Data environment, large datasets would be initially read into Spark and worked with using the distributed (cluster) environment and then can be converted to pandas once they've been reduced down by filtering, aggregation, and other processing. \n",
    "\n",
    "If the pandas library is installed on the head node, there is a `.toPandas()` method which will convert a Spark DataFrame into a pandas DataFrame. However, care should be taken when using the `.toPandas()` (or `.collect()` ), as it must be guaranteed that the data in the Spark DataFrame will fit into memory.\n",
    "\n",
    "An alternative approach would be to write reduced data out to either HDFS or another filesystem (S3, Google Cloud Storage, Azure Blob Storage, etc.) or even a database as part of a Big Data analysis workflow."
   ]
  },
  {
   "cell_type": "code",
   "execution_count": 38,
   "id": "8573108a",
   "metadata": {
    "execution": {
     "iopub.execute_input": "2023-05-29T19:33:31.236918Z",
     "iopub.status.busy": "2023-05-29T19:33:31.236686Z",
     "iopub.status.idle": "2023-05-29T19:33:42.534526Z",
     "shell.execute_reply": "2023-05-29T19:33:42.533687Z",
     "shell.execute_reply.started": "2023-05-29T19:33:31.236896Z"
    },
    "id": "8573108a",
    "outputId": "b6f5c732-e61e-4b81-f410-e5f86b987e12"
   },
   "outputs": [
    {
     "data": {
      "application/vnd.jupyter.widget-view+json": {
       "model_id": "aa67c3a924884447b380ffa6a7fb5ddf",
       "version_major": 2,
       "version_minor": 0
      },
      "text/plain": [
       "VBox()"
      ]
     },
     "metadata": {},
     "output_type": "display_data"
    },
    {
     "data": {
      "application/vnd.jupyter.widget-view+json": {
       "model_id": "",
       "version_major": 2,
       "version_minor": 0
      },
      "text/plain": [
       "FloatProgress(value=0.0, bar_style='info', description='Progress:', layout=Layout(height='25px', width='50%'),…"
      ]
     },
     "metadata": {},
     "output_type": "display_data"
    },
    {
     "name": "stdout",
     "output_type": "stream",
     "text": [
      "   pickup_hour  avg(trip_distance)\n",
      "0           12            2.827601\n",
      "1            1            3.155847\n",
      "2            6            3.477340\n",
      "3            3            3.236583\n",
      "4            4            4.094898"
     ]
    }
   ],
   "source": [
    "avg_dist_pd = avg_dist_df.toPandas()\n",
    "\n",
    "avg_dist_pd.head()"
   ]
  },
  {
   "cell_type": "markdown",
   "id": "53dff3f8",
   "metadata": {
    "id": "53dff3f8"
   },
   "source": [
    "Working with pandas dataframes allows us to visualize our data as usual:"
   ]
  },
  {
   "cell_type": "code",
   "execution_count": 39,
   "id": "ae4e0228",
   "metadata": {
    "execution": {
     "iopub.execute_input": "2023-05-29T19:33:42.535912Z",
     "iopub.status.busy": "2023-05-29T19:33:42.535630Z",
     "iopub.status.idle": "2023-05-29T19:33:42.793490Z",
     "shell.execute_reply": "2023-05-29T19:33:42.792521Z",
     "shell.execute_reply.started": "2023-05-29T19:33:42.535888Z"
    },
    "id": "ae4e0228",
    "outputId": "1c7b1a18-0395-4c00-84c5-90d2697f7d62"
   },
   "outputs": [
    {
     "data": {
      "application/vnd.jupyter.widget-view+json": {
       "model_id": "18e0911fc5074214a7b77d465ec31fc1",
       "version_major": 2,
       "version_minor": 0
      },
      "text/plain": [
       "VBox()"
      ]
     },
     "metadata": {},
     "output_type": "display_data"
    },
    {
     "data": {
      "application/vnd.jupyter.widget-view+json": {
       "model_id": "",
       "version_major": 2,
       "version_minor": 0
      },
      "text/plain": [
       "FloatProgress(value=0.0, bar_style='info', description='Progress:', layout=Layout(height='25px', width='50%'),…"
      ]
     },
     "metadata": {},
     "output_type": "display_data"
    },
    {
     "data": {
      "image/png": "[encoded data removed]",
      "text/plain": [
       "<IPython.core.display.Image object>"
      ]
     },
     "metadata": {},
     "output_type": "display_data"
    }
   ],
   "source": [
    "plt.figure()\n",
    "\n",
    "avg_dist_pd.sort_values(\"pickup_hour\")\\\n",
    "    .set_index(\"pickup_hour\")\\\n",
    "    .plot(marker='o', figsize=(10, 5), title=\"Average trip distance during the day\")\n",
    "\n",
    "plt.show()\n",
    "\n",
    "%matplot plt"
   ]
  },
  {
   "cell_type": "markdown",
   "id": "883344f1",
   "metadata": {
    "id": "883344f1"
   },
   "source": [
    "Interestingly, the average trip distance peaks at 5am with 4.5 miles while staying lower during the day around 3 miles, gradually picking up during the day. Do you have any guesses about the early morning peak?"
   ]
  },
  {
   "cell_type": "markdown",
   "id": "911d51b1",
   "metadata": {
    "id": "911d51b1"
   },
   "source": [
    "#### Exercise 2\n",
    "\n",
    "Let's analyze the usage further, now on a daily level.\n",
    "\n",
    "1. How many daily trips do we have recorded? Do you notice anything out of ordinary?\n",
    "2. Filter the trips to October 2018 only. You can make use of the Spark SQL built-in functions such as `year()` and `month()` to extract the relevant date information.\n",
    "3. Find the total fare charged for each day and visualize the results. Don't forget to use `.toPandas()` before plotting."
   ]
  },
  {
   "cell_type": "code",
   "execution_count": 40,
   "id": "48210f0b",
   "metadata": {
    "execution": {
     "iopub.execute_input": "2023-05-29T19:33:42.794976Z",
     "iopub.status.busy": "2023-05-29T19:33:42.794705Z",
     "iopub.status.idle": "2023-05-29T19:33:42.841783Z",
     "shell.execute_reply": "2023-05-29T19:33:42.841091Z",
     "shell.execute_reply.started": "2023-05-29T19:33:42.794952Z"
    },
    "id": "48210f0b"
   },
   "outputs": [
    {
     "data": {
      "application/vnd.jupyter.widget-view+json": {
       "model_id": "117e8d4319104d62b6bdaeb2f239efbb",
       "version_major": 2,
       "version_minor": 0
      },
      "text/plain": [
       "VBox()"
      ]
     },
     "metadata": {},
     "output_type": "display_data"
    },
    {
     "data": {
      "application/vnd.jupyter.widget-view+json": {
       "model_id": "",
       "version_major": 2,
       "version_minor": 0
      },
      "text/plain": [
       "FloatProgress(value=0.0, bar_style='info', description='Progress:', layout=Layout(height='25px', width='50%'),…"
      ]
     },
     "metadata": {},
     "output_type": "display_data"
    }
   ],
   "source": [
    "from pyspark.sql.functions import year, month\n",
    "\n",
    "# your code comes here\n",
    "\n"
   ]
  },
  {
   "cell_type": "markdown",
   "id": "54ef9f67",
   "metadata": {
    "id": "54ef9f67",
    "tags": []
   },
   "source": [
    "### Spark SQL"
   ]
  },
  {
   "cell_type": "markdown",
   "id": "c91be090",
   "metadata": {
    "id": "c91be090"
   },
   "source": [
    "Spark SQL refers both to the aggregation functions available to work with data within DataFrames as one would with RDDs, as well as the ability to conveniently query and aggregate data using ordinary SQL queries via use of the `spark.sql` module. Spark SQL can also be used to query any data that is available in Hive tables directly.\n",
    "\n",
    "It should be emphasized that Spark is not a database (!) however the internals can take SQL queries and convert them into transformations which are then optimized and executed by the Spark engine. The Spark functions that we used above have equivalent representations as SQL queries that can be executed using `spark.sql()`."
   ]
  },
  {
   "cell_type": "markdown",
   "id": "5b4a0d89",
   "metadata": {
    "id": "5b4a0d89"
   },
   "source": [
    "Using SQL requires the `CreateorReplaceTempView` function, which registers the data as a view in the Spark session (note that the view will only be available until the current Spark session ends). We can then query against that view with SQL, with the view name being the table name:"
   ]
  },
  {
   "cell_type": "code",
   "execution_count": 41,
   "id": "afa88cfc",
   "metadata": {
    "execution": {
     "iopub.execute_input": "2023-05-29T19:33:42.843258Z",
     "iopub.status.busy": "2023-05-29T19:33:42.842907Z",
     "iopub.status.idle": "2023-05-29T19:33:43.605843Z",
     "shell.execute_reply": "2023-05-29T19:33:43.605124Z",
     "shell.execute_reply.started": "2023-05-29T19:33:42.843231Z"
    },
    "id": "afa88cfc",
    "outputId": "a479e792-fd58-4cc8-c488-1e86ca674bfe",
    "tags": []
   },
   "outputs": [
    {
     "data": {
      "application/vnd.jupyter.widget-view+json": {
       "model_id": "34c440097ac344d695cd3fd2cbff6e19",
       "version_major": 2,
       "version_minor": 0
      },
      "text/plain": [
       "VBox()"
      ]
     },
     "metadata": {},
     "output_type": "display_data"
    },
    {
     "data": {
      "application/vnd.jupyter.widget-view+json": {
       "model_id": "",
       "version_major": 2,
       "version_minor": 0
      },
      "text/plain": [
       "FloatProgress(value=0.0, bar_style='info', description='Progress:', layout=Layout(height='25px', width='50%'),…"
      ]
     },
     "metadata": {},
     "output_type": "display_data"
    },
    {
     "name": "stdout",
     "output_type": "stream",
     "text": [
      "+------------+-------------+\n",
      "|PULocationID|trip_distance|\n",
      "+------------+-------------+\n",
      "|          68|          6.2|\n",
      "|         132|         12.6|\n",
      "|          50|          6.1|\n",
      "|         151|          1.3|\n",
      "|         233|          2.6|\n",
      "|         132|         19.7|\n",
      "|         260|          2.3|\n",
      "|         132|        19.14|\n",
      "|         249|         4.31|\n",
      "|         236|         0.64|\n",
      "+------------+-------------+\n",
      "only showing top 10 rows"
     ]
    }
   ],
   "source": [
    "# register the dataframe as a view\n",
    "df.createOrReplaceTempView(\"taxi_nyc\")\n",
    "\n",
    "# execute a SQL query\n",
    "spark.sql(\"SELECT PULocationID, trip_distance FROM taxi_nyc\").show(10)"
   ]
  },
  {
   "cell_type": "markdown",
   "id": "55a68190",
   "metadata": {
    "id": "55a68190"
   },
   "source": [
    "Let's do a simple `GROUP BY` to count the number of trips present in the data set for each pick-up location:"
   ]
  },
  {
   "cell_type": "code",
   "execution_count": 42,
   "id": "4442d78b",
   "metadata": {
    "execution": {
     "iopub.execute_input": "2023-05-29T19:33:43.607184Z",
     "iopub.status.busy": "2023-05-29T19:33:43.606911Z",
     "iopub.status.idle": "2023-05-29T19:33:52.895632Z",
     "shell.execute_reply": "2023-05-29T19:33:52.894674Z",
     "shell.execute_reply.started": "2023-05-29T19:33:43.607155Z"
    },
    "id": "4442d78b",
    "outputId": "64139835-7f93-45e5-f5d5-b1f3c60e66c9",
    "tags": []
   },
   "outputs": [
    {
     "data": {
      "application/vnd.jupyter.widget-view+json": {
       "model_id": "217323854e9a4e3ca2e05343e3cc3af6",
       "version_major": 2,
       "version_minor": 0
      },
      "text/plain": [
       "VBox()"
      ]
     },
     "metadata": {},
     "output_type": "display_data"
    },
    {
     "data": {
      "application/vnd.jupyter.widget-view+json": {
       "model_id": "",
       "version_major": 2,
       "version_minor": 0
      },
      "text/plain": [
       "FloatProgress(value=0.0, bar_style='info', description='Progress:', layout=Layout(height='25px', width='50%'),…"
      ]
     },
     "metadata": {},
     "output_type": "display_data"
    },
    {
     "name": "stdout",
     "output_type": "stream",
     "text": [
      "+------------+------+\n",
      "|PULocationID| count|\n",
      "+------------+------+\n",
      "|         237|393742|\n",
      "|         236|358902|\n",
      "|         161|335699|\n",
      "|         162|308639|\n",
      "|         186|293345|\n",
      "|         230|289526|\n",
      "|         170|275574|\n",
      "|         142|274640|\n",
      "|          48|273851|\n",
      "|         234|269748|\n",
      "+------------+------+\n",
      "only showing top 10 rows"
     ]
    }
   ],
   "source": [
    "spark.sql(\n",
    "    \"SELECT PULocationID, COUNT(*) AS count FROM taxi_nyc GROUP BY PULocationID ORDER BY count DESC\"\n",
    ").show(10)\n"
   ]
  },
  {
   "cell_type": "markdown",
   "id": "10ee1ac2-b038-4710-a03b-7c3a67bbfd37",
   "metadata": {
    "id": "10ee1ac2-b038-4710-a03b-7c3a67bbfd37"
   },
   "source": [
    "To create a better readable query, we can use the backslash character `\\` to break the long string into multiple lines (be careful not to include any other characters after the backslash, not even a whitespace)."
   ]
  },
  {
   "cell_type": "code",
   "execution_count": 43,
   "id": "9dc9b0fb-dce5-4a73-9d0a-68649dc1b9e4",
   "metadata": {
    "execution": {
     "iopub.execute_input": "2023-05-29T19:33:52.896976Z",
     "iopub.status.busy": "2023-05-29T19:33:52.896722Z",
     "iopub.status.idle": "2023-05-29T19:34:02.201508Z",
     "shell.execute_reply": "2023-05-29T19:34:02.200355Z",
     "shell.execute_reply.started": "2023-05-29T19:33:52.896952Z"
    },
    "id": "9dc9b0fb-dce5-4a73-9d0a-68649dc1b9e4",
    "outputId": "64139835-7f93-45e5-f5d5-b1f3c60e66c9",
    "tags": []
   },
   "outputs": [
    {
     "data": {
      "application/vnd.jupyter.widget-view+json": {
       "model_id": "a306134587044e19a802ab2d25950b60",
       "version_major": 2,
       "version_minor": 0
      },
      "text/plain": [
       "VBox()"
      ]
     },
     "metadata": {},
     "output_type": "display_data"
    },
    {
     "data": {
      "application/vnd.jupyter.widget-view+json": {
       "model_id": "",
       "version_major": 2,
       "version_minor": 0
      },
      "text/plain": [
       "FloatProgress(value=0.0, bar_style='info', description='Progress:', layout=Layout(height='25px', width='50%'),…"
      ]
     },
     "metadata": {},
     "output_type": "display_data"
    },
    {
     "name": "stdout",
     "output_type": "stream",
     "text": [
      "+------------+------+\n",
      "|PULocationID| count|\n",
      "+------------+------+\n",
      "|         237|393742|\n",
      "|         236|358902|\n",
      "|         161|335699|\n",
      "|         162|308639|\n",
      "|         186|293345|\n",
      "|         230|289526|\n",
      "|         170|275574|\n",
      "|         142|274640|\n",
      "|          48|273851|\n",
      "|         234|269748|\n",
      "+------------+------+\n",
      "only showing top 10 rows"
     ]
    }
   ],
   "source": [
    "spark.sql(\n",
    "    \"SELECT\\\n",
    "        PULocationID,\\\n",
    "        COUNT(*) AS count\\\n",
    "    FROM taxi_nyc\\\n",
    "    GROUP BY PULocationID\\\n",
    "    ORDER BY count DESC\"\n",
    ").show(10)\n"
   ]
  },
  {
   "cell_type": "markdown",
   "id": "354a95f4",
   "metadata": {
    "id": "354a95f4"
   },
   "source": [
    "One alternative to writing SQL queries is to use Spark SQL functions/methods directly on the DataFrame. The previous query can be written like this:"
   ]
  },
  {
   "cell_type": "code",
   "execution_count": 44,
   "id": "240faf61",
   "metadata": {
    "execution": {
     "iopub.execute_input": "2023-05-29T19:34:02.203219Z",
     "iopub.status.busy": "2023-05-29T19:34:02.202822Z",
     "iopub.status.idle": "2023-05-29T19:34:11.519888Z",
     "shell.execute_reply": "2023-05-29T19:34:11.518775Z",
     "shell.execute_reply.started": "2023-05-29T19:34:02.203191Z"
    },
    "id": "240faf61",
    "outputId": "19ab4fa7-0b2c-4998-c3d0-0269193ad3f6",
    "tags": []
   },
   "outputs": [
    {
     "data": {
      "application/vnd.jupyter.widget-view+json": {
       "model_id": "d2fbb58af608420f8bfd8580494c17da",
       "version_major": 2,
       "version_minor": 0
      },
      "text/plain": [
       "VBox()"
      ]
     },
     "metadata": {},
     "output_type": "display_data"
    },
    {
     "data": {
      "application/vnd.jupyter.widget-view+json": {
       "model_id": "",
       "version_major": 2,
       "version_minor": 0
      },
      "text/plain": [
       "FloatProgress(value=0.0, bar_style='info', description='Progress:', layout=Layout(height='25px', width='50%'),…"
      ]
     },
     "metadata": {},
     "output_type": "display_data"
    },
    {
     "name": "stdout",
     "output_type": "stream",
     "text": [
      "+------------+------+\n",
      "|PULocationID| count|\n",
      "+------------+------+\n",
      "|         237|393742|\n",
      "|         236|358902|\n",
      "|         161|335699|\n",
      "|         162|308639|\n",
      "|         186|293345|\n",
      "|         230|289526|\n",
      "|         170|275574|\n",
      "|         142|274640|\n",
      "|          48|273851|\n",
      "|         234|269748|\n",
      "+------------+------+\n",
      "only showing top 10 rows"
     ]
    }
   ],
   "source": [
    "# Perform a transformation using Spark SQL functions\n",
    "\n",
    "df.select('PULocationID')\\\n",
    "    .groupby('PULocationID')\\\n",
    "    .count()\\\n",
    "    .sort('count', ascending=False)\\\n",
    "    .show(10)"
   ]
  },
  {
   "cell_type": "markdown",
   "id": "cf2882b3",
   "metadata": {
    "id": "cf2882b3"
   },
   "source": [
    "For another example, let's see how we can then calculate the average trip distance for each origin in two ways. First, using Spark SQL methods and using the `withColumnRenamed()` method to rename columns (useful for aggregated columns):"
   ]
  },
  {
   "cell_type": "code",
   "execution_count": 45,
   "id": "6333ff90",
   "metadata": {
    "execution": {
     "iopub.execute_input": "2023-05-29T19:34:11.521527Z",
     "iopub.status.busy": "2023-05-29T19:34:11.521183Z",
     "iopub.status.idle": "2023-05-29T19:34:22.830482Z",
     "shell.execute_reply": "2023-05-29T19:34:22.829724Z",
     "shell.execute_reply.started": "2023-05-29T19:34:11.521486Z"
    },
    "id": "6333ff90",
    "outputId": "8bffb07b-557f-45c7-ebdd-35278817da5d",
    "tags": []
   },
   "outputs": [
    {
     "data": {
      "application/vnd.jupyter.widget-view+json": {
       "model_id": "2f52d4011b6a4357a120499348875c42",
       "version_major": 2,
       "version_minor": 0
      },
      "text/plain": [
       "VBox()"
      ]
     },
     "metadata": {},
     "output_type": "display_data"
    },
    {
     "data": {
      "application/vnd.jupyter.widget-view+json": {
       "model_id": "",
       "version_major": 2,
       "version_minor": 0
      },
      "text/plain": [
       "FloatProgress(value=0.0, bar_style='info', description='Progress:', layout=Layout(height='25px', width='50%'),…"
      ]
     },
     "metadata": {},
     "output_type": "display_data"
    },
    {
     "name": "stdout",
     "output_type": "stream",
     "text": [
      "+------------+------------------+\n",
      "|PULocationID|      avg_distance|\n",
      "+------------+------------------+\n",
      "|           7| 2.555883452418879|\n",
      "|         154|14.647187640191987|\n",
      "|         258| 9.035214507208504|\n",
      "|         203|  12.9824014275959|\n",
      "|         199|1.1850000321865082|\n",
      "|          31| 6.845789462327957|\n",
      "|          18| 7.296695294298328|\n",
      "|          61| 4.891168442772413|\n",
      "|          27| 11.50857140336718|\n",
      "|          75| 2.380305627726145|\n",
      "+------------+------------------+\n",
      "only showing top 10 rows"
     ]
    }
   ],
   "source": [
    "df.groupby('PULocationID')\\\n",
    "    .avg('trip_distance')\\\n",
    "    .withColumnRenamed('avg(trip_distance)', 'avg_distance')\\\n",
    "    .show(10)"
   ]
  },
  {
   "cell_type": "markdown",
   "id": "4b46b1b2",
   "metadata": {
    "id": "4b46b1b2"
   },
   "source": [
    "Second, we can write this as a SQL query:"
   ]
  },
  {
   "cell_type": "code",
   "execution_count": 46,
   "id": "0252a200",
   "metadata": {
    "execution": {
     "iopub.execute_input": "2023-05-29T19:34:22.831770Z",
     "iopub.status.busy": "2023-05-29T19:34:22.831526Z",
     "iopub.status.idle": "2023-05-29T19:34:32.123549Z",
     "shell.execute_reply": "2023-05-29T19:34:32.121674Z",
     "shell.execute_reply.started": "2023-05-29T19:34:22.831747Z"
    },
    "id": "0252a200",
    "outputId": "3ce1c258-9e37-4010-f06d-6dbf61a0b793",
    "scrolled": true
   },
   "outputs": [
    {
     "data": {
      "application/vnd.jupyter.widget-view+json": {
       "model_id": "6e711a0800724b178b14f060a53f2655",
       "version_major": 2,
       "version_minor": 0
      },
      "text/plain": [
       "VBox()"
      ]
     },
     "metadata": {},
     "output_type": "display_data"
    },
    {
     "data": {
      "application/vnd.jupyter.widget-view+json": {
       "model_id": "",
       "version_major": 2,
       "version_minor": 0
      },
      "text/plain": [
       "FloatProgress(value=0.0, bar_style='info', description='Progress:', layout=Layout(height='25px', width='50%'),…"
      ]
     },
     "metadata": {},
     "output_type": "display_data"
    },
    {
     "name": "stdout",
     "output_type": "stream",
     "text": [
      "+------------+------------------+\n",
      "|PULocationID|      avg_distance|\n",
      "+------------+------------------+\n",
      "|           7| 2.555883452418879|\n",
      "|         154|14.647187640191987|\n",
      "|         258| 9.035214507208504|\n",
      "|         203|  12.9824014275959|\n",
      "|         199|1.1850000321865082|\n",
      "|          31| 6.845789462327957|\n",
      "|          18| 7.296695294298328|\n",
      "|          61| 4.891168442772413|\n",
      "|          27| 11.50857140336718|\n",
      "|          75| 2.380305627726145|\n",
      "+------------+------------------+\n",
      "only showing top 10 rows"
     ]
    }
   ],
   "source": [
    "spark.sql(\n",
    "    \"SELECT\\\n",
    "        PULocationID,\\\n",
    "        AVG(trip_distance) AS avg_distance\\\n",
    "    FROM taxi_nyc\\\n",
    "    GROUP BY PULocationID\"\n",
    ").show(10)\n"
   ]
  },
  {
   "cell_type": "markdown",
   "id": "0ac7a2f5",
   "metadata": {
    "id": "0ac7a2f5"
   },
   "source": [
    "In both cases, the result is returned as a Spark DataFrame which can be saved to a new variable."
   ]
  },
  {
   "cell_type": "markdown",
   "id": "a0e599b4",
   "metadata": {
    "id": "5fd379d4"
   },
   "source": [
    "#### Exercise 3\n",
    "\n",
    "We are tasked with understanding the data better with respect to pickup location.\n",
    "\n",
    "1. First, let's load some additional information about the pickup and dropoff locations from `s3://brainstation-dsft/sparklab/taxi_lat_lon.csv` into a Spark DataFrame and create a temporary view called `nyc_locations`. \n",
    "\n",
    "2. Use Spark SQL to find the trip counts and average tip amounts per borough. You will need to join the tables holding the trips and the new location information. What patterns do you notice in the result?"
   ]
  },
  {
   "cell_type": "code",
   "execution_count": null,
   "id": "06ee4407",
   "metadata": {},
   "outputs": [],
   "source": []
  },
  {
   "cell_type": "markdown",
   "id": "320df540",
   "metadata": {
    "id": "320df540"
   },
   "source": [
    "___\n",
    "\n",
    "### Spark MLlib for modelling\n",
    "\n",
    "The MLlib library in Spark allows us to access similar functionalities that are available in the statsmodels and scikit-learn packages:\n",
    "- basic statistics (such as correlations) and hypothesis tests;\n",
    "- common preprocessing and feature extraction methods: various scalers, OneHotEncoder, PCA, and NLP methods, among others;\n",
    "- a number of statistical and machine learning models: \n",
    "    - supervised algorithm for regression and classification (like linear models or decision trees), and\n",
    "    - unsupervised methods (like K-means clustering). \n",
    "\n",
    "The [official guide](https://spark.apache.org/docs/latest/mllib-guide.html) provides a number of examples on how to set up the data using pipelines, train the models and then evaluate them. \n",
    "\n",
    "Let's create a simple linear regression model that predicts the tip amount based on other features associated with the trip. First, to make this demonstration run faster, we will subsample our dataset."
   ]
  },
  {
   "cell_type": "code",
   "execution_count": 47,
   "id": "0a808d26-046e-446a-b51b-ebe6a475296b",
   "metadata": {
    "colab": {
     "referenced_widgets": [
      "4f191ff980e1479c8aa16df08f0d3358",
      ""
     ]
    },
    "execution": {
     "iopub.execute_input": "2023-05-29T19:34:32.125114Z",
     "iopub.status.busy": "2023-05-29T19:34:32.124868Z",
     "iopub.status.idle": "2023-05-29T19:34:32.172462Z",
     "shell.execute_reply": "2023-05-29T19:34:32.171555Z",
     "shell.execute_reply.started": "2023-05-29T19:34:32.125089Z"
    },
    "id": "0a808d26-046e-446a-b51b-ebe6a475296b",
    "outputId": "735f51db-f476-4eee-d2d3-685a7685c1a0",
    "tags": []
   },
   "outputs": [
    {
     "data": {
      "application/vnd.jupyter.widget-view+json": {
       "model_id": "b61beb5600b14f7daada1c84b655b56d",
       "version_major": 2,
       "version_minor": 0
      },
      "text/plain": [
       "VBox()"
      ]
     },
     "metadata": {},
     "output_type": "display_data"
    },
    {
     "data": {
      "application/vnd.jupyter.widget-view+json": {
       "model_id": "",
       "version_major": 2,
       "version_minor": 0
      },
      "text/plain": [
       "FloatProgress(value=0.0, bar_style='info', description='Progress:', layout=Layout(height='25px', width='50%'),…"
      ]
     },
     "metadata": {},
     "output_type": "display_data"
    }
   ],
   "source": [
    "df_for_modelling = df.sample(0.01, seed=42)"
   ]
  },
  {
   "cell_type": "code",
   "execution_count": 48,
   "id": "bf2043fd",
   "metadata": {
    "colab": {
     "referenced_widgets": [
      "c1be4cbcd7eb431c8454bf995a1ef28e",
      ""
     ]
    },
    "execution": {
     "iopub.execute_input": "2023-05-29T19:34:32.173849Z",
     "iopub.status.busy": "2023-05-29T19:34:32.173611Z",
     "iopub.status.idle": "2023-05-29T19:34:32.437119Z",
     "shell.execute_reply": "2023-05-29T19:34:32.436310Z",
     "shell.execute_reply.started": "2023-05-29T19:34:32.173826Z"
    },
    "id": "bf2043fd",
    "outputId": "f939be2d-89f2-43a3-9fed-aff2774f4d02"
   },
   "outputs": [
    {
     "data": {
      "application/vnd.jupyter.widget-view+json": {
       "model_id": "d7a7c7f2ab0848c2a7284e7a43ced272",
       "version_major": 2,
       "version_minor": 0
      },
      "text/plain": [
       "VBox()"
      ]
     },
     "metadata": {},
     "output_type": "display_data"
    },
    {
     "data": {
      "application/vnd.jupyter.widget-view+json": {
       "model_id": "",
       "version_major": 2,
       "version_minor": 0
      },
      "text/plain": [
       "FloatProgress(value=0.0, bar_style='info', description='Progress:', layout=Layout(height='25px', width='50%'),…"
      ]
     },
     "metadata": {},
     "output_type": "display_data"
    }
   ],
   "source": [
    "df_for_modelling = df_for_modelling.select(\"trip_distance\", \"fare_amount\", \"pickup_hour\", \"passenger_count\", \"tip_amount\")\n",
    "\n",
    "# make sure fare amount is float - see Exercise 1\n",
    "df_for_modelling = df_for_modelling.withColumn(\"fare_amount\", df_for_modelling[\"fare_amount\"].cast('float'))\n",
    "df_for_modelling = df_for_modelling.withColumn(\"tip_amount\", df_for_modelling[\"tip_amount\"].cast('float'))"
   ]
  },
  {
   "cell_type": "markdown",
   "id": "e6cdb287-487e-4fae-a4ca-625c7047b75c",
   "metadata": {
    "id": "e6cdb287-487e-4fae-a4ca-625c7047b75c"
   },
   "source": [
    "We will simply drop rows with missing data:"
   ]
  },
  {
   "cell_type": "code",
   "execution_count": 49,
   "id": "d3d47455-7d41-403f-b113-997b57956348",
   "metadata": {
    "colab": {
     "referenced_widgets": [
      "5b9eb9303c064b7481c2792923bf1d24",
      ""
     ]
    },
    "execution": {
     "iopub.execute_input": "2023-05-29T19:34:32.438798Z",
     "iopub.status.busy": "2023-05-29T19:34:32.438429Z",
     "iopub.status.idle": "2023-05-29T19:34:43.740233Z",
     "shell.execute_reply": "2023-05-29T19:34:43.739353Z",
     "shell.execute_reply.started": "2023-05-29T19:34:32.438761Z"
    },
    "id": "d3d47455-7d41-403f-b113-997b57956348",
    "outputId": "542df996-f7ae-4657-8e0c-49efc4b675dc",
    "tags": []
   },
   "outputs": [
    {
     "data": {
      "application/vnd.jupyter.widget-view+json": {
       "model_id": "8159cc1256c743438c4b74830913aa00",
       "version_major": 2,
       "version_minor": 0
      },
      "text/plain": [
       "VBox()"
      ]
     },
     "metadata": {},
     "output_type": "display_data"
    },
    {
     "data": {
      "application/vnd.jupyter.widget-view+json": {
       "model_id": "",
       "version_major": 2,
       "version_minor": 0
      },
      "text/plain": [
       "FloatProgress(value=0.0, bar_style='info', description='Progress:', layout=Layout(height='25px', width='50%'),…"
      ]
     },
     "metadata": {},
     "output_type": "display_data"
    },
    {
     "name": "stdout",
     "output_type": "stream",
     "text": [
      "88580"
     ]
    }
   ],
   "source": [
    "df_for_modelling = df_for_modelling.dropna()\n",
    "\n",
    "df_for_modelling.count()"
   ]
  },
  {
   "cell_type": "markdown",
   "id": "d94ca23f-df66-4dcc-b7de-03b320d01834",
   "metadata": {
    "id": "d94ca23f-df66-4dcc-b7de-03b320d01834"
   },
   "source": [
    "To prepare the data for modelling, we need to collect our independent variables into `Vector` objects that are then stored in a single column - this is a specific preprocessing step required by the Spark MLlib API. We will do this using the `VectorAssembler` transformation by specifying which columns should be included as well as how to handle invalid values (like Nulls). You can read more in the [VectorAssembler documentation](https://spark.apache.org/docs/latest/api/python/reference/api/pyspark.ml.feature.VectorAssembler.html)."
   ]
  },
  {
   "cell_type": "code",
   "execution_count": 50,
   "id": "30850091-f25a-472d-bfe8-8783c9157c20",
   "metadata": {
    "colab": {
     "referenced_widgets": [
      "f734dfa112f24ea9a8bfd3609a6c273f",
      ""
     ]
    },
    "execution": {
     "iopub.execute_input": "2023-05-29T19:34:43.741552Z",
     "iopub.status.busy": "2023-05-29T19:34:43.741326Z",
     "iopub.status.idle": "2023-05-29T19:34:46.009602Z",
     "shell.execute_reply": "2023-05-29T19:34:46.008898Z",
     "shell.execute_reply.started": "2023-05-29T19:34:43.741530Z"
    },
    "id": "30850091-f25a-472d-bfe8-8783c9157c20",
    "outputId": "caae732f-9533-4910-e17a-46f57dd7f120",
    "tags": []
   },
   "outputs": [
    {
     "data": {
      "application/vnd.jupyter.widget-view+json": {
       "model_id": "a5a1db50ba124dc2869d6d7c76d2be0e",
       "version_major": 2,
       "version_minor": 0
      },
      "text/plain": [
       "VBox()"
      ]
     },
     "metadata": {},
     "output_type": "display_data"
    },
    {
     "data": {
      "application/vnd.jupyter.widget-view+json": {
       "model_id": "",
       "version_major": 2,
       "version_minor": 0
      },
      "text/plain": [
       "FloatProgress(value=0.0, bar_style='info', description='Progress:', layout=Layout(height='25px', width='50%'),…"
      ]
     },
     "metadata": {},
     "output_type": "display_data"
    },
    {
     "name": "stdout",
     "output_type": "stream",
     "text": [
      "+--------------------+----------+\n",
      "|            features|tip_amount|\n",
      "+--------------------+----------+\n",
      "|[10.1000003814697...|       0.0|\n",
      "|[11.3800001144409...|       5.0|\n",
      "|[4.36000013351440...|      2.96|\n",
      "|[2.90000009536743...|       0.0|\n",
      "|[2.17000007629394...|       0.0|\n",
      "|[3.73000001907348...|       0.0|\n",
      "|[2.47000002861022...|       0.0|\n",
      "|[0.70999997854232...|      1.26|\n",
      "|[3.29999995231628...|      2.65|\n",
      "|[7.73999977111816...|      5.96|\n",
      "+--------------------+----------+\n",
      "only showing top 10 rows"
     ]
    }
   ],
   "source": [
    "from pyspark.ml.feature import VectorAssembler\n",
    "\n",
    "# initialize the assembler object for combining the independent variables\n",
    "# more columns can be added in case of multiple predictors\n",
    "assembler = VectorAssembler(inputCols=[\"trip_distance\", \"fare_amount\", \"pickup_hour\", \"passenger_count\"], outputCol='features', handleInvalid=\"skip\")\n",
    "\n",
    "# the transform call will add the extra `features` column\n",
    "# we only need `features` and the duration for modelling so we select these two\n",
    "df_for_modelling = assembler.transform(df_for_modelling).select(\"features\", \"tip_amount\")\n",
    "\n",
    "df_for_modelling.show(10)"
   ]
  },
  {
   "cell_type": "markdown",
   "id": "3b97f864-031e-4c39-bcfe-39b8494ec7a3",
   "metadata": {
    "id": "3b97f864-031e-4c39-bcfe-39b8494ec7a3"
   },
   "source": [
    "For model evaluation, we also split our data into training and test sets:"
   ]
  },
  {
   "cell_type": "code",
   "execution_count": 51,
   "id": "9d7f4d5f-8dea-4fc8-bfe6-fb6fde152fb9",
   "metadata": {
    "colab": {
     "referenced_widgets": [
      "f44e515db1e649648624fc6399e89062",
      ""
     ]
    },
    "execution": {
     "iopub.execute_input": "2023-05-29T19:34:46.011016Z",
     "iopub.status.busy": "2023-05-29T19:34:46.010749Z",
     "iopub.status.idle": "2023-05-29T19:34:46.082956Z",
     "shell.execute_reply": "2023-05-29T19:34:46.082217Z",
     "shell.execute_reply.started": "2023-05-29T19:34:46.010992Z"
    },
    "id": "9d7f4d5f-8dea-4fc8-bfe6-fb6fde152fb9",
    "outputId": "8dbb8b98-eec0-4a0b-f699-d1aace3cb064",
    "tags": []
   },
   "outputs": [
    {
     "data": {
      "application/vnd.jupyter.widget-view+json": {
       "model_id": "c0adb627a04743638c5251abe93af661",
       "version_major": 2,
       "version_minor": 0
      },
      "text/plain": [
       "VBox()"
      ]
     },
     "metadata": {},
     "output_type": "display_data"
    },
    {
     "data": {
      "application/vnd.jupyter.widget-view+json": {
       "model_id": "",
       "version_major": 2,
       "version_minor": 0
      },
      "text/plain": [
       "FloatProgress(value=0.0, bar_style='info', description='Progress:', layout=Layout(height='25px', width='50%'),…"
      ]
     },
     "metadata": {},
     "output_type": "display_data"
    }
   ],
   "source": [
    "train, test = df_for_modelling.randomSplit([0.9, 0.1], seed=42)"
   ]
  },
  {
   "cell_type": "markdown",
   "id": "f372d6df-cfb2-4ec7-b8d7-e6e9d63bd12e",
   "metadata": {
    "id": "f372d6df-cfb2-4ec7-b8d7-e6e9d63bd12e"
   },
   "source": [
    "We are ready to load the `LinearRegression` model which then needs to be initialized by the column holding our independent variables (`features` in our case) and the label column (`tip_amount`). As with scikit-learn, we will call the `.fit()` method providing the training data."
   ]
  },
  {
   "cell_type": "code",
   "execution_count": 52,
   "id": "c10cde2f",
   "metadata": {
    "colab": {
     "referenced_widgets": [
      "7c5d2f45b4da44428c2e0edbe3cb8d18",
      ""
     ]
    },
    "execution": {
     "iopub.execute_input": "2023-05-29T19:34:46.084333Z",
     "iopub.status.busy": "2023-05-29T19:34:46.083937Z",
     "iopub.status.idle": "2023-05-29T19:35:09.493186Z",
     "shell.execute_reply": "2023-05-29T19:35:09.492277Z",
     "shell.execute_reply.started": "2023-05-29T19:34:46.084305Z"
    },
    "id": "c10cde2f",
    "outputId": "34d8114e-2629-40c6-cd33-dc1782ffb5f2",
    "tags": []
   },
   "outputs": [
    {
     "data": {
      "application/vnd.jupyter.widget-view+json": {
       "model_id": "f2b68cfe819c4f5fab1f7997cfca0a2d",
       "version_major": 2,
       "version_minor": 0
      },
      "text/plain": [
       "VBox()"
      ]
     },
     "metadata": {},
     "output_type": "display_data"
    },
    {
     "data": {
      "application/vnd.jupyter.widget-view+json": {
       "model_id": "",
       "version_major": 2,
       "version_minor": 0
      },
      "text/plain": [
       "FloatProgress(value=0.0, bar_style='info', description='Progress:', layout=Layout(height='25px', width='50%'),…"
      ]
     },
     "metadata": {},
     "output_type": "display_data"
    }
   ],
   "source": [
    "from pyspark.ml.regression import LinearRegression\n",
    "\n",
    "lr_model = LinearRegression(featuresCol='features', labelCol='tip_amount', maxIter=5)\n",
    "\n",
    "lr_model = lr_model.fit(train)"
   ]
  },
  {
   "cell_type": "markdown",
   "id": "a0b78389-4243-415b-be08-a347bbaa87c4",
   "metadata": {
    "id": "a0b78389-4243-415b-be08-a347bbaa87c4"
   },
   "source": [
    "We can now access the coefficients and intercept value, as well as the model summary:"
   ]
  },
  {
   "cell_type": "code",
   "execution_count": 53,
   "id": "f6f7c6e7-0948-4757-bcbd-f0f9ea995fe9",
   "metadata": {
    "colab": {
     "referenced_widgets": [
      "649705b233664566849471036a1156dc",
      ""
     ]
    },
    "execution": {
     "iopub.execute_input": "2023-05-29T19:35:09.494994Z",
     "iopub.status.busy": "2023-05-29T19:35:09.494620Z",
     "iopub.status.idle": "2023-05-29T19:35:09.756089Z",
     "shell.execute_reply": "2023-05-29T19:35:09.755195Z",
     "shell.execute_reply.started": "2023-05-29T19:35:09.494957Z"
    },
    "id": "f6f7c6e7-0948-4757-bcbd-f0f9ea995fe9",
    "outputId": "5f90d7b5-6b1b-41c1-9a60-564807288af3",
    "tags": []
   },
   "outputs": [
    {
     "data": {
      "application/vnd.jupyter.widget-view+json": {
       "model_id": "751947e827984fa89d14f2b6e69854ef",
       "version_major": 2,
       "version_minor": 0
      },
      "text/plain": [
       "VBox()"
      ]
     },
     "metadata": {},
     "output_type": "display_data"
    },
    {
     "data": {
      "application/vnd.jupyter.widget-view+json": {
       "model_id": "",
       "version_major": 2,
       "version_minor": 0
      },
      "text/plain": [
       "FloatProgress(value=0.0, bar_style='info', description='Progress:', layout=Layout(height='25px', width='50%'),…"
      ]
     },
     "metadata": {},
     "output_type": "display_data"
    },
    {
     "name": "stdout",
     "output_type": "stream",
     "text": [
      "Intercept: 0.1871673924699302\n",
      "Coefficients: [0.09529203821729595,0.10006104146917146,0.010762995999758773,-0.012286091408337628]"
     ]
    }
   ],
   "source": [
    "print(\"Intercept:\", lr_model.intercept)\n",
    "print(\"Coefficients:\", lr_model.coefficients)"
   ]
  },
  {
   "cell_type": "markdown",
   "id": "f0d9fdb7",
   "metadata": {
    "id": "f0d9fdb7"
   },
   "source": [
    "As usual, we can visualize the coefficients:"
   ]
  },
  {
   "cell_type": "code",
   "execution_count": 54,
   "id": "f2c1cfb8",
   "metadata": {
    "colab": {
     "referenced_widgets": [
      "9362f83b46844bd09d1c4ee7da35b7a8",
      ""
     ]
    },
    "execution": {
     "iopub.execute_input": "2023-05-29T19:35:09.758160Z",
     "iopub.status.busy": "2023-05-29T19:35:09.757528Z",
     "iopub.status.idle": "2023-05-29T19:35:10.038324Z",
     "shell.execute_reply": "2023-05-29T19:35:10.037439Z",
     "shell.execute_reply.started": "2023-05-29T19:35:09.758121Z"
    },
    "id": "f2c1cfb8",
    "outputId": "adf54d0d-9588-41a9-8862-76504aff26ca"
   },
   "outputs": [
    {
     "data": {
      "application/vnd.jupyter.widget-view+json": {
       "model_id": "3b43cefdafbf4d9fa57692732ad075bf",
       "version_major": 2,
       "version_minor": 0
      },
      "text/plain": [
       "VBox()"
      ]
     },
     "metadata": {},
     "output_type": "display_data"
    },
    {
     "data": {
      "application/vnd.jupyter.widget-view+json": {
       "model_id": "",
       "version_major": 2,
       "version_minor": 0
      },
      "text/plain": [
       "FloatProgress(value=0.0, bar_style='info', description='Progress:', layout=Layout(height='25px', width='50%'),…"
      ]
     },
     "metadata": {},
     "output_type": "display_data"
    },
    {
     "data": {
      "image/png": "[encoded data removed]",
      "text/plain": [
       "<IPython.core.display.Image object>"
      ]
     },
     "metadata": {},
     "output_type": "display_data"
    }
   ],
   "source": [
    "plt.figure()\n",
    "\n",
    "pd.DataFrame(\n",
    "    data={\"coefficients\": lr_model.coefficients},\n",
    "    index=[\"trip_distance\", \"fare_amount\", \"pickup_hour\", \"passenger_count\"],\n",
    ").plot(kind=\"barh\", figsize=(12, 3), title=\"Coefficients for tip amount prediction\")\n",
    "\n",
    "plt.show()\n",
    "\n",
    "%matplot plt"
   ]
  },
  {
   "cell_type": "markdown",
   "id": "6e60fdf0",
   "metadata": {
    "id": "6e60fdf0"
   },
   "source": [
    "It is quite natural that increased fare amount and trip distance have a positive effect on tip amount, however a larger number of passengers drives down the amount of tip."
   ]
  },
  {
   "cell_type": "markdown",
   "id": "53eb07d9",
   "metadata": {
    "id": "53eb07d9"
   },
   "source": [
    "To further evaluate the model performance, we can extract the p-values and various metrics from a model summary object:"
   ]
  },
  {
   "cell_type": "code",
   "execution_count": 55,
   "id": "2ef075b4-3f89-4841-bb71-c4c236c0ef7c",
   "metadata": {
    "colab": {
     "referenced_widgets": [
      "866e1695db604ecfae9e843af07af058",
      ""
     ]
    },
    "execution": {
     "iopub.execute_input": "2023-05-29T19:35:10.039677Z",
     "iopub.status.busy": "2023-05-29T19:35:10.039458Z",
     "iopub.status.idle": "2023-05-29T19:35:10.285037Z",
     "shell.execute_reply": "2023-05-29T19:35:10.284126Z",
     "shell.execute_reply.started": "2023-05-29T19:35:10.039655Z"
    },
    "id": "2ef075b4-3f89-4841-bb71-c4c236c0ef7c",
    "outputId": "ad46e7ef-0f03-4aec-8dc4-3c5eda90279d",
    "tags": []
   },
   "outputs": [
    {
     "data": {
      "application/vnd.jupyter.widget-view+json": {
       "model_id": "a4b114c4aa394d41ad07660579d3c363",
       "version_major": 2,
       "version_minor": 0
      },
      "text/plain": [
       "VBox()"
      ]
     },
     "metadata": {},
     "output_type": "display_data"
    },
    {
     "data": {
      "application/vnd.jupyter.widget-view+json": {
       "model_id": "",
       "version_major": 2,
       "version_minor": 0
      },
      "text/plain": [
       "FloatProgress(value=0.0, bar_style='info', description='Progress:', layout=Layout(height='25px', width='50%'),…"
      ]
     },
     "metadata": {},
     "output_type": "display_data"
    },
    {
     "name": "stdout",
     "output_type": "stream",
     "text": [
      "R^2:  0.34362854419953837\n",
      "MAE:  1.3657276072616826\n",
      "MSE:  4.438903099785121\n",
      "p-values:  [0.0, 0.0, 0.0, 0.04320844058194839, 0.0]"
     ]
    }
   ],
   "source": [
    "model_summary = lr_model.summary\n",
    "\n",
    "print(\"R^2: \", model_summary.r2)\n",
    "print(\"MAE: \", model_summary.meanAbsoluteError)\n",
    "print(\"MSE: \", model_summary.meanSquaredError)\n",
    "print(\"p-values: \", model_summary.pValues)"
   ]
  },
  {
   "cell_type": "markdown",
   "id": "ad4e8c86-54e5-4ded-b3a9-4bbe1e67a94e",
   "metadata": {
    "id": "ad4e8c86-54e5-4ded-b3a9-4bbe1e67a94e"
   },
   "source": [
    "In order to make predictions, we can call the `.transform()` method of the model which adds a `prediction` column."
   ]
  },
  {
   "cell_type": "code",
   "execution_count": 56,
   "id": "bf358003-ac6a-4644-8a67-a11a6021ef1d",
   "metadata": {
    "colab": {
     "referenced_widgets": [
      "c3d28cb1645e4ee49c92929461d2f7fd",
      ""
     ]
    },
    "execution": {
     "iopub.execute_input": "2023-05-29T19:35:10.286822Z",
     "iopub.status.busy": "2023-05-29T19:35:10.286386Z",
     "iopub.status.idle": "2023-05-29T19:35:15.561396Z",
     "shell.execute_reply": "2023-05-29T19:35:15.560688Z",
     "shell.execute_reply.started": "2023-05-29T19:35:10.286783Z"
    },
    "id": "bf358003-ac6a-4644-8a67-a11a6021ef1d",
    "outputId": "bec9aaa8-a86d-4038-dd14-7be21250ece5",
    "tags": []
   },
   "outputs": [
    {
     "data": {
      "application/vnd.jupyter.widget-view+json": {
       "model_id": "60368625dc62484cb6fe974e9396452e",
       "version_major": 2,
       "version_minor": 0
      },
      "text/plain": [
       "VBox()"
      ]
     },
     "metadata": {},
     "output_type": "display_data"
    },
    {
     "data": {
      "application/vnd.jupyter.widget-view+json": {
       "model_id": "",
       "version_major": 2,
       "version_minor": 0
      },
      "text/plain": [
       "FloatProgress(value=0.0, bar_style='info', description='Progress:', layout=Layout(height='25px', width='50%'),…"
      ]
     },
     "metadata": {},
     "output_type": "display_data"
    },
    {
     "name": "stdout",
     "output_type": "stream",
     "text": [
      "+--------------------+----------+--------------------+\n",
      "|            features|tip_amount|          prediction|\n",
      "+--------------------+----------+--------------------+\n",
      "|   [0.0,2.5,2.0,5.0]|       0.0|  0.3974155311006882|\n",
      "|   [0.0,2.5,6.0,5.0]|       0.0|  0.4404675150997233|\n",
      "|  [0.0,2.5,20.0,1.0]|       0.0|  0.6402938247296966|\n",
      "|   [0.0,3.0,4.0,3.0]|       0.0|  0.4935442266514668|\n",
      "| [0.0,12.0,12.0,1.0]|      2.56|  1.5047697506887554|\n",
      "| [0.0,52.0,17.0,5.0]|     11.46|   5.511882023821057|\n",
      "|[0.0,100.0,10.0,1.0]|       0.0|  10.288615407976327|\n",
      "|[0.0,129.80000305...|       0.0|  13.324249729118495|\n",
      "|[0.03999999910593...|       0.0|   0.633342510173432|\n",
      "|[0.15000000596046...|       0.0|-0.11164495735268626|\n",
      "+--------------------+----------+--------------------+\n",
      "only showing top 10 rows"
     ]
    }
   ],
   "source": [
    "test_pred = lr_model.transform(test)\n",
    "\n",
    "test_pred.show(10)"
   ]
  },
  {
   "cell_type": "markdown",
   "id": "9d611937-87bc-4048-a584-efb7aa66a3e6",
   "metadata": {
    "id": "9d611937-87bc-4048-a584-efb7aa66a3e6"
   },
   "source": [
    "To evaluate the prediction on the test set, we utilize the `RegressionEvaluator` class:"
   ]
  },
  {
   "cell_type": "code",
   "execution_count": 57,
   "id": "6a6533a5-3b1d-4e41-b458-893082e6d4a2",
   "metadata": {
    "colab": {
     "referenced_widgets": [
      "767384f10f7c42c399b873fde7434cde",
      ""
     ]
    },
    "execution": {
     "iopub.execute_input": "2023-05-29T19:35:15.562644Z",
     "iopub.status.busy": "2023-05-29T19:35:15.562407Z",
     "iopub.status.idle": "2023-05-29T19:35:48.924205Z",
     "shell.execute_reply": "2023-05-29T19:35:48.923405Z",
     "shell.execute_reply.started": "2023-05-29T19:35:15.562620Z"
    },
    "id": "6a6533a5-3b1d-4e41-b458-893082e6d4a2",
    "outputId": "0506655d-7e58-4551-9074-35b2b4d46c4a",
    "scrolled": true,
    "tags": []
   },
   "outputs": [
    {
     "data": {
      "application/vnd.jupyter.widget-view+json": {
       "model_id": "b05fbdbc64a249a2ad06c836a99fa200",
       "version_major": 2,
       "version_minor": 0
      },
      "text/plain": [
       "VBox()"
      ]
     },
     "metadata": {},
     "output_type": "display_data"
    },
    {
     "data": {
      "application/vnd.jupyter.widget-view+json": {
       "model_id": "",
       "version_major": 2,
       "version_minor": 0
      },
      "text/plain": [
       "FloatProgress(value=0.0, bar_style='info', description='Progress:', layout=Layout(height='25px', width='50%'),…"
      ]
     },
     "metadata": {},
     "output_type": "display_data"
    },
    {
     "name": "stdout",
     "output_type": "stream",
     "text": [
      "Test R^2:  0.35530706717419414\n",
      "Test MAE:  1.3671234662723037\n",
      "Test MSE:  4.22540285457676"
     ]
    }
   ],
   "source": [
    "from pyspark.ml.evaluation import RegressionEvaluator\n",
    "\n",
    "evaluator = RegressionEvaluator(labelCol=\"tip_amount\", predictionCol=\"prediction\")\n",
    "\n",
    "print(\"Test R^2: \", evaluator.evaluate(test_pred, {evaluator.metricName: \"r2\"}))\n",
    "\n",
    "print(\"Test MAE: \", evaluator.evaluate(test_pred, {evaluator.metricName: \"mae\"}))\n",
    "\n",
    "print(\"Test MSE: \", evaluator.evaluate(test_pred, {evaluator.metricName: \"mse\"}))"
   ]
  },
  {
   "cell_type": "markdown",
   "id": "052b9450",
   "metadata": {
    "id": "052b9450"
   },
   "source": [
    "It is a good sign that all the calculated metrics on the test set are comparable to the values we observed on the training set - there seems to be no overfitting."
   ]
  },
  {
   "cell_type": "markdown",
   "id": "851cdca4",
   "metadata": {
    "id": "851cdca4"
   },
   "source": [
    "___\n",
    "\n",
    "### Spark Magics for Locally Scoped Libraries (Supplementary)\n",
    "\n",
    "Sparkmagic is a collection of tools to work with Spark and notebooks on clusters. The libraries we installed at the beginning of the class are _notebook scoped_, they are isolated to the notebook session so multiple users can install different versions without interfering - the packages that are installed this way will be automatically removed as you terminate the notebook session. You can also reference _local_ libraries: these are only available to the Python kernel but not the Spark session. You can reference Sparkmagics using `%%` for using libraries locally installed and plotting."
   ]
  },
  {
   "cell_type": "markdown",
   "id": "f0c21ea3",
   "metadata": {
    "id": "f0c21ea3"
   },
   "source": [
    "First, lets execute a SQL query using the `%%sql` magic and registering the output as the `top_10` variable. \n",
    "\n",
    "You can see that the results can be plotted using a handy interface. Toggle the scatter plot to see the relationship between the number of trips and average distance (hint: try using a log-log scale)."
   ]
  },
  {
   "cell_type": "code",
   "execution_count": 58,
   "id": "b49e7958",
   "metadata": {
    "colab": {
     "referenced_widgets": [
      "",
      "7d091f98c7e943d99ae751f0ebf7f6f6",
      "b39dcd41e80b476a8b5b9956a90f5472"
     ]
    },
    "execution": {
     "iopub.execute_input": "2023-05-29T19:35:48.925867Z",
     "iopub.status.busy": "2023-05-29T19:35:48.925532Z",
     "iopub.status.idle": "2023-05-29T19:36:00.392729Z",
     "shell.execute_reply": "2023-05-29T19:36:00.392023Z",
     "shell.execute_reply.started": "2023-05-29T19:35:48.925830Z"
    },
    "id": "b49e7958",
    "outputId": "9a5769af-bce0-4b9b-899e-521d173fc925",
    "tags": []
   },
   "outputs": [
    {
     "data": {
      "application/vnd.jupyter.widget-view+json": {
       "model_id": "",
       "version_major": 2,
       "version_minor": 0
      },
      "text/plain": [
       "FloatProgress(value=0.0, bar_style='info', description='Progress:', layout=Layout(height='25px', width='50%'),…"
      ]
     },
     "metadata": {},
     "output_type": "display_data"
    },
    {
     "data": {
      "application/vnd.jupyter.widget-view+json": {
       "model_id": "51511568a90a41a7b70d152512f60c1a",
       "version_major": 2,
       "version_minor": 0
      },
      "text/plain": [
       "VBox(children=(HBox(children=(HTML(value='Type:'), Button(description='Table', layout=Layout(width='70px'), st…"
      ]
     },
     "metadata": {},
     "output_type": "display_data"
    },
    {
     "data": {
      "application/vnd.jupyter.widget-view+json": {
       "model_id": "fb1451844b264f41a67a2fce2acbfc06",
       "version_major": 2,
       "version_minor": 0
      },
      "text/plain": [
       "Output()"
      ]
     },
     "metadata": {},
     "output_type": "display_data"
    }
   ],
   "source": [
    "%%sql -o top_10 -n -1 \n",
    "\n",
    "SELECT\n",
    "    PULocationID,\n",
    "    COUNT(*) AS count,\n",
    "    AVG(trip_distance) AS avg_distance\n",
    "FROM taxi_nyc\n",
    "GROUP BY PULocationID"
   ]
  },
  {
   "cell_type": "markdown",
   "id": "1e51f878",
   "metadata": {
    "id": "1e51f878"
   },
   "source": [
    "The `top_10` variable is actually returned as a pandas DataFrame but we can only interact with that using the `%%local` magic and using locally scoped libraries. You can run `conda list` to have a better understanding of what is available:"
   ]
  },
  {
   "cell_type": "code",
   "execution_count": 59,
   "id": "272e6445-d1d6-4cc9-9bfb-6f5aa7e29261",
   "metadata": {
    "execution": {
     "iopub.execute_input": "2023-05-29T19:36:00.394096Z",
     "iopub.status.busy": "2023-05-29T19:36:00.393731Z",
     "iopub.status.idle": "2023-05-29T19:36:02.143403Z",
     "shell.execute_reply": "2023-05-29T19:36:02.142450Z",
     "shell.execute_reply.started": "2023-05-29T19:36:00.394070Z"
    },
    "tags": []
   },
   "outputs": [
    {
     "name": "stdout",
     "output_type": "stream",
     "text": [
      "# packages in environment at /mnt/notebook-env:\n",
      "#\n",
      "# Name                    Version                   Build  Channel\n",
      "_libgcc_mutex             0.1                        main    defaults\n",
      "_openmp_mutex             5.1                       1_gnu    defaults\n",
      "aiohttp                   3.8.3            py37h5eee18b_0    defaults\n",
      "aiosignal                 1.2.0              pyhd3eb1b0_0    defaults\n",
      "anyio                     3.5.0            py37h06a4308_0    defaults\n",
      "appdirs                   1.4.4              pyhd3eb1b0_0    defaults\n",
      "argon2-cffi               21.3.0             pyhd3eb1b0_0    defaults\n",
      "argon2-cffi-bindings      21.2.0           py37h7f8727e_0    defaults\n",
      "asn1crypto                1.5.1            py37h06a4308_0    defaults\n",
      "async-timeout             4.0.2            py37h06a4308_0    defaults\n",
      "asynctest                 0.13.0                     py_0    defaults\n",
      "attrs                     22.1.0           py37h06a4308_0    defaults\n",
      "autovizwidget             0.20.0           py37h06a4308_0    defaults\n",
      "awseditorssparkmonitoringwidget 1.0.0.amzn               py37_0    file:///codebuild/output/src793671548/src/output\n",
      "backcall                  0.2.0              pyhd3eb1b0_0    defaults\n",
      "bcrypt                    3.2.0            py37h5eee18b_1    defaults\n",
      "beautifulsoup4            4.11.1           py37h06a4308_0    defaults\n",
      "blas                      1.0                         mkl    defaults\n",
      "bleach                    4.1.0              pyhd3eb1b0_0    defaults\n",
      "blinker                   1.4              py37h06a4308_0    defaults\n",
      "bokeh                     2.3.2            py37h89c1867_0    conda-forge\n",
      "boto3                     1.26.62            pyhd8ed1ab_0    conda-forge\n",
      "botocore                  1.29.62            pyhd8ed1ab_0    conda-forge\n",
      "bottleneck                1.3.5            py37h7deecbd_0    defaults\n",
      "brotlipy                  0.7.0           py37h27cfd23_1003    defaults\n",
      "ca-certificates           2023.01.10           h06a4308_0    defaults\n",
      "cachetools                4.2.2              pyhd3eb1b0_0    defaults\n",
      "certifi                   2022.12.7        py37h06a4308_0    defaults\n",
      "cffi                      1.15.1           py37h74dc2b5_0    defaults\n",
      "charset-normalizer        2.0.4              pyhd3eb1b0_0    defaults\n",
      "conda                     4.12.0           py37h06a4308_0    defaults\n",
      "conda-package-handling    2.0.2            py37h06a4308_0    defaults\n",
      "conda-package-streaming   0.7.0            py37h06a4308_0    defaults\n",
      "cryptography              3.4.8            py37hd23ed53_0    defaults\n",
      "decorator                 5.1.1              pyhd3eb1b0_0    defaults\n",
      "defusedxml                0.7.1              pyhd3eb1b0_0    defaults\n",
      "docker-py                 4.4.1            py37h06a4308_5    defaults\n",
      "docker-pycreds            0.4.0              pyhd3eb1b0_0    defaults\n",
      "emr-notebooks-magics      0.2.3                    pypi_0    pypi\n",
      "entrypoints               0.4              py37h06a4308_0    defaults\n",
      "flit-core                 3.6.0              pyhd3eb1b0_0    defaults\n",
      "freetype                  2.12.1               h4a9f257_0    defaults\n",
      "frozenlist                1.3.3            py37h5eee18b_0    defaults\n",
      "future                    0.18.2                   py37_1    defaults\n",
      "giflib                    5.2.1                h5eee18b_1    defaults\n",
      "gmp                       6.2.1                h295c915_3    defaults\n",
      "google-auth               2.6.0              pyhd3eb1b0_0    defaults\n",
      "hdijupyterutils           0.18.0             pyhd3eb1b0_0    defaults\n",
      "idna                      3.4              py37h06a4308_0    defaults\n",
      "importlib-metadata        4.11.3           py37h06a4308_0    defaults\n",
      "importlib_metadata        4.11.3               hd3eb1b0_0    defaults\n",
      "importlib_resources       5.2.0              pyhd3eb1b0_1    defaults\n",
      "iniconfig                 1.1.1              pyhd3eb1b0_0    defaults\n",
      "intel-openmp              2021.4.0          h06a4308_3561    defaults\n",
      "ipykernel                 5.3.4            py37h5ca1d4c_0    defaults\n",
      "ipython                   7.31.1           py37h06a4308_1    defaults\n",
      "ipython_genutils          0.2.0                      py_1    conda-forge\n",
      "ipywidgets                7.6.5              pyhd3eb1b0_1    defaults\n",
      "jedi                      0.18.1           py37h06a4308_1    defaults\n",
      "jinja2                    3.0.3              pyhd3eb1b0_0    defaults\n",
      "jmespath                  0.10.0             pyhd3eb1b0_0    defaults\n",
      "jpeg                      9e                   h7f8727e_0    defaults\n",
      "jsonschema                4.16.0           py37h06a4308_0    defaults\n",
      "jupyter_client            6.1.11             pyhd8ed1ab_1    conda-forge\n",
      "jupyter_core              4.11.2           py37h06a4308_0    defaults\n",
      "jupyter_enterprise_gateway 2.6.0.amzn                 py_0    file:///codebuild/output/src793671548/src/output\n",
      "jupyter_server            1.13.5             pyhd3eb1b0_0    defaults\n",
      "jupyterlab_pygments       0.1.2                      py_0    defaults\n",
      "jupyterlab_widgets        1.0.0              pyhd3eb1b0_1    defaults\n",
      "lcms2                     2.12                 h3be6417_0    defaults\n",
      "ld_impl_linux-64          2.38                 h1181459_1    defaults\n",
      "lerc                      3.0                  h295c915_0    defaults\n",
      "libdeflate                1.8                  h7f8727e_5    defaults\n",
      "libffi                    3.3                  h58526e2_2    conda-forge\n",
      "libgcc-ng                 11.2.0               h1234567_1    defaults\n",
      "libgomp                   11.2.0               h1234567_1    defaults\n",
      "libpng                    1.6.37               hbc83047_0    defaults\n",
      "libsodium                 1.0.18               h7b6447c_0    defaults\n",
      "libstdcxx-ng              11.2.0               h1234567_1    defaults\n",
      "libtiff                   4.5.0                hecacb30_0    defaults\n",
      "libwebp                   1.2.4                h11a3e52_0    defaults\n",
      "libwebp-base              1.2.4                h5eee18b_0    defaults\n",
      "lz4-c                     1.9.4                h6a678d5_0    defaults\n",
      "markupsafe                2.1.1            py37h7f8727e_0    defaults\n",
      "matplotlib-inline         0.1.6            py37h06a4308_0    defaults\n",
      "mistune                   0.8.4           py37h14c3975_1001    defaults\n",
      "mkl                       2021.4.0           h06a4308_640    defaults\n",
      "mkl-service               2.4.0            py37h7f8727e_0    defaults\n",
      "mkl_fft                   1.3.1            py37hd3c417c_0    defaults\n",
      "mkl_random                1.2.2            py37h51133e4_0    defaults\n",
      "multidict                 6.0.2            py37h5eee18b_0    defaults\n",
      "nbclient                  0.5.13           py37h06a4308_0    defaults\n",
      "nbconvert                 6.4.4            py37h06a4308_0    defaults\n",
      "nbformat                  5.7.0            py37h06a4308_0    defaults\n",
      "ncurses                   6.4                  h6a678d5_0    defaults\n",
      "nest-asyncio              1.5.5            py37h06a4308_0    defaults\n",
      "notebook                  6.4.12           py37h06a4308_0    defaults\n",
      "numexpr                   2.8.4            py37he184ba9_0    defaults\n",
      "numpy                     1.21.5           py37h6c91a56_3    defaults\n",
      "numpy-base                1.21.5           py37ha15fc14_3    defaults\n",
      "oauthlib                  3.2.1            py37h06a4308_0    defaults\n",
      "openssl                   1.1.1s               h7f8727e_0    defaults\n",
      "packaging                 22.0             py37h06a4308_0    defaults\n",
      "pandas                    1.3.5            py37h8c16a72_0    defaults\n",
      "pandocfilters             1.5.0              pyhd3eb1b0_0    defaults\n",
      "paramiko                  2.8.1              pyhd3eb1b0_0    defaults\n",
      "parso                     0.8.3              pyhd3eb1b0_0    defaults\n",
      "pexpect                   4.8.0              pyhd3eb1b0_3    defaults\n",
      "pickleshare               0.7.5           pyhd3eb1b0_1003    defaults\n",
      "pillow                    9.3.0            py37hace64e9_1    defaults\n",
      "pip                       22.3.1           py37h06a4308_0    defaults\n",
      "pkgutil-resolve-name      1.3.10           py37h06a4308_0    defaults\n",
      "plotly                    5.9.0            py37h06a4308_0    defaults\n",
      "pluggy                    1.0.0            py37h06a4308_1    defaults\n",
      "prometheus_client         0.14.1           py37h06a4308_0    defaults\n",
      "prompt-toolkit            3.0.36           py37h06a4308_0    defaults\n",
      "ptyprocess                0.7.0              pyhd3eb1b0_2    defaults\n",
      "py                        1.11.0             pyhd3eb1b0_0    defaults\n",
      "pyasn1                    0.4.8              pyhd3eb1b0_0    defaults\n",
      "pyasn1-modules            0.2.8                      py_0    defaults\n",
      "pycosat                   0.6.4            py37h5eee18b_0    defaults\n",
      "pycparser                 2.21               pyhd3eb1b0_0    defaults\n",
      "pycryptodomex             3.15.0           py37h5eee18b_0    defaults\n",
      "pygments                  2.11.2             pyhd3eb1b0_0    defaults\n",
      "pyjwt                     2.4.0            py37h06a4308_0    defaults\n",
      "pynacl                    1.5.0            py37h5eee18b_0    defaults\n",
      "pyopenssl                 21.0.0             pyhd3eb1b0_1    defaults\n",
      "pyparsing                 3.0.9            py37h06a4308_0    defaults\n",
      "pyrsistent                0.18.0           py37heee7806_0    defaults\n",
      "pysocks                   1.7.1                    py37_1    defaults\n",
      "pyspnego                  0.3.1            py37h5eee18b_2    defaults\n",
      "pytest                    7.1.2            py37h06a4308_0    defaults\n",
      "pytest-runner             6.0.0            py37h06a4308_0    defaults\n",
      "python                    3.7.13               h12debd9_0    defaults\n",
      "python-dateutil           2.8.2              pyhd3eb1b0_0    defaults\n",
      "python-fastjsonschema     2.16.2           py37h06a4308_0    defaults\n",
      "python-kubernetes         17.17.0            pyhd3eb1b0_0    defaults\n",
      "python_abi                3.7                     2_cp37m    conda-forge\n",
      "pytz                      2022.7           py37h06a4308_0    defaults\n",
      "pyyaml                    6.0              py37h5eee18b_1    defaults\n",
      "pyzmq                     23.2.0           py37h6a678d5_0    defaults\n",
      "readline                  8.2                  h5eee18b_0    defaults\n",
      "requests                  2.28.1           py37h06a4308_0    defaults\n",
      "requests-kerberos         0.14.0             pyhd3eb1b0_0    defaults\n",
      "requests-oauthlib         1.3.0                      py_0    defaults\n",
      "rsa                       4.7.2              pyhd3eb1b0_1    defaults\n",
      "ruamel.yaml               0.17.21          py37h5eee18b_0    defaults\n",
      "ruamel.yaml.clib          0.2.6            py37h5eee18b_1    defaults\n",
      "ruamel_yaml               0.15.100         py37h27cfd23_0    defaults\n",
      "s3transfer                0.6.0            py37h06a4308_0    defaults\n",
      "send2trash                1.8.0              pyhd3eb1b0_1    defaults\n",
      "setuptools                65.6.3           py37h06a4308_0    defaults\n",
      "six                       1.16.0             pyhd3eb1b0_1    defaults\n",
      "sniffio                   1.2.0            py37h06a4308_1    defaults\n",
      "soupsieve                 2.3.2.post1      py37h06a4308_0    defaults\n",
      "sparkmagic                0.20.0.amzn               py_37    file:///codebuild/output/src793671548/src/output\n",
      "sqlite                    3.40.1               h5082296_0    defaults\n",
      "tenacity                  8.0.1            py37h06a4308_1    defaults\n",
      "terminado                 0.17.1           py37h06a4308_0    defaults\n",
      "testpath                  0.6.0            py37h06a4308_0    defaults\n",
      "tk                        8.6.12               h1ccaba5_0    defaults\n",
      "tomli                     2.0.1            py37h06a4308_0    defaults\n",
      "tornado                   6.2              py37h5eee18b_0    defaults\n",
      "traitlets                 5.7.1            py37h06a4308_0    defaults\n",
      "typing-extensions         4.4.0            py37h06a4308_0    defaults\n",
      "typing_extensions         4.4.0            py37h06a4308_0    defaults\n",
      "urllib3                   1.26.14          py37h06a4308_0    defaults\n",
      "watchdog                  2.1.6            py37h06a4308_0    defaults\n",
      "wcwidth                   0.2.5              pyhd3eb1b0_0    defaults\n",
      "webencodings              0.5.1                    py37_1    defaults\n",
      "websocket-client          0.58.0           py37h06a4308_4    defaults\n",
      "wheel                     0.37.1             pyhd3eb1b0_0    defaults\n",
      "widgetsnbextension        3.5.2            py37h06a4308_0    defaults\n",
      "xz                        5.2.10               h5eee18b_1    defaults\n",
      "yaml                      0.2.5                h7b6447c_0    defaults\n",
      "yarl                      1.8.1            py37h5eee18b_0    defaults\n",
      "yarn-api-client           1.0.2                      py_2    conda-forge\n",
      "zeromq                    4.3.4                h2531618_0    defaults\n",
      "zipp                      3.11.0           py37h06a4308_0    defaults\n",
      "zlib                      1.2.13               h5eee18b_0    defaults\n",
      "zstandard                 0.18.0           py37h5eee18b_0    defaults\n",
      "zstd                      1.5.2                ha4553b6_0    defaults\n",
      "\n",
      "Note: you may need to restart the kernel to use updated packages.\n"
     ]
    }
   ],
   "source": [
    "%%local\n",
    "\n",
    "conda list"
   ]
  },
  {
   "cell_type": "markdown",
   "id": "0463988b-f7bd-404f-aa0b-f22edf46f8f7",
   "metadata": {},
   "source": [
    "Lets recreate the previous plot with `plotly`:"
   ]
  },
  {
   "cell_type": "code",
   "execution_count": 60,
   "id": "ab2391b9",
   "metadata": {
    "execution": {
     "iopub.execute_input": "2023-05-29T19:36:02.145528Z",
     "iopub.status.busy": "2023-05-29T19:36:02.145126Z",
     "iopub.status.idle": "2023-05-29T19:36:02.431191Z",
     "shell.execute_reply": "2023-05-29T19:36:02.430302Z",
     "shell.execute_reply.started": "2023-05-29T19:36:02.145484Z"
    },
    "id": "ab2391b9",
    "outputId": "d13564d0-3785-4ae4-c029-ecae6c978fde",
    "tags": []
   },
   "outputs": [
    {
     "data": {
      "application/vnd.plotly.v1+json": {
       "config": {
        "plotlyServerURL": "https://plot.ly"
       },
       "data": [
        {
         "hovertemplate": "count=%{x}<br>avg_distance=%{y}<extra></extra>",
         "legendgroup": "",
         "marker": {
          "color": "#636efa",
          "symbol": "circle"
         },
         "mode": "markers",
         "name": "",
         "orientation": "v",
         "showlegend": false,
         "type": "scatter",
         "x": [
          50095,
          12304,
          279,
          529,
          490,
          349,
          14270,
          269748,
          102,
          369,
          441,
          230169,
          32,
          247,
          165,
          232,
          248751,
          787,
          221,
          14023,
          3437,
          67198,
          52,
          111,
          194,
          138412,
          1,
          314,
          600,
          308639,
          18,
          7685,
          245,
          263,
          186,
          84,
          303,
          279,
          784,
          432,
          23,
          2,
          466,
          4883,
          840,
          219,
          24,
          152,
          89,
          19,
          568,
          1559,
          153,
          3662,
          727,
          299,
          2,
          207341,
          15,
          4253,
          349,
          164,
          23,
          46,
          133558,
          29,
          235437,
          38,
          175400,
          233,
          1188,
          322,
          34,
          1763,
          18619,
          2054,
          554,
          7,
          60989,
          49310,
          910,
          155176,
          1593,
          260,
          200,
          706,
          298,
          51,
          29,
          1322,
          205010,
          625,
          192,
          264,
          212,
          1541,
          922,
          298,
          361,
          267,
          451,
          45,
          20,
          241,
          289526,
          6810,
          18,
          517,
          201453,
          157411,
          8390,
          166743,
          121221,
          148,
          459,
          183,
          31667,
          69,
          70,
          163,
          272,
          178659,
          165066,
          19,
          405,
          772,
          324,
          1067,
          1499,
          4541,
          191,
          9163,
          1901,
          112238,
          432,
          370,
          17,
          2,
          83978,
          10,
          2246,
          257,
          13,
          4872,
          136,
          7,
          153842,
          497,
          132,
          1182,
          173,
          76,
          94,
          52027,
          19,
          1,
          257,
          111441,
          9716,
          335,
          626,
          155,
          275574,
          201,
          273851,
          242,
          190,
          717,
          110190,
          213021,
          1623,
          330,
          201,
          63,
          228621,
          20359,
          8170,
          633,
          78788,
          1212,
          188,
          358902,
          3,
          105396,
          233285,
          25415,
          105,
          256,
          9498,
          246,
          293345,
          8223,
          35840,
          699,
          800,
          238,
          393742,
          13,
          113,
          274640,
          483,
          743,
          65799,
          1095,
          3216,
          1881,
          588,
          2405,
          9820,
          330,
          30,
          10,
          8683,
          219,
          11862,
          1212,
          520,
          4589,
          16684,
          257,
          803,
          135,
          445,
          749,
          3471,
          829,
          1069,
          410,
          7,
          171307,
          79405,
          4539,
          494,
          393,
          351,
          384,
          962,
          144768,
          5142,
          134,
          699,
          147,
          31915,
          106384,
          635,
          335699,
          76299,
          107597,
          4260,
          1306,
          746,
          9,
          439,
          156,
          12907,
          3810,
          84312,
          12353,
          18705,
          20,
          1459,
          382
         ],
         "xaxis": "x",
         "y": [
          2.605249026230594,
          2.555883452418879,
          9.9973117990693,
          11.040869549099913,
          10.98944898179295,
          6.188595987034476,
          3.4440939021263515,
          2.1110847525756253,
          10.953137259272967,
          3.5407317073808775,
          10.059727902272863,
          15.891458843946006,
          14.647187640191987,
          8.294372501560611,
          7.852909110249444,
          13.858922386285046,
          9.677210988863148,
          5.632350703649308,
          8.605339372623291,
          2.6840882841384754,
          3.0472068681251847,
          4.431377571571045,
          8.434423083296188,
          9.179549512159717,
          8.476494822295901,
          2.135559488651092,
          0,
          3.444649674591555,
          5.206233338660871,
          2.3999938438823127,
          6.0511111252837715,
          2.916757319787385,
          6.599020405927178,
          12.547794700122152,
          6.997688166757104,
          6.322023769219716,
          9.035214507208504,
          12.9824014275959,
          9.960905618946619,
          8.029583319836227,
          10.151304395302482,
          1.1850000321865082,
          7.331051493003613,
          3.7007843505815448,
          8.249904747673177,
          8.594931561193645,
          7.46708328773578,
          9.560263199229283,
          10.351235895009523,
          12.075263321399689,
          8.27558098630783,
          5.183431688683004,
          8.522026135227065,
          4.582476788778255,
          6.814539211959754,
          6.221137122316504,
          5.795000195503235,
          2.1947310467415972,
          12.441333321730296,
          2.9787632282105068,
          4.822149014340601,
          7.200609777963198,
          7.1778261279282365,
          7.3463044011074565,
          2.139913520039313,
          23.433103257212146,
          2.4947596169846507,
          6.845789462327957,
          2.3828035920931656,
          7.296695294298328,
          7.8814562224823765,
          8.480962742206797,
          13.11647058497457,
          3.876539987323344,
          2.4619361943704314,
          4.891168442772413,
          11.05815881582831,
          11.50857140336718,
          2.380305627726145,
          2.669637801167915,
          15.167527492774221,
          2.4138844280893608,
          3.9205398566632694,
          8.950269235169085,
          7.45075001035817,
          6.80296033739822,
          7.869228191004954,
          5.683529424901102,
          13.619310358474994,
          9.958184565907787,
          2.4194902199822614,
          1.4899359992623329,
          8.125312527175993,
          8.2657954569652,
          8.517547169919917,
          6.429461395739058,
          5.751908889963593,
          8.552852348005711,
          5.998365631626295,
          8.306292121602075,
          5.963835929505973,
          4.177111147758033,
          10.292500022798777,
          8.650041482167866,
          2.9246943278654447,
          3.2542143898128524,
          14.72444429828061,
          6.676421659103301,
          2.386570713348734,
          2.0719870911622604,
          4.089483910063293,
          2.1414205686684102,
          2.4112974642195013,
          7.291689190409474,
          6.922854028869429,
          7.0381967376693675,
          2.4006303102020956,
          6.565942028942316,
          18.2067142586889,
          7.452822100873922,
          12.489816204699522,
          2.1281298447333565,
          2.155436431180332,
          3.4647368416190147,
          6.697432082537332,
          7.832202081546824,
          6.7670370481080475,
          9.889718850416454,
          5.752128091435122,
          3.405075975280502,
          12.613403173602377,
          3.542165229144169,
          3.511851655310515,
          2.618348331304308,
          9.147013883296124,
          3.711081081739551,
          13.584706075051251,
          19.565000534057617,
          2.5599598696391435,
          11.14299984574318,
          3.5653472823353747,
          7.9589494365821905,
          9.846153892003572,
          2.0102483561271662,
          8.87382358375608,
          8.577142945357732,
          3.077645700949129,
          7.3574849044608035,
          10.494545464601481,
          4.349069378409667,
          9.669421972007076,
          14.782894765075884,
          15.974255266341757,
          4.194464412034972,
          7.038421078045902,
          17.8799991607666,
          9.657665338149794,
          2.404630879708258,
          4.053333675805341,
          7.080089567334794,
          7.964025542425652,
          9.433677409973837,
          2.319910405009429,
          6.253532316739583,
          2.4312357084814815,
          9.014049587232515,
          7.111210538005751,
          3.1213528559526305,
          2.8859035306141334,
          1.9426408664096164,
          4.869408506212626,
          4.0162121292090776,
          8.989353242761164,
          7.997301579408703,
          2.077085875064356,
          4.1819200352348656,
          3.5423598549345843,
          4.8592258997461615,
          2.559624942858562,
          3.59726896883594,
          6.155851085472139,
          1.875399189480991,
          13.736666659514109,
          2.0872874671556088,
          2.3922526092115444,
          2.448808577346366,
          6.143714288444746,
          6.074492165149422,
          3.228503893907885,
          8.877845549062501,
          2.306350338145798,
          2.7590356303844885,
          4.829109654952273,
          6.794935636710008,
          1.7987624932429753,
          8.242016826771952,
          1.7432431894042826,
          4.397692272296319,
          6.908230098706167,
          2.1486551842196366,
          7.127701867163552,
          4.877725444295384,
          2.4565704640025516,
          4.4217260198369965,
          14.084903608751599,
          4.336996281531415,
          7.549727915371229,
          3.542469857010425,
          3.4028472520634834,
          10.143999981930987,
          10.576333356710771,
          13.191999912261963,
          3.3796245562611764,
          8.76493151264784,
          4.046057999891715,
          5.1457013183860445,
          7.497769235404065,
          2.9729265614797713,
          2.7145444744189984,
          7.535058347921427,
          9.66980072502441,
          10.477185137086996,
          11.760157316655256,
          5.529132176988891,
          4.419259579890861,
          3.3082267843609263,
          12.646613642045404,
          7.878926834023399,
          6.191428525107248,
          2.2833867263688403,
          4.059920408879118,
          3.2013593288587856,
          6.030526324665468,
          11.589160298753255,
          8.616153858108525,
          7.824453102458695,
          7.578575888896466,
          2.5737913069219016,
          4.027007004096872,
          6.07925370958314,
          9.300772520416391,
          9.089863993987745,
          2.461931380180789,
          2.3239905431159014,
          7.626031500095223,
          2.4245849400986232,
          2.2767088691109274,
          2.2849788562687645,
          3.42183332959225,
          8.988254210228531,
          5.61646112651332,
          6.479999932977888,
          9.20879269931423,
          6.252948746753809,
          3.478179282857955,
          3.7161863518429046,
          2.564555935818215,
          2.3051841643662354,
          3.201304464850478,
          5.418000105023384,
          9.567176156766033,
          6.013115204914585
         ],
         "yaxis": "y"
        }
       ],
       "layout": {
        "autosize": true,
        "legend": {
         "tracegroupgap": 0
        },
        "margin": {
         "t": 60
        },
        "template": {
         "data": {
          "bar": [
           {
            "error_x": {
             "color": "#2a3f5f"
            },
            "error_y": {
             "color": "#2a3f5f"
            },
            "marker": {
             "line": {
              "color": "#E5ECF6",
              "width": 0.5
             },
             "pattern": {
              "fillmode": "overlay",
              "size": 10,
              "solidity": 0.2
             }
            },
            "type": "bar"
           }
          ],
          "barpolar": [
           {
            "marker": {
             "line": {
              "color": "#E5ECF6",
              "width": 0.5
             },
             "pattern": {
              "fillmode": "overlay",
              "size": 10,
              "solidity": 0.2
             }
            },
            "type": "barpolar"
           }
          ],
          "carpet": [
           {
            "aaxis": {
             "endlinecolor": "#2a3f5f",
             "gridcolor": "white",
             "linecolor": "white",
             "minorgridcolor": "white",
             "startlinecolor": "#2a3f5f"
            },
            "baxis": {
             "endlinecolor": "#2a3f5f",
             "gridcolor": "white",
             "linecolor": "white",
             "minorgridcolor": "white",
             "startlinecolor": "#2a3f5f"
            },
            "type": "carpet"
           }
          ],
          "choropleth": [
           {
            "colorbar": {
             "outlinewidth": 0,
             "ticks": ""
            },
            "type": "choropleth"
           }
          ],
          "contour": [
           {
            "colorbar": {
             "outlinewidth": 0,
             "ticks": ""
            },
            "colorscale": [
             [
              0,
              "#0d0887"
             ],
             [
              0.1111111111111111,
              "#46039f"
             ],
             [
              0.2222222222222222,
              "#7201a8"
             ],
             [
              0.3333333333333333,
              "#9c179e"
             ],
             [
              0.4444444444444444,
              "#bd3786"
             ],
             [
              0.5555555555555556,
              "#d8576b"
             ],
             [
              0.6666666666666666,
              "#ed7953"
             ],
             [
              0.7777777777777778,
              "#fb9f3a"
             ],
             [
              0.8888888888888888,
              "#fdca26"
             ],
             [
              1,
              "#f0f921"
             ]
            ],
            "type": "contour"
           }
          ],
          "contourcarpet": [
           {
            "colorbar": {
             "outlinewidth": 0,
             "ticks": ""
            },
            "type": "contourcarpet"
           }
          ],
          "heatmap": [
           {
            "colorbar": {
             "outlinewidth": 0,
             "ticks": ""
            },
            "colorscale": [
             [
              0,
              "#0d0887"
             ],
             [
              0.1111111111111111,
              "#46039f"
             ],
             [
              0.2222222222222222,
              "#7201a8"
             ],
             [
              0.3333333333333333,
              "#9c179e"
             ],
             [
              0.4444444444444444,
              "#bd3786"
             ],
             [
              0.5555555555555556,
              "#d8576b"
             ],
             [
              0.6666666666666666,
              "#ed7953"
             ],
             [
              0.7777777777777778,
              "#fb9f3a"
             ],
             [
              0.8888888888888888,
              "#fdca26"
             ],
             [
              1,
              "#f0f921"
             ]
            ],
            "type": "heatmap"
           }
          ],
          "heatmapgl": [
           {
            "colorbar": {
             "outlinewidth": 0,
             "ticks": ""
            },
            "colorscale": [
             [
              0,
              "#0d0887"
             ],
             [
              0.1111111111111111,
              "#46039f"
             ],
             [
              0.2222222222222222,
              "#7201a8"
             ],
             [
              0.3333333333333333,
              "#9c179e"
             ],
             [
              0.4444444444444444,
              "#bd3786"
             ],
             [
              0.5555555555555556,
              "#d8576b"
             ],
             [
              0.6666666666666666,
              "#ed7953"
             ],
             [
              0.7777777777777778,
              "#fb9f3a"
             ],
             [
              0.8888888888888888,
              "#fdca26"
             ],
             [
              1,
              "#f0f921"
             ]
            ],
            "type": "heatmapgl"
           }
          ],
          "histogram": [
           {
            "marker": {
             "pattern": {
              "fillmode": "overlay",
              "size": 10,
              "solidity": 0.2
             }
            },
            "type": "histogram"
           }
          ],
          "histogram2d": [
           {
            "colorbar": {
             "outlinewidth": 0,
             "ticks": ""
            },
            "colorscale": [
             [
              0,
              "#0d0887"
             ],
             [
              0.1111111111111111,
              "#46039f"
             ],
             [
              0.2222222222222222,
              "#7201a8"
             ],
             [
              0.3333333333333333,
              "#9c179e"
             ],
             [
              0.4444444444444444,
              "#bd3786"
             ],
             [
              0.5555555555555556,
              "#d8576b"
             ],
             [
              0.6666666666666666,
              "#ed7953"
             ],
             [
              0.7777777777777778,
              "#fb9f3a"
             ],
             [
              0.8888888888888888,
              "#fdca26"
             ],
             [
              1,
              "#f0f921"
             ]
            ],
            "type": "histogram2d"
           }
          ],
          "histogram2dcontour": [
           {
            "colorbar": {
             "outlinewidth": 0,
             "ticks": ""
            },
            "colorscale": [
             [
              0,
              "#0d0887"
             ],
             [
              0.1111111111111111,
              "#46039f"
             ],
             [
              0.2222222222222222,
              "#7201a8"
             ],
             [
              0.3333333333333333,
              "#9c179e"
             ],
             [
              0.4444444444444444,
              "#bd3786"
             ],
             [
              0.5555555555555556,
              "#d8576b"
             ],
             [
              0.6666666666666666,
              "#ed7953"
             ],
             [
              0.7777777777777778,
              "#fb9f3a"
             ],
             [
              0.8888888888888888,
              "#fdca26"
             ],
             [
              1,
              "#f0f921"
             ]
            ],
            "type": "histogram2dcontour"
           }
          ],
          "mesh3d": [
           {
            "colorbar": {
             "outlinewidth": 0,
             "ticks": ""
            },
            "type": "mesh3d"
           }
          ],
          "parcoords": [
           {
            "line": {
             "colorbar": {
              "outlinewidth": 0,
              "ticks": ""
             }
            },
            "type": "parcoords"
           }
          ],
          "pie": [
           {
            "automargin": true,
            "type": "pie"
           }
          ],
          "scatter": [
           {
            "fillpattern": {
             "fillmode": "overlay",
             "size": 10,
             "solidity": 0.2
            },
            "type": "scatter"
           }
          ],
          "scatter3d": [
           {
            "line": {
             "colorbar": {
              "outlinewidth": 0,
              "ticks": ""
             }
            },
            "marker": {
             "colorbar": {
              "outlinewidth": 0,
              "ticks": ""
             }
            },
            "type": "scatter3d"
           }
          ],
          "scattercarpet": [
           {
            "marker": {
             "colorbar": {
              "outlinewidth": 0,
              "ticks": ""
             }
            },
            "type": "scattercarpet"
           }
          ],
          "scattergeo": [
           {
            "marker": {
             "colorbar": {
              "outlinewidth": 0,
              "ticks": ""
             }
            },
            "type": "scattergeo"
           }
          ],
          "scattergl": [
           {
            "marker": {
             "colorbar": {
              "outlinewidth": 0,
              "ticks": ""
             }
            },
            "type": "scattergl"
           }
          ],
          "scattermapbox": [
           {
            "marker": {
             "colorbar": {
              "outlinewidth": 0,
              "ticks": ""
             }
            },
            "type": "scattermapbox"
           }
          ],
          "scatterpolar": [
           {
            "marker": {
             "colorbar": {
              "outlinewidth": 0,
              "ticks": ""
             }
            },
            "type": "scatterpolar"
           }
          ],
          "scatterpolargl": [
           {
            "marker": {
             "colorbar": {
              "outlinewidth": 0,
              "ticks": ""
             }
            },
            "type": "scatterpolargl"
           }
          ],
          "scatterternary": [
           {
            "marker": {
             "colorbar": {
              "outlinewidth": 0,
              "ticks": ""
             }
            },
            "type": "scatterternary"
           }
          ],
          "surface": [
           {
            "colorbar": {
             "outlinewidth": 0,
             "ticks": ""
            },
            "colorscale": [
             [
              0,
              "#0d0887"
             ],
             [
              0.1111111111111111,
              "#46039f"
             ],
             [
              0.2222222222222222,
              "#7201a8"
             ],
             [
              0.3333333333333333,
              "#9c179e"
             ],
             [
              0.4444444444444444,
              "#bd3786"
             ],
             [
              0.5555555555555556,
              "#d8576b"
             ],
             [
              0.6666666666666666,
              "#ed7953"
             ],
             [
              0.7777777777777778,
              "#fb9f3a"
             ],
             [
              0.8888888888888888,
              "#fdca26"
             ],
             [
              1,
              "#f0f921"
             ]
            ],
            "type": "surface"
           }
          ],
          "table": [
           {
            "cells": {
             "fill": {
              "color": "#EBF0F8"
             },
             "line": {
              "color": "white"
             }
            },
            "header": {
             "fill": {
              "color": "#C8D4E3"
             },
             "line": {
              "color": "white"
             }
            },
            "type": "table"
           }
          ]
         },
         "layout": {
          "annotationdefaults": {
           "arrowcolor": "#2a3f5f",
           "arrowhead": 0,
           "arrowwidth": 1
          },
          "autotypenumbers": "strict",
          "coloraxis": {
           "colorbar": {
            "outlinewidth": 0,
            "ticks": ""
           }
          },
          "colorscale": {
           "diverging": [
            [
             0,
             "#8e0152"
            ],
            [
             0.1,
             "#c51b7d"
            ],
            [
             0.2,
             "#de77ae"
            ],
            [
             0.3,
             "#f1b6da"
            ],
            [
             0.4,
             "#fde0ef"
            ],
            [
             0.5,
             "#f7f7f7"
            ],
            [
             0.6,
             "#e6f5d0"
            ],
            [
             0.7,
             "#b8e186"
            ],
            [
             0.8,
             "#7fbc41"
            ],
            [
             0.9,
             "#4d9221"
            ],
            [
             1,
             "#276419"
            ]
           ],
           "sequential": [
            [
             0,
             "#0d0887"
            ],
            [
             0.1111111111111111,
             "#46039f"
            ],
            [
             0.2222222222222222,
             "#7201a8"
            ],
            [
             0.3333333333333333,
             "#9c179e"
            ],
            [
             0.4444444444444444,
             "#bd3786"
            ],
            [
             0.5555555555555556,
             "#d8576b"
            ],
            [
             0.6666666666666666,
             "#ed7953"
            ],
            [
             0.7777777777777778,
             "#fb9f3a"
            ],
            [
             0.8888888888888888,
             "#fdca26"
            ],
            [
             1,
             "#f0f921"
            ]
           ],
           "sequentialminus": [
            [
             0,
             "#0d0887"
            ],
            [
             0.1111111111111111,
             "#46039f"
            ],
            [
             0.2222222222222222,
             "#7201a8"
            ],
            [
             0.3333333333333333,
             "#9c179e"
            ],
            [
             0.4444444444444444,
             "#bd3786"
            ],
            [
             0.5555555555555556,
             "#d8576b"
            ],
            [
             0.6666666666666666,
             "#ed7953"
            ],
            [
             0.7777777777777778,
             "#fb9f3a"
            ],
            [
             0.8888888888888888,
             "#fdca26"
            ],
            [
             1,
             "#f0f921"
            ]
           ]
          },
          "colorway": [
           "#636efa",
           "#EF553B",
           "#00cc96",
           "#ab63fa",
           "#FFA15A",
           "#19d3f3",
           "#FF6692",
           "#B6E880",
           "#FF97FF",
           "#FECB52"
          ],
          "font": {
           "color": "#2a3f5f"
          },
          "geo": {
           "bgcolor": "white",
           "lakecolor": "white",
           "landcolor": "#E5ECF6",
           "showlakes": true,
           "showland": true,
           "subunitcolor": "white"
          },
          "hoverlabel": {
           "align": "left"
          },
          "hovermode": "closest",
          "mapbox": {
           "style": "light"
          },
          "paper_bgcolor": "white",
          "plot_bgcolor": "#E5ECF6",
          "polar": {
           "angularaxis": {
            "gridcolor": "white",
            "linecolor": "white",
            "ticks": ""
           },
           "bgcolor": "#E5ECF6",
           "radialaxis": {
            "gridcolor": "white",
            "linecolor": "white",
            "ticks": ""
           }
          },
          "scene": {
           "xaxis": {
            "backgroundcolor": "#E5ECF6",
            "gridcolor": "white",
            "gridwidth": 2,
            "linecolor": "white",
            "showbackground": true,
            "ticks": "",
            "zerolinecolor": "white"
           },
           "yaxis": {
            "backgroundcolor": "#E5ECF6",
            "gridcolor": "white",
            "gridwidth": 2,
            "linecolor": "white",
            "showbackground": true,
            "ticks": "",
            "zerolinecolor": "white"
           },
           "zaxis": {
            "backgroundcolor": "#E5ECF6",
            "gridcolor": "white",
            "gridwidth": 2,
            "linecolor": "white",
            "showbackground": true,
            "ticks": "",
            "zerolinecolor": "white"
           }
          },
          "shapedefaults": {
           "line": {
            "color": "#2a3f5f"
           }
          },
          "ternary": {
           "aaxis": {
            "gridcolor": "white",
            "linecolor": "white",
            "ticks": ""
           },
           "baxis": {
            "gridcolor": "white",
            "linecolor": "white",
            "ticks": ""
           },
           "bgcolor": "#E5ECF6",
           "caxis": {
            "gridcolor": "white",
            "linecolor": "white",
            "ticks": ""
           }
          },
          "title": {
           "x": 0.05
          },
          "xaxis": {
           "automargin": true,
           "gridcolor": "white",
           "linecolor": "white",
           "ticks": "",
           "title": {
            "standoff": 15
           },
           "zerolinecolor": "white",
           "zerolinewidth": 2
          },
          "yaxis": {
           "automargin": true,
           "gridcolor": "white",
           "linecolor": "white",
           "ticks": "",
           "title": {
            "standoff": 15
           },
           "zerolinecolor": "white",
           "zerolinewidth": 2
          }
         }
        },
        "xaxis": {
         "anchor": "y",
         "autorange": true,
         "domain": [
          0,
          1
         ],
         "range": [
          -0.33457373017622694,
          5.929785473123341
         ],
         "title": {
          "text": "count"
         },
         "type": "log"
        },
        "yaxis": {
         "anchor": "x",
         "autorange": true,
         "domain": [
          0,
          1
         ],
         "range": [
          -0.026636723423909395,
          1.4701848918003118
         ],
         "title": {
          "text": "avg_distance"
         },
         "type": "log"
        }
       }
      },
      "image/png": "[encoded data removed]",
      "text/html": [
       "<div>                            <div id=\"28ca7dca-5d04-4af7-a2fe-e6e29f2304ed\" class=\"plotly-graph-div\" style=\"height:525px; width:100%;\"></div>            <script type=\"text/javascript\">                require([\"plotly\"], function(Plotly) {                    window.PLOTLYENV=window.PLOTLYENV || {};                                    if (document.getElementById(\"28ca7dca-5d04-4af7-a2fe-e6e29f2304ed\")) {                    Plotly.newPlot(                        \"28ca7dca-5d04-4af7-a2fe-e6e29f2304ed\",                        [{\"hovertemplate\":\"count=%{x}<br>avg_distance=%{y}<extra></extra>\",\"legendgroup\":\"\",\"marker\":{\"color\":\"#636efa\",\"symbol\":\"circle\"},\"mode\":\"markers\",\"name\":\"\",\"orientation\":\"v\",\"showlegend\":false,\"x\":[50095,12304,279,529,490,349,14270,269748,102,369,441,230169,32,247,165,232,248751,787,221,14023,3437,67198,52,111,194,138412,1,314,600,308639,18,7685,245,263,186,84,303,279,784,432,23,2,466,4883,840,219,24,152,89,19,568,1559,153,3662,727,299,2,207341,15,4253,349,164,23,46,133558,29,235437,38,175400,233,1188,322,34,1763,18619,2054,554,7,60989,49310,910,155176,1593,260,200,706,298,51,29,1322,205010,625,192,264,212,1541,922,298,361,267,451,45,20,241,289526,6810,18,517,201453,157411,8390,166743,121221,148,459,183,31667,69,70,163,272,178659,165066,19,405,772,324,1067,1499,4541,191,9163,1901,112238,432,370,17,2,83978,10,2246,257,13,4872,136,7,153842,497,132,1182,173,76,94,52027,19,1,257,111441,9716,335,626,155,275574,201,273851,242,190,717,110190,213021,1623,330,201,63,228621,20359,8170,633,78788,1212,188,358902,3,105396,233285,25415,105,256,9498,246,293345,8223,35840,699,800,238,393742,13,113,274640,483,743,65799,1095,3216,1881,588,2405,9820,330,30,10,8683,219,11862,1212,520,4589,16684,257,803,135,445,749,3471,829,1069,410,7,171307,79405,4539,494,393,351,384,962,144768,5142,134,699,147,31915,106384,635,335699,76299,107597,4260,1306,746,9,439,156,12907,3810,84312,12353,18705,20,1459,382],\"xaxis\":\"x\",\"y\":[2.605249026230594,2.555883452418879,9.9973117990693,11.040869549099913,10.98944898179295,6.188595987034476,3.4440939021263515,2.1110847525756253,10.953137259272967,3.5407317073808775,10.059727902272863,15.891458843946006,14.647187640191987,8.294372501560611,7.852909110249444,13.858922386285046,9.677210988863148,5.632350703649308,8.605339372623291,2.6840882841384754,3.0472068681251847,4.431377571571045,8.434423083296188,9.179549512159717,8.476494822295901,2.135559488651092,0.0,3.444649674591555,5.206233338660871,2.3999938438823127,6.0511111252837715,2.916757319787385,6.599020405927178,12.547794700122152,6.997688166757104,6.322023769219716,9.035214507208504,12.9824014275959,9.960905618946619,8.029583319836227,10.151304395302482,1.1850000321865082,7.331051493003613,3.7007843505815448,8.249904747673177,8.594931561193645,7.46708328773578,9.560263199229283,10.351235895009523,12.075263321399689,8.27558098630783,5.183431688683004,8.522026135227065,4.582476788778255,6.814539211959754,6.221137122316504,5.795000195503235,2.1947310467415972,12.441333321730296,2.9787632282105068,4.822149014340601,7.200609777963198,7.1778261279282365,7.3463044011074565,2.139913520039313,23.433103257212146,2.4947596169846507,6.845789462327957,2.3828035920931656,7.296695294298328,7.8814562224823765,8.480962742206797,13.11647058497457,3.876539987323344,2.4619361943704314,4.891168442772413,11.05815881582831,11.50857140336718,2.380305627726145,2.669637801167915,15.167527492774221,2.4138844280893608,3.9205398566632694,8.950269235169085,7.45075001035817,6.80296033739822,7.869228191004954,5.683529424901102,13.619310358474994,9.958184565907787,2.4194902199822614,1.4899359992623329,8.125312527175993,8.2657954569652,8.517547169919917,6.429461395739058,5.751908889963593,8.552852348005711,5.998365631626295,8.306292121602075,5.963835929505973,4.177111147758033,10.292500022798777,8.650041482167866,2.9246943278654447,3.2542143898128524,14.72444429828061,6.676421659103301,2.386570713348734,2.0719870911622604,4.089483910063293,2.1414205686684102,2.4112974642195013,7.291689190409474,6.922854028869429,7.0381967376693675,2.4006303102020956,6.565942028942316,18.2067142586889,7.452822100873922,12.489816204699522,2.1281298447333565,2.155436431180332,3.4647368416190147,6.697432082537332,7.832202081546824,6.7670370481080475,9.889718850416454,5.752128091435122,3.405075975280502,12.613403173602377,3.542165229144169,3.511851655310515,2.618348331304308,9.147013883296124,3.711081081739551,13.584706075051251,19.565000534057617,2.5599598696391435,11.14299984574318,3.5653472823353747,7.9589494365821905,9.846153892003572,2.0102483561271662,8.87382358375608,8.577142945357732,3.077645700949129,7.3574849044608035,10.494545464601481,4.349069378409667,9.669421972007076,14.782894765075884,15.974255266341757,4.194464412034972,7.038421078045902,17.8799991607666,9.657665338149794,2.404630879708258,4.053333675805341,7.080089567334794,7.964025542425652,9.433677409973837,2.319910405009429,6.253532316739583,2.4312357084814815,9.014049587232515,7.111210538005751,3.1213528559526305,2.8859035306141334,1.9426408664096164,4.869408506212626,4.0162121292090776,8.989353242761164,7.997301579408703,2.077085875064356,4.1819200352348656,3.5423598549345843,4.8592258997461615,2.559624942858562,3.59726896883594,6.155851085472139,1.875399189480991,13.736666659514109,2.0872874671556088,2.3922526092115444,2.448808577346366,6.143714288444746,6.074492165149422,3.228503893907885,8.877845549062501,2.306350338145798,2.7590356303844885,4.829109654952273,6.794935636710008,1.7987624932429753,8.242016826771952,1.7432431894042826,4.397692272296319,6.908230098706167,2.1486551842196366,7.127701867163552,4.877725444295384,2.4565704640025516,4.4217260198369965,14.084903608751599,4.336996281531415,7.549727915371229,3.542469857010425,3.4028472520634834,10.143999981930987,10.576333356710771,13.191999912261963,3.3796245562611764,8.76493151264784,4.046057999891715,5.1457013183860445,7.497769235404065,2.9729265614797713,2.7145444744189984,7.535058347921427,9.66980072502441,10.477185137086996,11.760157316655256,5.529132176988891,4.419259579890861,3.3082267843609263,12.646613642045404,7.878926834023399,6.191428525107248,2.2833867263688403,4.059920408879118,3.2013593288587856,6.030526324665468,11.589160298753255,8.616153858108525,7.824453102458695,7.578575888896466,2.5737913069219016,4.027007004096872,6.07925370958314,9.300772520416391,9.089863993987745,2.461931380180789,2.3239905431159014,7.626031500095223,2.4245849400986232,2.2767088691109274,2.2849788562687645,3.42183332959225,8.988254210228531,5.61646112651332,6.479999932977888,9.20879269931423,6.252948746753809,3.478179282857955,3.7161863518429046,2.564555935818215,2.3051841643662354,3.201304464850478,5.418000105023384,9.567176156766033,6.013115204914585],\"yaxis\":\"y\",\"type\":\"scatter\"}],                        {\"template\":{\"data\":{\"histogram2dcontour\":[{\"type\":\"histogram2dcontour\",\"colorbar\":{\"outlinewidth\":0,\"ticks\":\"\"},\"colorscale\":[[0.0,\"#0d0887\"],[0.1111111111111111,\"#46039f\"],[0.2222222222222222,\"#7201a8\"],[0.3333333333333333,\"#9c179e\"],[0.4444444444444444,\"#bd3786\"],[0.5555555555555556,\"#d8576b\"],[0.6666666666666666,\"#ed7953\"],[0.7777777777777778,\"#fb9f3a\"],[0.8888888888888888,\"#fdca26\"],[1.0,\"#f0f921\"]]}],\"choropleth\":[{\"type\":\"choropleth\",\"colorbar\":{\"outlinewidth\":0,\"ticks\":\"\"}}],\"histogram2d\":[{\"type\":\"histogram2d\",\"colorbar\":{\"outlinewidth\":0,\"ticks\":\"\"},\"colorscale\":[[0.0,\"#0d0887\"],[0.1111111111111111,\"#46039f\"],[0.2222222222222222,\"#7201a8\"],[0.3333333333333333,\"#9c179e\"],[0.4444444444444444,\"#bd3786\"],[0.5555555555555556,\"#d8576b\"],[0.6666666666666666,\"#ed7953\"],[0.7777777777777778,\"#fb9f3a\"],[0.8888888888888888,\"#fdca26\"],[1.0,\"#f0f921\"]]}],\"heatmap\":[{\"type\":\"heatmap\",\"colorbar\":{\"outlinewidth\":0,\"ticks\":\"\"},\"colorscale\":[[0.0,\"#0d0887\"],[0.1111111111111111,\"#46039f\"],[0.2222222222222222,\"#7201a8\"],[0.3333333333333333,\"#9c179e\"],[0.4444444444444444,\"#bd3786\"],[0.5555555555555556,\"#d8576b\"],[0.6666666666666666,\"#ed7953\"],[0.7777777777777778,\"#fb9f3a\"],[0.8888888888888888,\"#fdca26\"],[1.0,\"#f0f921\"]]}],\"heatmapgl\":[{\"type\":\"heatmapgl\",\"colorbar\":{\"outlinewidth\":0,\"ticks\":\"\"},\"colorscale\":[[0.0,\"#0d0887\"],[0.1111111111111111,\"#46039f\"],[0.2222222222222222,\"#7201a8\"],[0.3333333333333333,\"#9c179e\"],[0.4444444444444444,\"#bd3786\"],[0.5555555555555556,\"#d8576b\"],[0.6666666666666666,\"#ed7953\"],[0.7777777777777778,\"#fb9f3a\"],[0.8888888888888888,\"#fdca26\"],[1.0,\"#f0f921\"]]}],\"contourcarpet\":[{\"type\":\"contourcarpet\",\"colorbar\":{\"outlinewidth\":0,\"ticks\":\"\"}}],\"contour\":[{\"type\":\"contour\",\"colorbar\":{\"outlinewidth\":0,\"ticks\":\"\"},\"colorscale\":[[0.0,\"#0d0887\"],[0.1111111111111111,\"#46039f\"],[0.2222222222222222,\"#7201a8\"],[0.3333333333333333,\"#9c179e\"],[0.4444444444444444,\"#bd3786\"],[0.5555555555555556,\"#d8576b\"],[0.6666666666666666,\"#ed7953\"],[0.7777777777777778,\"#fb9f3a\"],[0.8888888888888888,\"#fdca26\"],[1.0,\"#f0f921\"]]}],\"surface\":[{\"type\":\"surface\",\"colorbar\":{\"outlinewidth\":0,\"ticks\":\"\"},\"colorscale\":[[0.0,\"#0d0887\"],[0.1111111111111111,\"#46039f\"],[0.2222222222222222,\"#7201a8\"],[0.3333333333333333,\"#9c179e\"],[0.4444444444444444,\"#bd3786\"],[0.5555555555555556,\"#d8576b\"],[0.6666666666666666,\"#ed7953\"],[0.7777777777777778,\"#fb9f3a\"],[0.8888888888888888,\"#fdca26\"],[1.0,\"#f0f921\"]]}],\"mesh3d\":[{\"type\":\"mesh3d\",\"colorbar\":{\"outlinewidth\":0,\"ticks\":\"\"}}],\"scatter\":[{\"fillpattern\":{\"fillmode\":\"overlay\",\"size\":10,\"solidity\":0.2},\"type\":\"scatter\"}],\"parcoords\":[{\"type\":\"parcoords\",\"line\":{\"colorbar\":{\"outlinewidth\":0,\"ticks\":\"\"}}}],\"scatterpolargl\":[{\"type\":\"scatterpolargl\",\"marker\":{\"colorbar\":{\"outlinewidth\":0,\"ticks\":\"\"}}}],\"bar\":[{\"error_x\":{\"color\":\"#2a3f5f\"},\"error_y\":{\"color\":\"#2a3f5f\"},\"marker\":{\"line\":{\"color\":\"#E5ECF6\",\"width\":0.5},\"pattern\":{\"fillmode\":\"overlay\",\"size\":10,\"solidity\":0.2}},\"type\":\"bar\"}],\"scattergeo\":[{\"type\":\"scattergeo\",\"marker\":{\"colorbar\":{\"outlinewidth\":0,\"ticks\":\"\"}}}],\"scatterpolar\":[{\"type\":\"scatterpolar\",\"marker\":{\"colorbar\":{\"outlinewidth\":0,\"ticks\":\"\"}}}],\"histogram\":[{\"marker\":{\"pattern\":{\"fillmode\":\"overlay\",\"size\":10,\"solidity\":0.2}},\"type\":\"histogram\"}],\"scattergl\":[{\"type\":\"scattergl\",\"marker\":{\"colorbar\":{\"outlinewidth\":0,\"ticks\":\"\"}}}],\"scatter3d\":[{\"type\":\"scatter3d\",\"line\":{\"colorbar\":{\"outlinewidth\":0,\"ticks\":\"\"}},\"marker\":{\"colorbar\":{\"outlinewidth\":0,\"ticks\":\"\"}}}],\"scattermapbox\":[{\"type\":\"scattermapbox\",\"marker\":{\"colorbar\":{\"outlinewidth\":0,\"ticks\":\"\"}}}],\"scatterternary\":[{\"type\":\"scatterternary\",\"marker\":{\"colorbar\":{\"outlinewidth\":0,\"ticks\":\"\"}}}],\"scattercarpet\":[{\"type\":\"scattercarpet\",\"marker\":{\"colorbar\":{\"outlinewidth\":0,\"ticks\":\"\"}}}],\"carpet\":[{\"aaxis\":{\"endlinecolor\":\"#2a3f5f\",\"gridcolor\":\"white\",\"linecolor\":\"white\",\"minorgridcolor\":\"white\",\"startlinecolor\":\"#2a3f5f\"},\"baxis\":{\"endlinecolor\":\"#2a3f5f\",\"gridcolor\":\"white\",\"linecolor\":\"white\",\"minorgridcolor\":\"white\",\"startlinecolor\":\"#2a3f5f\"},\"type\":\"carpet\"}],\"table\":[{\"cells\":{\"fill\":{\"color\":\"#EBF0F8\"},\"line\":{\"color\":\"white\"}},\"header\":{\"fill\":{\"color\":\"#C8D4E3\"},\"line\":{\"color\":\"white\"}},\"type\":\"table\"}],\"barpolar\":[{\"marker\":{\"line\":{\"color\":\"#E5ECF6\",\"width\":0.5},\"pattern\":{\"fillmode\":\"overlay\",\"size\":10,\"solidity\":0.2}},\"type\":\"barpolar\"}],\"pie\":[{\"automargin\":true,\"type\":\"pie\"}]},\"layout\":{\"autotypenumbers\":\"strict\",\"colorway\":[\"#636efa\",\"#EF553B\",\"#00cc96\",\"#ab63fa\",\"#FFA15A\",\"#19d3f3\",\"#FF6692\",\"#B6E880\",\"#FF97FF\",\"#FECB52\"],\"font\":{\"color\":\"#2a3f5f\"},\"hovermode\":\"closest\",\"hoverlabel\":{\"align\":\"left\"},\"paper_bgcolor\":\"white\",\"plot_bgcolor\":\"#E5ECF6\",\"polar\":{\"bgcolor\":\"#E5ECF6\",\"angularaxis\":{\"gridcolor\":\"white\",\"linecolor\":\"white\",\"ticks\":\"\"},\"radialaxis\":{\"gridcolor\":\"white\",\"linecolor\":\"white\",\"ticks\":\"\"}},\"ternary\":{\"bgcolor\":\"#E5ECF6\",\"aaxis\":{\"gridcolor\":\"white\",\"linecolor\":\"white\",\"ticks\":\"\"},\"baxis\":{\"gridcolor\":\"white\",\"linecolor\":\"white\",\"ticks\":\"\"},\"caxis\":{\"gridcolor\":\"white\",\"linecolor\":\"white\",\"ticks\":\"\"}},\"coloraxis\":{\"colorbar\":{\"outlinewidth\":0,\"ticks\":\"\"}},\"colorscale\":{\"sequential\":[[0.0,\"#0d0887\"],[0.1111111111111111,\"#46039f\"],[0.2222222222222222,\"#7201a8\"],[0.3333333333333333,\"#9c179e\"],[0.4444444444444444,\"#bd3786\"],[0.5555555555555556,\"#d8576b\"],[0.6666666666666666,\"#ed7953\"],[0.7777777777777778,\"#fb9f3a\"],[0.8888888888888888,\"#fdca26\"],[1.0,\"#f0f921\"]],\"sequentialminus\":[[0.0,\"#0d0887\"],[0.1111111111111111,\"#46039f\"],[0.2222222222222222,\"#7201a8\"],[0.3333333333333333,\"#9c179e\"],[0.4444444444444444,\"#bd3786\"],[0.5555555555555556,\"#d8576b\"],[0.6666666666666666,\"#ed7953\"],[0.7777777777777778,\"#fb9f3a\"],[0.8888888888888888,\"#fdca26\"],[1.0,\"#f0f921\"]],\"diverging\":[[0,\"#8e0152\"],[0.1,\"#c51b7d\"],[0.2,\"#de77ae\"],[0.3,\"#f1b6da\"],[0.4,\"#fde0ef\"],[0.5,\"#f7f7f7\"],[0.6,\"#e6f5d0\"],[0.7,\"#b8e186\"],[0.8,\"#7fbc41\"],[0.9,\"#4d9221\"],[1,\"#276419\"]]},\"xaxis\":{\"gridcolor\":\"white\",\"linecolor\":\"white\",\"ticks\":\"\",\"title\":{\"standoff\":15},\"zerolinecolor\":\"white\",\"automargin\":true,\"zerolinewidth\":2},\"yaxis\":{\"gridcolor\":\"white\",\"linecolor\":\"white\",\"ticks\":\"\",\"title\":{\"standoff\":15},\"zerolinecolor\":\"white\",\"automargin\":true,\"zerolinewidth\":2},\"scene\":{\"xaxis\":{\"backgroundcolor\":\"#E5ECF6\",\"gridcolor\":\"white\",\"linecolor\":\"white\",\"showbackground\":true,\"ticks\":\"\",\"zerolinecolor\":\"white\",\"gridwidth\":2},\"yaxis\":{\"backgroundcolor\":\"#E5ECF6\",\"gridcolor\":\"white\",\"linecolor\":\"white\",\"showbackground\":true,\"ticks\":\"\",\"zerolinecolor\":\"white\",\"gridwidth\":2},\"zaxis\":{\"backgroundcolor\":\"#E5ECF6\",\"gridcolor\":\"white\",\"linecolor\":\"white\",\"showbackground\":true,\"ticks\":\"\",\"zerolinecolor\":\"white\",\"gridwidth\":2}},\"shapedefaults\":{\"line\":{\"color\":\"#2a3f5f\"}},\"annotationdefaults\":{\"arrowcolor\":\"#2a3f5f\",\"arrowhead\":0,\"arrowwidth\":1},\"geo\":{\"bgcolor\":\"white\",\"landcolor\":\"#E5ECF6\",\"subunitcolor\":\"white\",\"showland\":true,\"showlakes\":true,\"lakecolor\":\"white\"},\"title\":{\"x\":0.05},\"mapbox\":{\"style\":\"light\"}}},\"xaxis\":{\"anchor\":\"y\",\"domain\":[0.0,1.0],\"title\":{\"text\":\"count\"},\"type\":\"log\"},\"yaxis\":{\"anchor\":\"x\",\"domain\":[0.0,1.0],\"title\":{\"text\":\"avg_distance\"},\"type\":\"log\"},\"legend\":{\"tracegroupgap\":0},\"margin\":{\"t\":60}},                        {\"responsive\": true}                    ).then(function(){\n",
       "                            \n",
       "var gd = document.getElementById('28ca7dca-5d04-4af7-a2fe-e6e29f2304ed');\n",
       "var x = new MutationObserver(function (mutations, observer) {{\n",
       "        var display = window.getComputedStyle(gd).display;\n",
       "        if (!display || display === 'none') {{\n",
       "            console.log([gd, 'removed!']);\n",
       "            Plotly.purge(gd);\n",
       "            observer.disconnect();\n",
       "        }}\n",
       "}});\n",
       "\n",
       "// Listen for the removal of the full notebook cells\n",
       "var notebookContainer = gd.closest('#notebook-container');\n",
       "if (notebookContainer) {{\n",
       "    x.observe(notebookContainer, {childList: true});\n",
       "}}\n",
       "\n",
       "// Listen for the clearing of the current output cell\n",
       "var outputEl = gd.closest('.output');\n",
       "if (outputEl) {{\n",
       "    x.observe(outputEl, {childList: true});\n",
       "}}\n",
       "\n",
       "                        })                };                });            </script>        </div>"
      ]
     },
     "metadata": {},
     "output_type": "display_data"
    }
   ],
   "source": [
    "%%local\n",
    "\n",
    "import plotly.express as px\n",
    "\n",
    "px.scatter(top_10, x=\"count\", y=\"avg_distance\", log_x=True, log_y=True)"
   ]
  },
  {
   "cell_type": "markdown",
   "id": "72a04013",
   "metadata": {
    "id": "72a04013"
   },
   "source": [
    "Let's also see how plotly can be used to visualize the locations on a map. "
   ]
  },
  {
   "cell_type": "code",
   "execution_count": 61,
   "id": "f4ce181d",
   "metadata": {
    "execution": {
     "iopub.execute_input": "2023-05-29T19:36:02.432446Z",
     "iopub.status.busy": "2023-05-29T19:36:02.432202Z",
     "iopub.status.idle": "2023-05-29T19:36:03.197031Z",
     "shell.execute_reply": "2023-05-29T19:36:03.196236Z",
     "shell.execute_reply.started": "2023-05-29T19:36:02.432423Z"
    },
    "tags": []
   },
   "outputs": [
    {
     "data": {
      "application/vnd.jupyter.widget-view+json": {
       "model_id": "816fb61ba6da4d4bb84a7be51b622cce",
       "version_major": 2,
       "version_minor": 0
      },
      "text/plain": [
       "VBox()"
      ]
     },
     "metadata": {},
     "output_type": "display_data"
    },
    {
     "data": {
      "application/vnd.jupyter.widget-view+json": {
       "model_id": "",
       "version_major": 2,
       "version_minor": 0
      },
      "text/plain": [
       "FloatProgress(value=0.0, bar_style='info', description='Progress:', layout=Layout(height='25px', width='50%'),…"
      ]
     },
     "metadata": {},
     "output_type": "display_data"
    }
   ],
   "source": [
    "# make sure locations are loaded - see Exercise 3\n",
    "nyc_locations = spark.read.csv(\"s3://brainstation-dsft/sparklab/taxi_lat_lon.csv\", header=True)\n",
    "nyc_locations.createOrReplaceTempView(\"nyc_locations\")"
   ]
  },
  {
   "cell_type": "code",
   "execution_count": 62,
   "id": "ceda804c",
   "metadata": {
    "colab": {
     "referenced_widgets": [
      "",
      "b0ba72e0a76b45658d4380fc6f3a795f",
      "c4e00170ba8f4128b63209fe89d000ba"
     ]
    },
    "execution": {
     "iopub.execute_input": "2023-05-29T19:36:03.198266Z",
     "iopub.status.busy": "2023-05-29T19:36:03.198025Z",
     "iopub.status.idle": "2023-05-29T19:36:04.074909Z",
     "shell.execute_reply": "2023-05-29T19:36:04.073948Z",
     "shell.execute_reply.started": "2023-05-29T19:36:03.198244Z"
    },
    "id": "ceda804c",
    "outputId": "6b978318-9911-47ae-b12b-c573d8068180",
    "tags": []
   },
   "outputs": [
    {
     "data": {
      "application/vnd.jupyter.widget-view+json": {
       "model_id": "",
       "version_major": 2,
       "version_minor": 0
      },
      "text/plain": [
       "FloatProgress(value=0.0, bar_style='info', description='Progress:', layout=Layout(height='25px', width='50%'),…"
      ]
     },
     "metadata": {},
     "output_type": "display_data"
    },
    {
     "data": {
      "application/vnd.jupyter.widget-view+json": {
       "model_id": "7a38cb925ef04196867bc30218623ec7",
       "version_major": 2,
       "version_minor": 0
      },
      "text/plain": [
       "VBox(children=(HBox(children=(HTML(value='Type:'), Button(description='Table', layout=Layout(width='70px'), st…"
      ]
     },
     "metadata": {},
     "output_type": "display_data"
    },
    {
     "data": {
      "application/vnd.jupyter.widget-view+json": {
       "model_id": "22bd8e2890fb479dbd54867c6fb9fad6",
       "version_major": 2,
       "version_minor": 0
      },
      "text/plain": [
       "Output()"
      ]
     },
     "metadata": {},
     "output_type": "display_data"
    }
   ],
   "source": [
    "%%sql -o nyc_locations\n",
    "\n",
    "SELECT * FROM nyc_locations"
   ]
  },
  {
   "cell_type": "code",
   "execution_count": 63,
   "id": "3cf1f6f0",
   "metadata": {
    "execution": {
     "iopub.execute_input": "2023-05-29T19:36:04.076779Z",
     "iopub.status.busy": "2023-05-29T19:36:04.076359Z",
     "iopub.status.idle": "2023-05-29T19:36:04.263664Z",
     "shell.execute_reply": "2023-05-29T19:36:04.262868Z",
     "shell.execute_reply.started": "2023-05-29T19:36:04.076740Z"
    },
    "id": "3cf1f6f0",
    "outputId": "2a0a3ff6-4f29-4fdc-d53f-4b13c08dc802",
    "tags": []
   },
   "outputs": [
    {
     "data": {
      "application/vnd.plotly.v1+json": {
       "config": {
        "plotlyServerURL": "https://plot.ly"
       },
       "data": [
        {
         "hovertemplate": "<b>%{hovertext}</b><br><br>lat=%{lat}<br>lon=%{lon}<extra></extra>",
         "hovertext": [
          "Newark Airport",
          "Jamaica Bay",
          "Allerton/Pelham Gardens",
          "Alphabet City",
          "Arden Heights",
          "Arrochar/Fort Wadsworth",
          "Astoria",
          "Astoria Park",
          "Auburndale",
          "Baisley Park",
          "Bath Beach",
          "Battery Park",
          "Battery Park City",
          "Bay Ridge",
          "Bay Terrace/Fort Totten",
          "Bayside",
          "Bedford",
          "Bedford Park",
          "Bellerose",
          "Belmont",
          "Bensonhurst East",
          "Bensonhurst West",
          "Bloomfield/Emerson Hill",
          "Bloomingdale",
          "Boerum Hill",
          "Borough Park",
          "Breezy Point/Fort Tilden/Riis Beach",
          "Briarwood/Jamaica Hills",
          "Brighton Beach",
          "Broad Channel",
          "Bronx Park",
          "Bronxdale",
          "Brooklyn Heights",
          "Brooklyn Navy Yard",
          "Brownsville",
          "Bushwick North",
          "Bushwick South",
          "Cambria Heights",
          "Canarsie",
          "Carroll Gardens",
          "Central Harlem",
          "Central Harlem North",
          "Central Park",
          "Charleston/Tottenville",
          "Chinatown",
          "City Island",
          "Claremont/Bathgate",
          "Clinton East",
          "Clinton Hill",
          "Clinton West",
          "Co-Op City",
          "Cobble Hill",
          "College Point",
          "Columbia Street",
          "Coney Island",
          "Corona",
          "Corona",
          "Country Club",
          "Crotona Park",
          "Crotona Park East",
          "Crown Heights North",
          "Crown Heights South",
          "Cypress Hills",
          "Douglaston",
          "Downtown Brooklyn/MetroTech",
          "DUMBO/Vinegar Hill",
          "Dyker Heights",
          "East Chelsea",
          "East Concourse/Concourse Village",
          "East Elmhurst",
          "East Flatbush/Farragut",
          "East Flatbush/Remsen Village",
          "East Flushing",
          "East Harlem North",
          "East Harlem South",
          "East New York",
          "East New York/Pennsylvania Avenue",
          "East Tremont",
          "East Village",
          "East Williamsburg",
          "Eastchester",
          "Elmhurst",
          "Elmhurst/Maspeth",
          "Eltingville/Annadale/Prince's Bay",
          "Erasmus",
          "Far Rockaway",
          "Financial District North",
          "Financial District South",
          "Flatbush/Ditmas Park",
          "Flatiron",
          "Flatlands",
          "Flushing",
          "Flushing Meadows-Corona Park",
          "Fordham South",
          "Forest Hills",
          "Forest Park/Highland Park",
          "Fort Greene",
          "Fresh Meadows",
          "Freshkills Park",
          "Garment District",
          "Glen Oaks",
          "Glendale",
          "Governor's Island/Ellis Island/Liberty Island",
          "Governor's Island/Ellis Island/Liberty Island",
          "Governor's Island/Ellis Island/Liberty Island",
          "Gowanus",
          "Gramercy",
          "Gravesend",
          "Great Kills",
          "Great Kills Park",
          "Green-Wood Cemetery",
          "Greenpoint",
          "Greenwich Village North",
          "Greenwich Village South",
          "Grymes Hill/Clifton",
          "Hamilton Heights",
          "Hammels/Arverne",
          "Heartland Village/Todt Hill",
          "Highbridge",
          "Highbridge Park",
          "Hillcrest/Pomonok",
          "Hollis",
          "Homecrest",
          "Howard Beach",
          "Hudson Sq",
          "Hunts Point",
          "Inwood",
          "Inwood Hill Park",
          "Jackson Heights",
          "Jamaica",
          "Jamaica Estates",
          "JFK Airport",
          "Kensington",
          "Kew Gardens",
          "Kew Gardens Hills",
          "Kingsbridge Heights",
          "Kips Bay",
          "LaGuardia Airport",
          "Laurelton",
          "Lenox Hill East",
          "Lenox Hill West",
          "Lincoln Square East",
          "Lincoln Square West",
          "Little Italy/NoLiTa",
          "Long Island City/Hunters Point",
          "Long Island City/Queens Plaza",
          "Longwood",
          "Lower East Side",
          "Madison",
          "Manhattan Beach",
          "Manhattan Valley",
          "Manhattanville",
          "Marble Hill",
          "Marine Park/Floyd Bennett Field",
          "Marine Park/Mill Basin",
          "Mariners Harbor",
          "Maspeth",
          "Meatpacking/West Village West",
          "Melrose South",
          "Middle Village",
          "Midtown Center",
          "Midtown East",
          "Midtown North",
          "Midtown South",
          "Midwood",
          "Morningside Heights",
          "Morrisania/Melrose",
          "Mott Haven/Port Morris",
          "Mount Hope",
          "Murray Hill",
          "Murray Hill-Queens",
          "New Dorp/Midland Beach",
          "North Corona",
          "Norwood",
          "Oakland Gardens",
          "Oakwood",
          "Ocean Hill",
          "Ocean Parkway South",
          "Old Astoria",
          "Ozone Park",
          "Park Slope",
          "Parkchester",
          "Pelham Bay",
          "Pelham Bay Park",
          "Pelham Parkway",
          "Penn Station/Madison Sq West",
          "Port Richmond",
          "Prospect-Lefferts Gardens",
          "Prospect Heights",
          "Prospect Park",
          "Queens Village",
          "Queensboro Hill",
          "Queensbridge/Ravenswood",
          "Randalls Island",
          "Red Hook",
          "Rego Park",
          "Richmond Hill",
          "Ridgewood",
          "Rikers Island",
          "Riverdale/North Riverdale/Fieldston",
          "Rockaway Park",
          "Roosevelt Island",
          "Rosedale",
          "Rossville/Woodrow",
          "Saint Albans",
          "Saint George/New Brighton",
          "Saint Michaels Cemetery/Woodside",
          "Schuylerville/Edgewater Park",
          "Seaport",
          "Sheepshead Bay",
          "SoHo",
          "Soundview/Bruckner",
          "Soundview/Castle Hill",
          "South Beach/Dongan Hills",
          "South Jamaica",
          "South Ozone Park",
          "South Williamsburg",
          "Springfield Gardens North",
          "Springfield Gardens South",
          "Spuyten Duyvil/Kingsbridge",
          "Stapleton",
          "Starrett City",
          "Steinway",
          "Stuy Town/Peter Cooper Village",
          "Stuyvesant Heights",
          "Sunnyside",
          "Sunset Park East",
          "Sunset Park West",
          "Sutton Place/Turtle Bay North",
          "Times Sq/Theatre District",
          "TriBeCa/Civic Center",
          "Two Bridges/Seward Park",
          "UN/Turtle Bay South",
          "Union Sq",
          "University Heights/Morris Heights",
          "Upper East Side North",
          "Upper East Side South",
          "Upper West Side North",
          "Upper West Side South",
          "Van Cortlandt Park",
          "Van Cortlandt Village",
          "Van Nest/Morris Park",
          "Washington Heights North",
          "Washington Heights South",
          "West Brighton",
          "West Chelsea/Hudson Yards",
          "West Concourse",
          "West Farms/Bronx River",
          "West Village",
          "Westchester Village/Unionport",
          "Westerleigh",
          "Whitestone",
          "Willets Point",
          "Williamsbridge/Olinville",
          "Williamsburg (North Side)",
          "Williamsburg (South Side)",
          "Windsor Terrace",
          "Woodhaven",
          "Woodlawn/Wakefield",
          "Woodside",
          "World Trade Center",
          "Yorkville East",
          "Yorkville West"
         ],
         "lat": [
          40.68951564804311,
          40.6257242377511,
          40.8658875419774,
          40.7241521436714,
          40.550340123832,
          40.5990621740821,
          40.761084729151,
          40.77860696177039,
          40.754410927111394,
          40.6781247031195,
          40.60397770880979,
          40.7024884135418,
          40.7116120831165,
          40.62358427930889,
          40.7852195006457,
          40.7612088345005,
          40.6919940962748,
          40.8687628819908,
          40.7364724391387,
          40.8577731142544,
          40.602048984009706,
          40.6096273400171,
          40.607504219542,
          40.8020327729942,
          40.685614589464,
          40.6286122405859,
          40.5589500919216,
          40.710852781755,
          40.582195546571,
          40.60487218378989,
          40.859920521140005,
          40.86445170642521,
          40.6962383270628,
          40.7025590381029,
          40.66380982261511,
          40.6990847380764,
          40.6962674524983,
          40.6932955704325,
          40.638878929924296,
          40.6785042230919,
          40.8042048286288,
          40.8210462140976,
          40.7824597386361,
          40.527298175003,
          40.7130578275841,
          40.847499898485495,
          40.8457549453718,
          40.7622367556144,
          40.6885158752504,
          40.7666923746668,
          40.874061550909,
          40.6866045417646,
          40.7819879584294,
          40.6869911475205,
          40.5768996198541,
          40.7415986155017,
          40.7523160392058,
          40.8414754987567,
          40.8388599905968,
          40.83129411878829,
          40.6738428461316,
          40.6670895607261,
          40.6848101947076,
          40.760631276033,
          40.6953726093294,
          40.701732471687,
          40.6184544072203,
          40.7483972248318,
          40.8306076776139,
          40.7639478203254,
          40.6439285192804,
          40.6524606311874,
          40.753697486945896,
          40.8055655654775,
          40.7906501597646,
          40.65868630446621,
          40.6677018744258,
          40.8460302771125,
          40.7279442789046,
          40.7144695745871,
          40.87735882816371,
          40.738463920367295,
          40.7401456031773,
          40.5320172010873,
          40.6472549665241,
          40.6025539265615,
          40.706659617356,
          40.7033938017209,
          40.64098273381,
          40.7425461606612,
          40.6273899924426,
          40.7641272834135,
          40.7392346574674,
          40.858260764359606,
          40.7234652723597,
          40.6957609903045,
          40.6906156556941,
          40.7338412186621,
          40.5796179453647,
          40.753514091774605,
          40.74372178358129,
          40.7026793599143,
          40.6898605712245,
          40.6986732840584,
          40.6881378249245,
          40.6733611676171,
          40.7373483763208,
          40.5891103441533,
          40.548830715909205,
          40.5432675249983,
          40.6521158025647,
          40.7288303471399,
          40.7324859518256,
          40.7286117315904,
          40.6201275450588,
          40.827535259806,
          40.5960558298222,
          40.5856310621159,
          40.8367300313346,
          40.8460040720504,
          40.7273471948519,
          40.7110684671189,
          40.6002048027388,
          40.6595667686077,
          40.7253763405368,
          40.813918192187,
          40.865062683291605,
          40.8721876093241,
          40.7590574739636,
          40.7032738833012,
          40.720412328134,
          40.64260452171779,
          40.63938720388779,
          40.7087501798075,
          40.7294099643617,
          40.8648027310875,
          40.7403592357115,
          40.7748673895178,
          40.6777493674309,
          40.7655068182316,
          40.7668388165846,
          40.7739059853886,
          40.77577020957129,
          40.7205814515076,
          40.7465899679036,
          40.7545288941149,
          40.8191985303455,
          40.7192116742044,
          40.6065579859268,
          40.58026232412529,
          40.797866268004,
          40.8175772001908,
          40.8756004059432,
          40.593118666611,
          40.6177885388735,
          40.628748375485294,
          40.7240393566008,
          40.735248066679,
          40.8182594605072,
          40.7185038197548,
          40.758226481221705,
          40.7568161553126,
          40.7644254534051,
          40.7488076668144,
          40.620958700086206,
          40.80957022827229,
          40.8279880356749,
          40.80743953086439,
          40.849114821914704,
          40.7476542811031,
          40.7689436687832,
          40.5724654201423,
          40.751779243921206,
          40.876852592167104,
          40.743273849336,
          40.5620606070131,
          40.6770986129152,
          40.6176331814343,
          40.7714253418156,
          40.6751638515945,
          40.672019140546,
          40.8374043586994,
          40.8495686468422,
          40.8647854171785,
          40.8534716586784,
          40.7484763617618,
          40.62545371993789,
          40.6575600630782,
          40.6771824866237,
          40.6606075676682,
          40.7142783033807,
          40.7444109985,
          40.7617244307638,
          40.7914329582306,
          40.6754616838619,
          40.7236478589889,
          40.6930004742218,
          40.7045215336003,
          40.79204594322261,
          40.899859621114295,
          40.577468718337,
          40.761167913907705,
          40.6595017770463,
          40.5407426890056,
          40.6922189718589,
          40.6359593979133,
          40.7635113549352,
          40.8246861384134,
          40.7084896914032,
          40.5937616085004,
          40.7238990714701,
          40.8282769856365,
          40.816490762555,
          40.5866190655298,
          40.694190301351206,
          40.6770712325623,
          40.703249610232,
          40.6736200279408,
          40.6602284956109,
          40.8819009385792,
          40.6202239775881,
          40.6468719097136,
          40.778193328200494,
          40.7317281591558,
          40.6887850672001,
          40.7352734102809,
          40.6415976370168,
          40.653618206901896,
          40.756589298489295,
          40.759844740029294,
          40.718695641007706,
          40.7153860841071,
          40.7491720982236,
          40.7403134645878,
          40.8535029301211,
          40.7804914757347,
          40.7685418846646,
          40.7917662467824,
          40.7841073645538,
          40.8947464191253,
          40.8759758476571,
          40.8495965844009,
          40.858670286631295,
          40.8412186698664,
          40.628478475102,
          40.7524372519647,
          40.8292114745072,
          40.8346771999308,
          40.7346115559814,
          40.8324906886295,
          40.619605516153705,
          40.788360648021005,
          40.7600863368444,
          40.8832233292992,
          40.7188341922346,
          40.7109771296904,
          40.6536644952118,
          40.6901263678129,
          40.8991027731978,
          40.7467977944692,
          40.708975618892005,
          40.776534228995104,
          40.7784958687768
         ],
         "legendgroup": "",
         "lon": [
          -74.1767857452143,
          -73.8261257703202,
          -73.8494789238597,
          -73.97702292193391,
          -74.1899296712375,
          -74.06777446074209,
          -73.9214905669465,
          -73.92320240928359,
          -73.78802024874071,
          -73.7916654578906,
          -74.01061563053621,
          -74.0154903292143,
          -74.0161196692833,
          -74.03044705082971,
          -73.78797108474359,
          -73.7716678221165,
          -73.9491813010382,
          -73.8869219948557,
          -73.7278693961567,
          -73.88603484053459,
          -73.9813007259727,
          -73.9942970150052,
          -74.1594432875648,
          -73.9655685290937,
          -73.9864589876713,
          -73.9895604065528,
          -73.90978119781441,
          -73.80732908405,
          -73.9605798481175,
          -73.8200975464803,
          -73.875722045295,
          -73.8646241408313,
          -73.995328797204,
          -73.96769896867909,
          -73.9124814882782,
          -73.91656398027341,
          -73.9259483634522,
          -73.7355495585459,
          -73.899773871952,
          -73.9958180819094,
          -73.9520653308923,
          -73.9395164693167,
          -73.96557217995941,
          -74.2295465457844,
          -73.9982526213797,
          -73.7864863118305,
          -73.89692914923229,
          -73.9898566508315,
          -73.9649337316477,
          -73.9938994033218,
          -73.8304236318969,
          -73.9969224713871,
          -73.84407034588571,
          -74.003092790563,
          -73.9904741395563,
          -73.8590533534623,
          -73.853384474855,
          -73.8207053822972,
          -73.8930744338338,
          -73.8897822026553,
          -73.94128202922141,
          -73.9492699670747,
          -73.8776764323789,
          -73.7313921625056,
          -73.9855710635353,
          -73.9863827475546,
          -74.0147358711929,
          -73.9999401565074,
          -73.9153662202336,
          -73.86840291436441,
          -73.93773452015779,
          -73.9202100548833,
          -73.8065843331469,
          -73.9383104968462,
          -73.9449566676846,
          -73.8784173669943,
          -73.8957171569753,
          -73.88664559406891,
          -73.9852141243977,
          -73.94232930719009,
          -73.8455325663154,
          -73.8723440095934,
          -73.889221829475,
          -74.17393732693841,
          -73.95220883684641,
          -73.7541867292922,
          -74.0078121163865,
          -74.01130777063679,
          -73.9626937337469,
          -73.9967775123964,
          -73.932543590688,
          -73.8304471275476,
          -73.84189275500859,
          -73.900591010865,
          -73.84821993627051,
          -73.8760122181239,
          -73.975576580035,
          -73.7795502346253,
          -74.187702737221,
          -73.98878589284921,
          -73.7090705910379,
          -73.8819987296701,
          -74.0451814058337,
          -74.0391308720565,
          -74.0187943689955,
          -73.9917635756064,
          -73.9833103532463,
          -73.98037615109371,
          -74.1527146857649,
          -74.1258464065771,
          -73.990988902762,
          -73.9484721972696,
          -73.9946282171513,
          -73.9986779466048,
          -74.0924861023209,
          -73.9473675432227,
          -73.77608410155109,
          -74.1370701313217,
          -73.9269662109924,
          -73.9308068517413,
          -73.79968830757159,
          -73.7615641851515,
          -73.9651983047602,
          -73.8500050428708,
          -74.0071756920052,
          -73.8849772729363,
          -73.9203254718565,
          -73.9254320855109,
          -73.8874063794919,
          -73.8003475246798,
          -73.77137449507269,
          -73.77826365890199,
          -73.97433619770429,
          -73.8299927030517,
          -73.82398551387591,
          -73.9057199662352,
          -73.9771193707357,
          -73.8728037146871,
          -73.7433230842567,
          -73.9545680421348,
          -73.9597126787805,
          -73.98135241373991,
          -73.9879729664182,
          -73.9974066841975,
          -73.94869919181721,
          -73.9336340945451,
          -73.8981929347315,
          -73.9907183626618,
          -73.94847420881209,
          -73.9428842620734,
          -73.9678083909732,
          -73.95432487462709,
          -73.9110625766578,
          -73.89612330695009,
          -73.9067693423191,
          -74.1648593047613,
          -73.90192569084421,
          -74.0083857570117,
          -73.91358298976441,
          -73.8807122478637,
          -73.9774318381095,
          -73.9721454850812,
          -73.97836698802041,
          -73.98592880648721,
          -73.95460294826191,
          -73.9618152643826,
          -73.9044425941057,
          -73.9170580317151,
          -73.9050214600049,
          -73.9769419924356,
          -73.8088807171629,
          -74.1039265024817,
          -73.8630837007824,
          -73.87776056184659,
          -73.75735677160671,
          -74.1196124324174,
          -73.9111057913062,
          -73.9706887790417,
          -73.9268123582238,
          -73.8493643543423,
          -73.979044896845,
          -73.8579416206911,
          -73.83185405296459,
          -73.8046108382118,
          -73.85518043318041,
          -73.99245532771059,
          -74.1411524820629,
          -73.94520015759,
          -73.968269632125,
          -73.9709500738325,
          -73.74112042074971,
          -73.8151925356493,
          -73.94028630330509,
          -73.9210290324994,
          -74.009549313284,
          -73.8640102120344,
          -73.8290435569064,
          -73.9019937512221,
          -73.8835364013293,
          -73.9064606078974,
          -73.8472464785559,
          -73.9504104879777,
          -73.73671880894409,
          -74.2069729508607,
          -73.7626156564313,
          -74.12316375647309,
          -73.8993250159726,
          -73.824886342133,
          -74.00235972445249,
          -73.94433604544159,
          -74.0013747299582,
          -73.8699019343016,
          -73.86079103704921,
          -74.0858854521269,
          -73.7903675378715,
          -73.8205132705286,
          -73.95684576885641,
          -73.7721162803473,
          -73.7610079604205,
          -73.9118772631728,
          -74.08133476136621,
          -73.8821375169092,
          -73.906671830047,
          -73.9778420751297,
          -73.9314448522357,
          -73.9293212827563,
          -74.00679455179291,
          -74.009960471569,
          -73.9651741989212,
          -73.9841761608222,
          -74.00671162438991,
          -73.98230670494641,
          -73.97125597712959,
          -73.9904776189691,
          -73.9149683294755,
          -73.9569723853064,
          -73.9656914919459,
          -73.97281451745029,
          -73.97827334184859,
          -73.8790671945698,
          -73.8964501437395,
          -73.8398789614734,
          -73.9328243182356,
          -73.9416668140575,
          -74.10317060675209,
          -74.004512572075,
          -73.9250591826957,
          -73.8710104534108,
          -74.00249690862721,
          -73.84947867538979,
          -74.1232368409925,
          -73.8153942986072,
          -73.84147454859091,
          -73.85826965181771,
          -73.9571337756889,
          -73.9591078838642,
          -73.9772393111852,
          -73.8566390530717,
          -73.85635111728891,
          -73.9037132789432,
          -74.0129193755126,
          -73.94582981800791,
          -73.9512079916544
         ],
         "marker": {
          "color": "#636efa"
         },
         "mode": "markers",
         "name": "",
         "showlegend": false,
         "subplot": "mapbox",
         "type": "scattermapbox"
        }
       ],
       "layout": {
        "autosize": true,
        "legend": {
         "tracegroupgap": 0
        },
        "mapbox": {
         "center": {
          "lat": 40.7259653986699,
          "lon": -73.93124570030217
         },
         "domain": {
          "x": [
           0,
           1
          ],
          "y": [
           0,
           1
          ]
         },
         "style": "carto-positron",
         "zoom": 8
        },
        "margin": {
         "t": 60
        },
        "template": {
         "data": {
          "bar": [
           {
            "error_x": {
             "color": "#2a3f5f"
            },
            "error_y": {
             "color": "#2a3f5f"
            },
            "marker": {
             "line": {
              "color": "#E5ECF6",
              "width": 0.5
             },
             "pattern": {
              "fillmode": "overlay",
              "size": 10,
              "solidity": 0.2
             }
            },
            "type": "bar"
           }
          ],
          "barpolar": [
           {
            "marker": {
             "line": {
              "color": "#E5ECF6",
              "width": 0.5
             },
             "pattern": {
              "fillmode": "overlay",
              "size": 10,
              "solidity": 0.2
             }
            },
            "type": "barpolar"
           }
          ],
          "carpet": [
           {
            "aaxis": {
             "endlinecolor": "#2a3f5f",
             "gridcolor": "white",
             "linecolor": "white",
             "minorgridcolor": "white",
             "startlinecolor": "#2a3f5f"
            },
            "baxis": {
             "endlinecolor": "#2a3f5f",
             "gridcolor": "white",
             "linecolor": "white",
             "minorgridcolor": "white",
             "startlinecolor": "#2a3f5f"
            },
            "type": "carpet"
           }
          ],
          "choropleth": [
           {
            "colorbar": {
             "outlinewidth": 0,
             "ticks": ""
            },
            "type": "choropleth"
           }
          ],
          "contour": [
           {
            "colorbar": {
             "outlinewidth": 0,
             "ticks": ""
            },
            "colorscale": [
             [
              0,
              "#0d0887"
             ],
             [
              0.1111111111111111,
              "#46039f"
             ],
             [
              0.2222222222222222,
              "#7201a8"
             ],
             [
              0.3333333333333333,
              "#9c179e"
             ],
             [
              0.4444444444444444,
              "#bd3786"
             ],
             [
              0.5555555555555556,
              "#d8576b"
             ],
             [
              0.6666666666666666,
              "#ed7953"
             ],
             [
              0.7777777777777778,
              "#fb9f3a"
             ],
             [
              0.8888888888888888,
              "#fdca26"
             ],
             [
              1,
              "#f0f921"
             ]
            ],
            "type": "contour"
           }
          ],
          "contourcarpet": [
           {
            "colorbar": {
             "outlinewidth": 0,
             "ticks": ""
            },
            "type": "contourcarpet"
           }
          ],
          "heatmap": [
           {
            "colorbar": {
             "outlinewidth": 0,
             "ticks": ""
            },
            "colorscale": [
             [
              0,
              "#0d0887"
             ],
             [
              0.1111111111111111,
              "#46039f"
             ],
             [
              0.2222222222222222,
              "#7201a8"
             ],
             [
              0.3333333333333333,
              "#9c179e"
             ],
             [
              0.4444444444444444,
              "#bd3786"
             ],
             [
              0.5555555555555556,
              "#d8576b"
             ],
             [
              0.6666666666666666,
              "#ed7953"
             ],
             [
              0.7777777777777778,
              "#fb9f3a"
             ],
             [
              0.8888888888888888,
              "#fdca26"
             ],
             [
              1,
              "#f0f921"
             ]
            ],
            "type": "heatmap"
           }
          ],
          "heatmapgl": [
           {
            "colorbar": {
             "outlinewidth": 0,
             "ticks": ""
            },
            "colorscale": [
             [
              0,
              "#0d0887"
             ],
             [
              0.1111111111111111,
              "#46039f"
             ],
             [
              0.2222222222222222,
              "#7201a8"
             ],
             [
              0.3333333333333333,
              "#9c179e"
             ],
             [
              0.4444444444444444,
              "#bd3786"
             ],
             [
              0.5555555555555556,
              "#d8576b"
             ],
             [
              0.6666666666666666,
              "#ed7953"
             ],
             [
              0.7777777777777778,
              "#fb9f3a"
             ],
             [
              0.8888888888888888,
              "#fdca26"
             ],
             [
              1,
              "#f0f921"
             ]
            ],
            "type": "heatmapgl"
           }
          ],
          "histogram": [
           {
            "marker": {
             "pattern": {
              "fillmode": "overlay",
              "size": 10,
              "solidity": 0.2
             }
            },
            "type": "histogram"
           }
          ],
          "histogram2d": [
           {
            "colorbar": {
             "outlinewidth": 0,
             "ticks": ""
            },
            "colorscale": [
             [
              0,
              "#0d0887"
             ],
             [
              0.1111111111111111,
              "#46039f"
             ],
             [
              0.2222222222222222,
              "#7201a8"
             ],
             [
              0.3333333333333333,
              "#9c179e"
             ],
             [
              0.4444444444444444,
              "#bd3786"
             ],
             [
              0.5555555555555556,
              "#d8576b"
             ],
             [
              0.6666666666666666,
              "#ed7953"
             ],
             [
              0.7777777777777778,
              "#fb9f3a"
             ],
             [
              0.8888888888888888,
              "#fdca26"
             ],
             [
              1,
              "#f0f921"
             ]
            ],
            "type": "histogram2d"
           }
          ],
          "histogram2dcontour": [
           {
            "colorbar": {
             "outlinewidth": 0,
             "ticks": ""
            },
            "colorscale": [
             [
              0,
              "#0d0887"
             ],
             [
              0.1111111111111111,
              "#46039f"
             ],
             [
              0.2222222222222222,
              "#7201a8"
             ],
             [
              0.3333333333333333,
              "#9c179e"
             ],
             [
              0.4444444444444444,
              "#bd3786"
             ],
             [
              0.5555555555555556,
              "#d8576b"
             ],
             [
              0.6666666666666666,
              "#ed7953"
             ],
             [
              0.7777777777777778,
              "#fb9f3a"
             ],
             [
              0.8888888888888888,
              "#fdca26"
             ],
             [
              1,
              "#f0f921"
             ]
            ],
            "type": "histogram2dcontour"
           }
          ],
          "mesh3d": [
           {
            "colorbar": {
             "outlinewidth": 0,
             "ticks": ""
            },
            "type": "mesh3d"
           }
          ],
          "parcoords": [
           {
            "line": {
             "colorbar": {
              "outlinewidth": 0,
              "ticks": ""
             }
            },
            "type": "parcoords"
           }
          ],
          "pie": [
           {
            "automargin": true,
            "type": "pie"
           }
          ],
          "scatter": [
           {
            "fillpattern": {
             "fillmode": "overlay",
             "size": 10,
             "solidity": 0.2
            },
            "type": "scatter"
           }
          ],
          "scatter3d": [
           {
            "line": {
             "colorbar": {
              "outlinewidth": 0,
              "ticks": ""
             }
            },
            "marker": {
             "colorbar": {
              "outlinewidth": 0,
              "ticks": ""
             }
            },
            "type": "scatter3d"
           }
          ],
          "scattercarpet": [
           {
            "marker": {
             "colorbar": {
              "outlinewidth": 0,
              "ticks": ""
             }
            },
            "type": "scattercarpet"
           }
          ],
          "scattergeo": [
           {
            "marker": {
             "colorbar": {
              "outlinewidth": 0,
              "ticks": ""
             }
            },
            "type": "scattergeo"
           }
          ],
          "scattergl": [
           {
            "marker": {
             "colorbar": {
              "outlinewidth": 0,
              "ticks": ""
             }
            },
            "type": "scattergl"
           }
          ],
          "scattermapbox": [
           {
            "marker": {
             "colorbar": {
              "outlinewidth": 0,
              "ticks": ""
             }
            },
            "type": "scattermapbox"
           }
          ],
          "scatterpolar": [
           {
            "marker": {
             "colorbar": {
              "outlinewidth": 0,
              "ticks": ""
             }
            },
            "type": "scatterpolar"
           }
          ],
          "scatterpolargl": [
           {
            "marker": {
             "colorbar": {
              "outlinewidth": 0,
              "ticks": ""
             }
            },
            "type": "scatterpolargl"
           }
          ],
          "scatterternary": [
           {
            "marker": {
             "colorbar": {
              "outlinewidth": 0,
              "ticks": ""
             }
            },
            "type": "scatterternary"
           }
          ],
          "surface": [
           {
            "colorbar": {
             "outlinewidth": 0,
             "ticks": ""
            },
            "colorscale": [
             [
              0,
              "#0d0887"
             ],
             [
              0.1111111111111111,
              "#46039f"
             ],
             [
              0.2222222222222222,
              "#7201a8"
             ],
             [
              0.3333333333333333,
              "#9c179e"
             ],
             [
              0.4444444444444444,
              "#bd3786"
             ],
             [
              0.5555555555555556,
              "#d8576b"
             ],
             [
              0.6666666666666666,
              "#ed7953"
             ],
             [
              0.7777777777777778,
              "#fb9f3a"
             ],
             [
              0.8888888888888888,
              "#fdca26"
             ],
             [
              1,
              "#f0f921"
             ]
            ],
            "type": "surface"
           }
          ],
          "table": [
           {
            "cells": {
             "fill": {
              "color": "#EBF0F8"
             },
             "line": {
              "color": "white"
             }
            },
            "header": {
             "fill": {
              "color": "#C8D4E3"
             },
             "line": {
              "color": "white"
             }
            },
            "type": "table"
           }
          ]
         },
         "layout": {
          "annotationdefaults": {
           "arrowcolor": "#2a3f5f",
           "arrowhead": 0,
           "arrowwidth": 1
          },
          "autotypenumbers": "strict",
          "coloraxis": {
           "colorbar": {
            "outlinewidth": 0,
            "ticks": ""
           }
          },
          "colorscale": {
           "diverging": [
            [
             0,
             "#8e0152"
            ],
            [
             0.1,
             "#c51b7d"
            ],
            [
             0.2,
             "#de77ae"
            ],
            [
             0.3,
             "#f1b6da"
            ],
            [
             0.4,
             "#fde0ef"
            ],
            [
             0.5,
             "#f7f7f7"
            ],
            [
             0.6,
             "#e6f5d0"
            ],
            [
             0.7,
             "#b8e186"
            ],
            [
             0.8,
             "#7fbc41"
            ],
            [
             0.9,
             "#4d9221"
            ],
            [
             1,
             "#276419"
            ]
           ],
           "sequential": [
            [
             0,
             "#0d0887"
            ],
            [
             0.1111111111111111,
             "#46039f"
            ],
            [
             0.2222222222222222,
             "#7201a8"
            ],
            [
             0.3333333333333333,
             "#9c179e"
            ],
            [
             0.4444444444444444,
             "#bd3786"
            ],
            [
             0.5555555555555556,
             "#d8576b"
            ],
            [
             0.6666666666666666,
             "#ed7953"
            ],
            [
             0.7777777777777778,
             "#fb9f3a"
            ],
            [
             0.8888888888888888,
             "#fdca26"
            ],
            [
             1,
             "#f0f921"
            ]
           ],
           "sequentialminus": [
            [
             0,
             "#0d0887"
            ],
            [
             0.1111111111111111,
             "#46039f"
            ],
            [
             0.2222222222222222,
             "#7201a8"
            ],
            [
             0.3333333333333333,
             "#9c179e"
            ],
            [
             0.4444444444444444,
             "#bd3786"
            ],
            [
             0.5555555555555556,
             "#d8576b"
            ],
            [
             0.6666666666666666,
             "#ed7953"
            ],
            [
             0.7777777777777778,
             "#fb9f3a"
            ],
            [
             0.8888888888888888,
             "#fdca26"
            ],
            [
             1,
             "#f0f921"
            ]
           ]
          },
          "colorway": [
           "#636efa",
           "#EF553B",
           "#00cc96",
           "#ab63fa",
           "#FFA15A",
           "#19d3f3",
           "#FF6692",
           "#B6E880",
           "#FF97FF",
           "#FECB52"
          ],
          "font": {
           "color": "#2a3f5f"
          },
          "geo": {
           "bgcolor": "white",
           "lakecolor": "white",
           "landcolor": "#E5ECF6",
           "showlakes": true,
           "showland": true,
           "subunitcolor": "white"
          },
          "hoverlabel": {
           "align": "left"
          },
          "hovermode": "closest",
          "mapbox": {
           "style": "light"
          },
          "paper_bgcolor": "white",
          "plot_bgcolor": "#E5ECF6",
          "polar": {
           "angularaxis": {
            "gridcolor": "white",
            "linecolor": "white",
            "ticks": ""
           },
           "bgcolor": "#E5ECF6",
           "radialaxis": {
            "gridcolor": "white",
            "linecolor": "white",
            "ticks": ""
           }
          },
          "scene": {
           "xaxis": {
            "backgroundcolor": "#E5ECF6",
            "gridcolor": "white",
            "gridwidth": 2,
            "linecolor": "white",
            "showbackground": true,
            "ticks": "",
            "zerolinecolor": "white"
           },
           "yaxis": {
            "backgroundcolor": "#E5ECF6",
            "gridcolor": "white",
            "gridwidth": 2,
            "linecolor": "white",
            "showbackground": true,
            "ticks": "",
            "zerolinecolor": "white"
           },
           "zaxis": {
            "backgroundcolor": "#E5ECF6",
            "gridcolor": "white",
            "gridwidth": 2,
            "linecolor": "white",
            "showbackground": true,
            "ticks": "",
            "zerolinecolor": "white"
           }
          },
          "shapedefaults": {
           "line": {
            "color": "#2a3f5f"
           }
          },
          "ternary": {
           "aaxis": {
            "gridcolor": "white",
            "linecolor": "white",
            "ticks": ""
           },
           "baxis": {
            "gridcolor": "white",
            "linecolor": "white",
            "ticks": ""
           },
           "bgcolor": "#E5ECF6",
           "caxis": {
            "gridcolor": "white",
            "linecolor": "white",
            "ticks": ""
           }
          },
          "title": {
           "x": 0.05
          },
          "xaxis": {
           "automargin": true,
           "gridcolor": "white",
           "linecolor": "white",
           "ticks": "",
           "title": {
            "standoff": 15
           },
           "zerolinecolor": "white",
           "zerolinewidth": 2
          },
          "yaxis": {
           "automargin": true,
           "gridcolor": "white",
           "linecolor": "white",
           "ticks": "",
           "title": {
            "standoff": 15
           },
           "zerolinecolor": "white",
           "zerolinewidth": 2
          }
         }
        }
       }
      },
      "image/png": "[encoded data removed]",
      "text/html": [
       "<div>                            <div id=\"1827f8a3-bd8b-439f-b86c-8a994649cbcd\" class=\"plotly-graph-div\" style=\"height:525px; width:100%;\"></div>            <script type=\"text/javascript\">                require([\"plotly\"], function(Plotly) {                    window.PLOTLYENV=window.PLOTLYENV || {};                                    if (document.getElementById(\"1827f8a3-bd8b-439f-b86c-8a994649cbcd\")) {                    Plotly.newPlot(                        \"1827f8a3-bd8b-439f-b86c-8a994649cbcd\",                        [{\"hovertemplate\":\"<b>%{hovertext}</b><br><br>lat=%{lat}<br>lon=%{lon}<extra></extra>\",\"hovertext\":[\"Newark Airport\",\"Jamaica Bay\",\"Allerton/Pelham Gardens\",\"Alphabet City\",\"Arden Heights\",\"Arrochar/Fort Wadsworth\",\"Astoria\",\"Astoria Park\",\"Auburndale\",\"Baisley Park\",\"Bath Beach\",\"Battery Park\",\"Battery Park City\",\"Bay Ridge\",\"Bay Terrace/Fort Totten\",\"Bayside\",\"Bedford\",\"Bedford Park\",\"Bellerose\",\"Belmont\",\"Bensonhurst East\",\"Bensonhurst West\",\"Bloomfield/Emerson Hill\",\"Bloomingdale\",\"Boerum Hill\",\"Borough Park\",\"Breezy Point/Fort Tilden/Riis Beach\",\"Briarwood/Jamaica Hills\",\"Brighton Beach\",\"Broad Channel\",\"Bronx Park\",\"Bronxdale\",\"Brooklyn Heights\",\"Brooklyn Navy Yard\",\"Brownsville\",\"Bushwick North\",\"Bushwick South\",\"Cambria Heights\",\"Canarsie\",\"Carroll Gardens\",\"Central Harlem\",\"Central Harlem North\",\"Central Park\",\"Charleston/Tottenville\",\"Chinatown\",\"City Island\",\"Claremont/Bathgate\",\"Clinton East\",\"Clinton Hill\",\"Clinton West\",\"Co-Op City\",\"Cobble Hill\",\"College Point\",\"Columbia Street\",\"Coney Island\",\"Corona\",\"Corona\",\"Country Club\",\"Crotona Park\",\"Crotona Park East\",\"Crown Heights North\",\"Crown Heights South\",\"Cypress Hills\",\"Douglaston\",\"Downtown Brooklyn/MetroTech\",\"DUMBO/Vinegar Hill\",\"Dyker Heights\",\"East Chelsea\",\"East Concourse/Concourse Village\",\"East Elmhurst\",\"East Flatbush/Farragut\",\"East Flatbush/Remsen Village\",\"East Flushing\",\"East Harlem North\",\"East Harlem South\",\"East New York\",\"East New York/Pennsylvania Avenue\",\"East Tremont\",\"East Village\",\"East Williamsburg\",\"Eastchester\",\"Elmhurst\",\"Elmhurst/Maspeth\",\"Eltingville/Annadale/Prince's Bay\",\"Erasmus\",\"Far Rockaway\",\"Financial District North\",\"Financial District South\",\"Flatbush/Ditmas Park\",\"Flatiron\",\"Flatlands\",\"Flushing\",\"Flushing Meadows-Corona Park\",\"Fordham South\",\"Forest Hills\",\"Forest Park/Highland Park\",\"Fort Greene\",\"Fresh Meadows\",\"Freshkills Park\",\"Garment District\",\"Glen Oaks\",\"Glendale\",\"Governor's Island/Ellis Island/Liberty Island\",\"Governor's Island/Ellis Island/Liberty Island\",\"Governor's Island/Ellis Island/Liberty Island\",\"Gowanus\",\"Gramercy\",\"Gravesend\",\"Great Kills\",\"Great Kills Park\",\"Green-Wood Cemetery\",\"Greenpoint\",\"Greenwich Village North\",\"Greenwich Village South\",\"Grymes Hill/Clifton\",\"Hamilton Heights\",\"Hammels/Arverne\",\"Heartland Village/Todt Hill\",\"Highbridge\",\"Highbridge Park\",\"Hillcrest/Pomonok\",\"Hollis\",\"Homecrest\",\"Howard Beach\",\"Hudson Sq\",\"Hunts Point\",\"Inwood\",\"Inwood Hill Park\",\"Jackson Heights\",\"Jamaica\",\"Jamaica Estates\",\"JFK Airport\",\"Kensington\",\"Kew Gardens\",\"Kew Gardens Hills\",\"Kingsbridge Heights\",\"Kips Bay\",\"LaGuardia Airport\",\"Laurelton\",\"Lenox Hill East\",\"Lenox Hill West\",\"Lincoln Square East\",\"Lincoln Square West\",\"Little Italy/NoLiTa\",\"Long Island City/Hunters Point\",\"Long Island City/Queens Plaza\",\"Longwood\",\"Lower East Side\",\"Madison\",\"Manhattan Beach\",\"Manhattan Valley\",\"Manhattanville\",\"Marble Hill\",\"Marine Park/Floyd Bennett Field\",\"Marine Park/Mill Basin\",\"Mariners Harbor\",\"Maspeth\",\"Meatpacking/West Village West\",\"Melrose South\",\"Middle Village\",\"Midtown Center\",\"Midtown East\",\"Midtown North\",\"Midtown South\",\"Midwood\",\"Morningside Heights\",\"Morrisania/Melrose\",\"Mott Haven/Port Morris\",\"Mount Hope\",\"Murray Hill\",\"Murray Hill-Queens\",\"New Dorp/Midland Beach\",\"North Corona\",\"Norwood\",\"Oakland Gardens\",\"Oakwood\",\"Ocean Hill\",\"Ocean Parkway South\",\"Old Astoria\",\"Ozone Park\",\"Park Slope\",\"Parkchester\",\"Pelham Bay\",\"Pelham Bay Park\",\"Pelham Parkway\",\"Penn Station/Madison Sq West\",\"Port Richmond\",\"Prospect-Lefferts Gardens\",\"Prospect Heights\",\"Prospect Park\",\"Queens Village\",\"Queensboro Hill\",\"Queensbridge/Ravenswood\",\"Randalls Island\",\"Red Hook\",\"Rego Park\",\"Richmond Hill\",\"Ridgewood\",\"Rikers Island\",\"Riverdale/North Riverdale/Fieldston\",\"Rockaway Park\",\"Roosevelt Island\",\"Rosedale\",\"Rossville/Woodrow\",\"Saint Albans\",\"Saint George/New Brighton\",\"Saint Michaels Cemetery/Woodside\",\"Schuylerville/Edgewater Park\",\"Seaport\",\"Sheepshead Bay\",\"SoHo\",\"Soundview/Bruckner\",\"Soundview/Castle Hill\",\"South Beach/Dongan Hills\",\"South Jamaica\",\"South Ozone Park\",\"South Williamsburg\",\"Springfield Gardens North\",\"Springfield Gardens South\",\"Spuyten Duyvil/Kingsbridge\",\"Stapleton\",\"Starrett City\",\"Steinway\",\"Stuy Town/Peter Cooper Village\",\"Stuyvesant Heights\",\"Sunnyside\",\"Sunset Park East\",\"Sunset Park West\",\"Sutton Place/Turtle Bay North\",\"Times Sq/Theatre District\",\"TriBeCa/Civic Center\",\"Two Bridges/Seward Park\",\"UN/Turtle Bay South\",\"Union Sq\",\"University Heights/Morris Heights\",\"Upper East Side North\",\"Upper East Side South\",\"Upper West Side North\",\"Upper West Side South\",\"Van Cortlandt Park\",\"Van Cortlandt Village\",\"Van Nest/Morris Park\",\"Washington Heights North\",\"Washington Heights South\",\"West Brighton\",\"West Chelsea/Hudson Yards\",\"West Concourse\",\"West Farms/Bronx River\",\"West Village\",\"Westchester Village/Unionport\",\"Westerleigh\",\"Whitestone\",\"Willets Point\",\"Williamsbridge/Olinville\",\"Williamsburg (North Side)\",\"Williamsburg (South Side)\",\"Windsor Terrace\",\"Woodhaven\",\"Woodlawn/Wakefield\",\"Woodside\",\"World Trade Center\",\"Yorkville East\",\"Yorkville West\"],\"lat\":[40.68951564804311,40.6257242377511,40.8658875419774,40.7241521436714,40.550340123832,40.5990621740821,40.761084729151,40.77860696177039,40.754410927111394,40.6781247031195,40.60397770880979,40.7024884135418,40.7116120831165,40.62358427930889,40.7852195006457,40.7612088345005,40.6919940962748,40.8687628819908,40.7364724391387,40.8577731142544,40.602048984009706,40.6096273400171,40.607504219542,40.8020327729942,40.685614589464,40.6286122405859,40.5589500919216,40.710852781755,40.582195546571,40.60487218378989,40.859920521140005,40.86445170642521,40.6962383270628,40.7025590381029,40.66380982261511,40.6990847380764,40.6962674524983,40.6932955704325,40.638878929924296,40.6785042230919,40.8042048286288,40.8210462140976,40.7824597386361,40.527298175003,40.7130578275841,40.847499898485495,40.8457549453718,40.7622367556144,40.6885158752504,40.7666923746668,40.874061550909,40.6866045417646,40.7819879584294,40.6869911475205,40.5768996198541,40.7415986155017,40.7523160392058,40.8414754987567,40.8388599905968,40.83129411878829,40.6738428461316,40.6670895607261,40.6848101947076,40.760631276033,40.6953726093294,40.701732471687,40.6184544072203,40.7483972248318,40.8306076776139,40.7639478203254,40.6439285192804,40.6524606311874,40.753697486945896,40.8055655654775,40.7906501597646,40.65868630446621,40.6677018744258,40.8460302771125,40.7279442789046,40.7144695745871,40.87735882816371,40.738463920367295,40.7401456031773,40.5320172010873,40.6472549665241,40.6025539265615,40.706659617356,40.7033938017209,40.64098273381,40.7425461606612,40.6273899924426,40.7641272834135,40.7392346574674,40.858260764359606,40.7234652723597,40.6957609903045,40.6906156556941,40.7338412186621,40.5796179453647,40.753514091774605,40.74372178358129,40.7026793599143,40.6898605712245,40.6986732840584,40.6881378249245,40.6733611676171,40.7373483763208,40.5891103441533,40.548830715909205,40.5432675249983,40.6521158025647,40.7288303471399,40.7324859518256,40.7286117315904,40.6201275450588,40.827535259806,40.5960558298222,40.5856310621159,40.8367300313346,40.8460040720504,40.7273471948519,40.7110684671189,40.6002048027388,40.6595667686077,40.7253763405368,40.813918192187,40.865062683291605,40.8721876093241,40.7590574739636,40.7032738833012,40.720412328134,40.64260452171779,40.63938720388779,40.7087501798075,40.7294099643617,40.8648027310875,40.7403592357115,40.7748673895178,40.6777493674309,40.7655068182316,40.7668388165846,40.7739059853886,40.77577020957129,40.7205814515076,40.7465899679036,40.7545288941149,40.8191985303455,40.7192116742044,40.6065579859268,40.58026232412529,40.797866268004,40.8175772001908,40.8756004059432,40.593118666611,40.6177885388735,40.628748375485294,40.7240393566008,40.735248066679,40.8182594605072,40.7185038197548,40.758226481221705,40.7568161553126,40.7644254534051,40.7488076668144,40.620958700086206,40.80957022827229,40.8279880356749,40.80743953086439,40.849114821914704,40.7476542811031,40.7689436687832,40.5724654201423,40.751779243921206,40.876852592167104,40.743273849336,40.5620606070131,40.6770986129152,40.6176331814343,40.7714253418156,40.6751638515945,40.672019140546,40.8374043586994,40.8495686468422,40.8647854171785,40.8534716586784,40.7484763617618,40.62545371993789,40.6575600630782,40.6771824866237,40.6606075676682,40.7142783033807,40.7444109985,40.7617244307638,40.7914329582306,40.6754616838619,40.7236478589889,40.6930004742218,40.7045215336003,40.79204594322261,40.899859621114295,40.577468718337,40.761167913907705,40.6595017770463,40.5407426890056,40.6922189718589,40.6359593979133,40.7635113549352,40.8246861384134,40.7084896914032,40.5937616085004,40.7238990714701,40.8282769856365,40.816490762555,40.5866190655298,40.694190301351206,40.6770712325623,40.703249610232,40.6736200279408,40.6602284956109,40.8819009385792,40.6202239775881,40.6468719097136,40.778193328200494,40.7317281591558,40.6887850672001,40.7352734102809,40.6415976370168,40.653618206901896,40.756589298489295,40.759844740029294,40.718695641007706,40.7153860841071,40.7491720982236,40.7403134645878,40.8535029301211,40.7804914757347,40.7685418846646,40.7917662467824,40.7841073645538,40.8947464191253,40.8759758476571,40.8495965844009,40.858670286631295,40.8412186698664,40.628478475102,40.7524372519647,40.8292114745072,40.8346771999308,40.7346115559814,40.8324906886295,40.619605516153705,40.788360648021005,40.7600863368444,40.8832233292992,40.7188341922346,40.7109771296904,40.6536644952118,40.6901263678129,40.8991027731978,40.7467977944692,40.708975618892005,40.776534228995104,40.7784958687768],\"legendgroup\":\"\",\"lon\":[-74.1767857452143,-73.8261257703202,-73.8494789238597,-73.97702292193391,-74.1899296712375,-74.06777446074209,-73.9214905669465,-73.92320240928359,-73.78802024874071,-73.7916654578906,-74.01061563053621,-74.0154903292143,-74.0161196692833,-74.03044705082971,-73.78797108474359,-73.7716678221165,-73.9491813010382,-73.8869219948557,-73.7278693961567,-73.88603484053459,-73.9813007259727,-73.9942970150052,-74.1594432875648,-73.9655685290937,-73.9864589876713,-73.9895604065528,-73.90978119781441,-73.80732908405,-73.9605798481175,-73.8200975464803,-73.875722045295,-73.8646241408313,-73.995328797204,-73.96769896867909,-73.9124814882782,-73.91656398027341,-73.9259483634522,-73.7355495585459,-73.899773871952,-73.9958180819094,-73.9520653308923,-73.9395164693167,-73.96557217995941,-74.2295465457844,-73.9982526213797,-73.7864863118305,-73.89692914923229,-73.9898566508315,-73.9649337316477,-73.9938994033218,-73.8304236318969,-73.9969224713871,-73.84407034588571,-74.003092790563,-73.9904741395563,-73.8590533534623,-73.853384474855,-73.8207053822972,-73.8930744338338,-73.8897822026553,-73.94128202922141,-73.9492699670747,-73.8776764323789,-73.7313921625056,-73.9855710635353,-73.9863827475546,-74.0147358711929,-73.9999401565074,-73.9153662202336,-73.86840291436441,-73.93773452015779,-73.9202100548833,-73.8065843331469,-73.9383104968462,-73.9449566676846,-73.8784173669943,-73.8957171569753,-73.88664559406891,-73.9852141243977,-73.94232930719009,-73.8455325663154,-73.8723440095934,-73.889221829475,-74.17393732693841,-73.95220883684641,-73.7541867292922,-74.0078121163865,-74.01130777063679,-73.9626937337469,-73.9967775123964,-73.932543590688,-73.8304471275476,-73.84189275500859,-73.900591010865,-73.84821993627051,-73.8760122181239,-73.975576580035,-73.7795502346253,-74.187702737221,-73.98878589284921,-73.7090705910379,-73.8819987296701,-74.0451814058337,-74.0391308720565,-74.0187943689955,-73.9917635756064,-73.9833103532463,-73.98037615109371,-74.1527146857649,-74.1258464065771,-73.990988902762,-73.9484721972696,-73.9946282171513,-73.9986779466048,-74.0924861023209,-73.9473675432227,-73.77608410155109,-74.1370701313217,-73.9269662109924,-73.9308068517413,-73.79968830757159,-73.7615641851515,-73.9651983047602,-73.8500050428708,-74.0071756920052,-73.8849772729363,-73.9203254718565,-73.9254320855109,-73.8874063794919,-73.8003475246798,-73.77137449507269,-73.77826365890199,-73.97433619770429,-73.8299927030517,-73.82398551387591,-73.9057199662352,-73.9771193707357,-73.8728037146871,-73.7433230842567,-73.9545680421348,-73.9597126787805,-73.98135241373991,-73.9879729664182,-73.9974066841975,-73.94869919181721,-73.9336340945451,-73.8981929347315,-73.9907183626618,-73.94847420881209,-73.9428842620734,-73.9678083909732,-73.95432487462709,-73.9110625766578,-73.89612330695009,-73.9067693423191,-74.1648593047613,-73.90192569084421,-74.0083857570117,-73.91358298976441,-73.8807122478637,-73.9774318381095,-73.9721454850812,-73.97836698802041,-73.98592880648721,-73.95460294826191,-73.9618152643826,-73.9044425941057,-73.9170580317151,-73.9050214600049,-73.9769419924356,-73.8088807171629,-74.1039265024817,-73.8630837007824,-73.87776056184659,-73.75735677160671,-74.1196124324174,-73.9111057913062,-73.9706887790417,-73.9268123582238,-73.8493643543423,-73.979044896845,-73.8579416206911,-73.83185405296459,-73.8046108382118,-73.85518043318041,-73.99245532771059,-74.1411524820629,-73.94520015759,-73.968269632125,-73.9709500738325,-73.74112042074971,-73.8151925356493,-73.94028630330509,-73.9210290324994,-74.009549313284,-73.8640102120344,-73.8290435569064,-73.9019937512221,-73.8835364013293,-73.9064606078974,-73.8472464785559,-73.9504104879777,-73.73671880894409,-74.2069729508607,-73.7626156564313,-74.12316375647309,-73.8993250159726,-73.824886342133,-74.00235972445249,-73.94433604544159,-74.0013747299582,-73.8699019343016,-73.86079103704921,-74.0858854521269,-73.7903675378715,-73.8205132705286,-73.95684576885641,-73.7721162803473,-73.7610079604205,-73.9118772631728,-74.08133476136621,-73.8821375169092,-73.906671830047,-73.9778420751297,-73.9314448522357,-73.9293212827563,-74.00679455179291,-74.009960471569,-73.9651741989212,-73.9841761608222,-74.00671162438991,-73.98230670494641,-73.97125597712959,-73.9904776189691,-73.9149683294755,-73.9569723853064,-73.9656914919459,-73.97281451745029,-73.97827334184859,-73.8790671945698,-73.8964501437395,-73.8398789614734,-73.9328243182356,-73.9416668140575,-74.10317060675209,-74.004512572075,-73.9250591826957,-73.8710104534108,-74.00249690862721,-73.84947867538979,-74.1232368409925,-73.8153942986072,-73.84147454859091,-73.85826965181771,-73.9571337756889,-73.9591078838642,-73.9772393111852,-73.8566390530717,-73.85635111728891,-73.9037132789432,-74.0129193755126,-73.94582981800791,-73.9512079916544],\"marker\":{\"color\":\"#636efa\"},\"mode\":\"markers\",\"name\":\"\",\"showlegend\":false,\"subplot\":\"mapbox\",\"type\":\"scattermapbox\"}],                        {\"template\":{\"data\":{\"histogram2dcontour\":[{\"type\":\"histogram2dcontour\",\"colorbar\":{\"outlinewidth\":0,\"ticks\":\"\"},\"colorscale\":[[0.0,\"#0d0887\"],[0.1111111111111111,\"#46039f\"],[0.2222222222222222,\"#7201a8\"],[0.3333333333333333,\"#9c179e\"],[0.4444444444444444,\"#bd3786\"],[0.5555555555555556,\"#d8576b\"],[0.6666666666666666,\"#ed7953\"],[0.7777777777777778,\"#fb9f3a\"],[0.8888888888888888,\"#fdca26\"],[1.0,\"#f0f921\"]]}],\"choropleth\":[{\"type\":\"choropleth\",\"colorbar\":{\"outlinewidth\":0,\"ticks\":\"\"}}],\"histogram2d\":[{\"type\":\"histogram2d\",\"colorbar\":{\"outlinewidth\":0,\"ticks\":\"\"},\"colorscale\":[[0.0,\"#0d0887\"],[0.1111111111111111,\"#46039f\"],[0.2222222222222222,\"#7201a8\"],[0.3333333333333333,\"#9c179e\"],[0.4444444444444444,\"#bd3786\"],[0.5555555555555556,\"#d8576b\"],[0.6666666666666666,\"#ed7953\"],[0.7777777777777778,\"#fb9f3a\"],[0.8888888888888888,\"#fdca26\"],[1.0,\"#f0f921\"]]}],\"heatmap\":[{\"type\":\"heatmap\",\"colorbar\":{\"outlinewidth\":0,\"ticks\":\"\"},\"colorscale\":[[0.0,\"#0d0887\"],[0.1111111111111111,\"#46039f\"],[0.2222222222222222,\"#7201a8\"],[0.3333333333333333,\"#9c179e\"],[0.4444444444444444,\"#bd3786\"],[0.5555555555555556,\"#d8576b\"],[0.6666666666666666,\"#ed7953\"],[0.7777777777777778,\"#fb9f3a\"],[0.8888888888888888,\"#fdca26\"],[1.0,\"#f0f921\"]]}],\"heatmapgl\":[{\"type\":\"heatmapgl\",\"colorbar\":{\"outlinewidth\":0,\"ticks\":\"\"},\"colorscale\":[[0.0,\"#0d0887\"],[0.1111111111111111,\"#46039f\"],[0.2222222222222222,\"#7201a8\"],[0.3333333333333333,\"#9c179e\"],[0.4444444444444444,\"#bd3786\"],[0.5555555555555556,\"#d8576b\"],[0.6666666666666666,\"#ed7953\"],[0.7777777777777778,\"#fb9f3a\"],[0.8888888888888888,\"#fdca26\"],[1.0,\"#f0f921\"]]}],\"contourcarpet\":[{\"type\":\"contourcarpet\",\"colorbar\":{\"outlinewidth\":0,\"ticks\":\"\"}}],\"contour\":[{\"type\":\"contour\",\"colorbar\":{\"outlinewidth\":0,\"ticks\":\"\"},\"colorscale\":[[0.0,\"#0d0887\"],[0.1111111111111111,\"#46039f\"],[0.2222222222222222,\"#7201a8\"],[0.3333333333333333,\"#9c179e\"],[0.4444444444444444,\"#bd3786\"],[0.5555555555555556,\"#d8576b\"],[0.6666666666666666,\"#ed7953\"],[0.7777777777777778,\"#fb9f3a\"],[0.8888888888888888,\"#fdca26\"],[1.0,\"#f0f921\"]]}],\"surface\":[{\"type\":\"surface\",\"colorbar\":{\"outlinewidth\":0,\"ticks\":\"\"},\"colorscale\":[[0.0,\"#0d0887\"],[0.1111111111111111,\"#46039f\"],[0.2222222222222222,\"#7201a8\"],[0.3333333333333333,\"#9c179e\"],[0.4444444444444444,\"#bd3786\"],[0.5555555555555556,\"#d8576b\"],[0.6666666666666666,\"#ed7953\"],[0.7777777777777778,\"#fb9f3a\"],[0.8888888888888888,\"#fdca26\"],[1.0,\"#f0f921\"]]}],\"mesh3d\":[{\"type\":\"mesh3d\",\"colorbar\":{\"outlinewidth\":0,\"ticks\":\"\"}}],\"scatter\":[{\"fillpattern\":{\"fillmode\":\"overlay\",\"size\":10,\"solidity\":0.2},\"type\":\"scatter\"}],\"parcoords\":[{\"type\":\"parcoords\",\"line\":{\"colorbar\":{\"outlinewidth\":0,\"ticks\":\"\"}}}],\"scatterpolargl\":[{\"type\":\"scatterpolargl\",\"marker\":{\"colorbar\":{\"outlinewidth\":0,\"ticks\":\"\"}}}],\"bar\":[{\"error_x\":{\"color\":\"#2a3f5f\"},\"error_y\":{\"color\":\"#2a3f5f\"},\"marker\":{\"line\":{\"color\":\"#E5ECF6\",\"width\":0.5},\"pattern\":{\"fillmode\":\"overlay\",\"size\":10,\"solidity\":0.2}},\"type\":\"bar\"}],\"scattergeo\":[{\"type\":\"scattergeo\",\"marker\":{\"colorbar\":{\"outlinewidth\":0,\"ticks\":\"\"}}}],\"scatterpolar\":[{\"type\":\"scatterpolar\",\"marker\":{\"colorbar\":{\"outlinewidth\":0,\"ticks\":\"\"}}}],\"histogram\":[{\"marker\":{\"pattern\":{\"fillmode\":\"overlay\",\"size\":10,\"solidity\":0.2}},\"type\":\"histogram\"}],\"scattergl\":[{\"type\":\"scattergl\",\"marker\":{\"colorbar\":{\"outlinewidth\":0,\"ticks\":\"\"}}}],\"scatter3d\":[{\"type\":\"scatter3d\",\"line\":{\"colorbar\":{\"outlinewidth\":0,\"ticks\":\"\"}},\"marker\":{\"colorbar\":{\"outlinewidth\":0,\"ticks\":\"\"}}}],\"scattermapbox\":[{\"type\":\"scattermapbox\",\"marker\":{\"colorbar\":{\"outlinewidth\":0,\"ticks\":\"\"}}}],\"scatterternary\":[{\"type\":\"scatterternary\",\"marker\":{\"colorbar\":{\"outlinewidth\":0,\"ticks\":\"\"}}}],\"scattercarpet\":[{\"type\":\"scattercarpet\",\"marker\":{\"colorbar\":{\"outlinewidth\":0,\"ticks\":\"\"}}}],\"carpet\":[{\"aaxis\":{\"endlinecolor\":\"#2a3f5f\",\"gridcolor\":\"white\",\"linecolor\":\"white\",\"minorgridcolor\":\"white\",\"startlinecolor\":\"#2a3f5f\"},\"baxis\":{\"endlinecolor\":\"#2a3f5f\",\"gridcolor\":\"white\",\"linecolor\":\"white\",\"minorgridcolor\":\"white\",\"startlinecolor\":\"#2a3f5f\"},\"type\":\"carpet\"}],\"table\":[{\"cells\":{\"fill\":{\"color\":\"#EBF0F8\"},\"line\":{\"color\":\"white\"}},\"header\":{\"fill\":{\"color\":\"#C8D4E3\"},\"line\":{\"color\":\"white\"}},\"type\":\"table\"}],\"barpolar\":[{\"marker\":{\"line\":{\"color\":\"#E5ECF6\",\"width\":0.5},\"pattern\":{\"fillmode\":\"overlay\",\"size\":10,\"solidity\":0.2}},\"type\":\"barpolar\"}],\"pie\":[{\"automargin\":true,\"type\":\"pie\"}]},\"layout\":{\"autotypenumbers\":\"strict\",\"colorway\":[\"#636efa\",\"#EF553B\",\"#00cc96\",\"#ab63fa\",\"#FFA15A\",\"#19d3f3\",\"#FF6692\",\"#B6E880\",\"#FF97FF\",\"#FECB52\"],\"font\":{\"color\":\"#2a3f5f\"},\"hovermode\":\"closest\",\"hoverlabel\":{\"align\":\"left\"},\"paper_bgcolor\":\"white\",\"plot_bgcolor\":\"#E5ECF6\",\"polar\":{\"bgcolor\":\"#E5ECF6\",\"angularaxis\":{\"gridcolor\":\"white\",\"linecolor\":\"white\",\"ticks\":\"\"},\"radialaxis\":{\"gridcolor\":\"white\",\"linecolor\":\"white\",\"ticks\":\"\"}},\"ternary\":{\"bgcolor\":\"#E5ECF6\",\"aaxis\":{\"gridcolor\":\"white\",\"linecolor\":\"white\",\"ticks\":\"\"},\"baxis\":{\"gridcolor\":\"white\",\"linecolor\":\"white\",\"ticks\":\"\"},\"caxis\":{\"gridcolor\":\"white\",\"linecolor\":\"white\",\"ticks\":\"\"}},\"coloraxis\":{\"colorbar\":{\"outlinewidth\":0,\"ticks\":\"\"}},\"colorscale\":{\"sequential\":[[0.0,\"#0d0887\"],[0.1111111111111111,\"#46039f\"],[0.2222222222222222,\"#7201a8\"],[0.3333333333333333,\"#9c179e\"],[0.4444444444444444,\"#bd3786\"],[0.5555555555555556,\"#d8576b\"],[0.6666666666666666,\"#ed7953\"],[0.7777777777777778,\"#fb9f3a\"],[0.8888888888888888,\"#fdca26\"],[1.0,\"#f0f921\"]],\"sequentialminus\":[[0.0,\"#0d0887\"],[0.1111111111111111,\"#46039f\"],[0.2222222222222222,\"#7201a8\"],[0.3333333333333333,\"#9c179e\"],[0.4444444444444444,\"#bd3786\"],[0.5555555555555556,\"#d8576b\"],[0.6666666666666666,\"#ed7953\"],[0.7777777777777778,\"#fb9f3a\"],[0.8888888888888888,\"#fdca26\"],[1.0,\"#f0f921\"]],\"diverging\":[[0,\"#8e0152\"],[0.1,\"#c51b7d\"],[0.2,\"#de77ae\"],[0.3,\"#f1b6da\"],[0.4,\"#fde0ef\"],[0.5,\"#f7f7f7\"],[0.6,\"#e6f5d0\"],[0.7,\"#b8e186\"],[0.8,\"#7fbc41\"],[0.9,\"#4d9221\"],[1,\"#276419\"]]},\"xaxis\":{\"gridcolor\":\"white\",\"linecolor\":\"white\",\"ticks\":\"\",\"title\":{\"standoff\":15},\"zerolinecolor\":\"white\",\"automargin\":true,\"zerolinewidth\":2},\"yaxis\":{\"gridcolor\":\"white\",\"linecolor\":\"white\",\"ticks\":\"\",\"title\":{\"standoff\":15},\"zerolinecolor\":\"white\",\"automargin\":true,\"zerolinewidth\":2},\"scene\":{\"xaxis\":{\"backgroundcolor\":\"#E5ECF6\",\"gridcolor\":\"white\",\"linecolor\":\"white\",\"showbackground\":true,\"ticks\":\"\",\"zerolinecolor\":\"white\",\"gridwidth\":2},\"yaxis\":{\"backgroundcolor\":\"#E5ECF6\",\"gridcolor\":\"white\",\"linecolor\":\"white\",\"showbackground\":true,\"ticks\":\"\",\"zerolinecolor\":\"white\",\"gridwidth\":2},\"zaxis\":{\"backgroundcolor\":\"#E5ECF6\",\"gridcolor\":\"white\",\"linecolor\":\"white\",\"showbackground\":true,\"ticks\":\"\",\"zerolinecolor\":\"white\",\"gridwidth\":2}},\"shapedefaults\":{\"line\":{\"color\":\"#2a3f5f\"}},\"annotationdefaults\":{\"arrowcolor\":\"#2a3f5f\",\"arrowhead\":0,\"arrowwidth\":1},\"geo\":{\"bgcolor\":\"white\",\"landcolor\":\"#E5ECF6\",\"subunitcolor\":\"white\",\"showland\":true,\"showlakes\":true,\"lakecolor\":\"white\"},\"title\":{\"x\":0.05},\"mapbox\":{\"style\":\"light\"}}},\"mapbox\":{\"domain\":{\"x\":[0.0,1.0],\"y\":[0.0,1.0]},\"center\":{\"lat\":40.7259653986699,\"lon\":-73.93124570030217},\"zoom\":8,\"style\":\"carto-positron\"},\"legend\":{\"tracegroupgap\":0},\"margin\":{\"t\":60}},                        {\"responsive\": true}                    ).then(function(){\n",
       "                            \n",
       "var gd = document.getElementById('1827f8a3-bd8b-439f-b86c-8a994649cbcd');\n",
       "var x = new MutationObserver(function (mutations, observer) {{\n",
       "        var display = window.getComputedStyle(gd).display;\n",
       "        if (!display || display === 'none') {{\n",
       "            console.log([gd, 'removed!']);\n",
       "            Plotly.purge(gd);\n",
       "            observer.disconnect();\n",
       "        }}\n",
       "}});\n",
       "\n",
       "// Listen for the removal of the full notebook cells\n",
       "var notebookContainer = gd.closest('#notebook-container');\n",
       "if (notebookContainer) {{\n",
       "    x.observe(notebookContainer, {childList: true});\n",
       "}}\n",
       "\n",
       "// Listen for the clearing of the current output cell\n",
       "var outputEl = gd.closest('.output');\n",
       "if (outputEl) {{\n",
       "    x.observe(outputEl, {childList: true});\n",
       "}}\n",
       "\n",
       "                        })                };                });            </script>        </div>"
      ]
     },
     "metadata": {},
     "output_type": "display_data"
    }
   ],
   "source": [
    "%%local\n",
    "\n",
    "fig = px.scatter_mapbox(\n",
    "    nyc_locations, lat=\"lat\", lon=\"lon\", hover_name=\"Zone\", zoom=8\n",
    ")\n",
    "fig.update_layout(mapbox_style=\"carto-positron\")\n",
    "fig.show()"
   ]
  },
  {
   "cell_type": "markdown",
   "id": "a009f698",
   "metadata": {
    "id": "a009f698"
   },
   "source": [
    "You can look at more built-in plotly.js options for the map style in the [documentation](https://plotly.com/python/reference/layout/mapbox/#layout-mapbox-style)."
   ]
  },
  {
   "cell_type": "markdown",
   "id": "9f312fba-997b-4ab1-93fa-d810c606bb65",
   "metadata": {
    "id": "9f312fba-997b-4ab1-93fa-d810c606bb65"
   },
   "source": [
    "<div id=\"container\" style=\"position:relative;\">\n",
    "<div style=\"position:relative; float:right\"><img style=\"height:25px\"\"width: 50px\" src=\"data:image/png;base64,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\" />\n",
    "</div>\n",
    "</div>"
   ]
  }
 ],
 "metadata": {
  "colab": {
   "collapsed_sections": [
    "500165c9",
    "82821c32",
    "a569e3d5",
    "e671bad3",
    "fc9f251e",
    "b23851d2",
    "81a58960",
    "911d51b1",
    "b063e710",
    "54ef9f67",
    "2d130ad9"
   ],
   "name": "Spark with Solutions [NEW].ipynb",
   "provenance": [],
   "toc_visible": true
  },
  "kernelspec": {
   "display_name": "PySpark",
   "language": "python",
   "name": "pysparkkernel"
  },
  "language_info": {
   "codemirror_mode": {
    "name": "python",
    "version": 3
   },
   "file_extension": ".py",
   "mimetype": "text/x-python",
   "name": "pyspark",
   "pygments_lexer": "python3"
  },
  "toc": {
   "base_numbering": 1,
   "nav_menu": {},
   "number_sections": false,
   "sideBar": true,
   "skip_h1_title": true,
   "title_cell": "Table of Contents",
   "title_sidebar": "Contents",
   "toc_cell": false,
   "toc_position": {},
   "toc_section_display": true,
   "toc_window_display": false
  }
 },
 "nbformat": 4,
 "nbformat_minor": 5
}
