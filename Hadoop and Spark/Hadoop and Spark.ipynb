{
 "cells": [
  {
   "cell_type": "code",
   "execution_count": 1,
   "metadata": {},
   "outputs": [
    {
     "data": {
      "text/plain": [
       "['Collecting boto3',\n",
       " '  Downloading boto3-1.34.65-py3-none-any.whl.metadata (6.6 kB)',\n",
       " 'INFO: pip is looking at multiple versions of boto3 to determine which version is compatible with other requirements. This could take a while.',\n",
       " '  Downloading boto3-1.34.64-py3-none-any.whl.metadata (6.6 kB)',\n",
       " 'Collecting botocore<1.35.0,>=1.34.64 (from boto3)',\n",
       " '  Downloading botocore-1.34.64-py3-none-any.whl.metadata (5.7 kB)',\n",
       " 'Requirement already satisfied: jmespath<2.0.0,>=0.7.1 in c:\\\\users\\\\jay\\\\.conda\\\\envs\\\\ai\\\\lib\\\\site-packages (from boto3) (1.0.1)',\n",
       " 'Collecting s3transfer<0.11.0,>=0.10.0 (from boto3)',\n",
       " '  Downloading s3transfer-0.10.1-py3-none-any.whl.metadata (1.7 kB)',\n",
       " 'Requirement already satisfied: python-dateutil<3.0.0,>=2.1 in c:\\\\users\\\\jay\\\\.conda\\\\envs\\\\ai\\\\lib\\\\site-packages (from botocore<1.35.0,>=1.34.64->boto3) (2.8.2)',\n",
       " 'Requirement already satisfied: urllib3!=2.2.0,<3,>=1.25.4 in c:\\\\users\\\\jay\\\\.conda\\\\envs\\\\ai\\\\lib\\\\site-packages (from botocore<1.35.0,>=1.34.64->boto3) (1.26.18)',\n",
       " 'Requirement already satisfied: six>=1.5 in c:\\\\users\\\\jay\\\\.conda\\\\envs\\\\ai\\\\lib\\\\site-packages (from python-dateutil<3.0.0,>=2.1->botocore<1.35.0,>=1.34.64->boto3) (1.16.0)',\n",
       " 'Downloading boto3-1.34.64-py3-none-any.whl (139 kB)',\n",
       " '   ---------------------------------------- 0.0/139.3 kB ? eta -:--:--',\n",
       " '   ----------- ---------------------------- 41.0/139.3 kB 1.9 MB/s eta 0:00:01',\n",
       " '   ---------------------------------------- 139.3/139.3 kB 2.7 MB/s eta 0:00:00',\n",
       " 'Downloading botocore-1.34.64-py3-none-any.whl (12.0 MB)',\n",
       " '   ---------------------------------------- 0.0/12.0 MB ? eta -:--:--',\n",
       " '   - -------------------------------------- 0.4/12.0 MB 9.2 MB/s eta 0:00:02',\n",
       " '   --- ------------------------------------ 1.1/12.0 MB 11.4 MB/s eta 0:00:01',\n",
       " '   ---- ----------------------------------- 1.3/12.0 MB 13.7 MB/s eta 0:00:01',\n",
       " '   ---- ----------------------------------- 1.3/12.0 MB 13.7 MB/s eta 0:00:01',\n",
       " '   ---------- ----------------------------- 3.2/12.0 MB 14.6 MB/s eta 0:00:01',\n",
       " '   ----------- ---------------------------- 3.5/12.0 MB 13.0 MB/s eta 0:00:01',\n",
       " '   --------------- ------------------------ 4.7/12.0 MB 15.1 MB/s eta 0:00:01',\n",
       " '   ------------------ --------------------- 5.4/12.0 MB 15.1 MB/s eta 0:00:01',\n",
       " '   -------------------- ------------------- 6.1/12.0 MB 15.1 MB/s eta 0:00:01',\n",
       " '   ---------------------- ----------------- 6.9/12.0 MB 15.1 MB/s eta 0:00:01',\n",
       " '   ------------------------- -------------- 7.6/12.0 MB 15.1 MB/s eta 0:00:01',\n",
       " '   --------------------------- ------------ 8.3/12.0 MB 15.1 MB/s eta 0:00:01',\n",
       " '   ---------------------------- ----------- 8.5/12.0 MB 15.4 MB/s eta 0:00:01',\n",
       " '   -------------------------------- ------- 9.7/12.0 MB 15.5 MB/s eta 0:00:01',\n",
       " '   ---------------------------------- ----- 10.5/12.0 MB 16.0 MB/s eta 0:00:01',\n",
       " '   ------------------------------------- -- 11.2/12.0 MB 16.0 MB/s eta 0:00:01',\n",
       " '   ---------------------------------------  11.9/12.0 MB 17.7 MB/s eta 0:00:01',\n",
       " '   ---------------------------------------- 12.0/12.0 MB 16.8 MB/s eta 0:00:00',\n",
       " 'Downloading s3transfer-0.10.1-py3-none-any.whl (82 kB)',\n",
       " '   ---------------------------------------- 0.0/82.2 kB ? eta -:--:--',\n",
       " '   ---------------------------------------- 82.2/82.2 kB ? eta 0:00:00',\n",
       " 'Installing collected packages: botocore, s3transfer, boto3',\n",
       " '  Attempting uninstall: botocore',\n",
       " '    Found existing installation: botocore 1.34.51',\n",
       " '    Uninstalling botocore-1.34.51:',\n",
       " '      Successfully uninstalled botocore-1.34.51',\n",
       " \"ERROR: pip's dependency resolver does not currently take into account all the packages that are installed. This behaviour is the source of the following dependency conflicts.\",\n",
       " 'aiobotocore 2.12.0 requires botocore<1.34.52,>=1.34.41, but you have botocore 1.34.64 which is incompatible.',\n",
       " 'Successfully installed boto3-1.34.64 botocore-1.34.64 s3transfer-0.10.1']"
      ]
     },
     "execution_count": 1,
     "metadata": {},
     "output_type": "execute_result"
    }
   ],
   "source": [
    "!! pip install boto3"
   ]
  },
  {
   "cell_type": "code",
   "execution_count": 5,
   "metadata": {},
   "outputs": [
    {
     "ename": "SyntaxError",
     "evalue": "incomplete input (4255983259.py, line 5)",
     "output_type": "error",
     "traceback": [
      "\u001b[1;36m  Cell \u001b[1;32mIn[5], line 5\u001b[1;36m\u001b[0m\n\u001b[1;33m    aws_secret_access_key='abcdef'\u001b[0m\n\u001b[1;37m                                  ^\u001b[0m\n\u001b[1;31mSyntaxError\u001b[0m\u001b[1;31m:\u001b[0m incomplete input\n"
     ]
    }
   ],
   "source": [
    "s3 = boto3.client('s3')\n",
    "\n",
    "bucket_name = "
   ]
  },
  {
   "cell_type": "code",
   "execution_count": null,
   "metadata": {},
   "outputs": [],
   "source": [
    "# Print out bucket names\n",
    "for bucket in s3.buckets.all():\n",
    "    print(bucket.name)\n",
    "    "
   ]
  },
  {
   "cell_type": "code",
   "execution_count": null,
   "metadata": {},
   "outputs": [],
   "source": [
    "bucket_name = 'aws-logs-975050206953-us-east-2'\n",
    "object_key = 'C:/Users/jay/Documents/BrainStation/AWS/NewKeyPair.pem'\n",
    "local_filename = 'C:/Users/jay/Documents\\GitHub\\Projects\\Projects\\Hadoop and Spark'\n",
    "\n",
    "obj = s3.get_object(Bucket=bucket_name, Key=object_key)\n",
    "data = obj['Body'].read().decode('utf-8')  # Assuming the file is text\n"
   ]
  }
 ],
 "metadata": {
  "kernelspec": {
   "display_name": "AI",
   "language": "python",
   "name": "python3"
  },
  "language_info": {
   "codemirror_mode": {
    "name": "ipython",
    "version": 3
   },
   "file_extension": ".py",
   "mimetype": "text/x-python",
   "name": "python",
   "nbconvert_exporter": "python",
   "pygments_lexer": "ipython3",
   "version": "3.10.13"
  }
 },
 "nbformat": 4,
 "nbformat_minor": 2
}
